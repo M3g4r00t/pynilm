{
 "cells": [
  {
   "cell_type": "code",
   "execution_count": 1,
   "metadata": {},
   "outputs": [],
   "source": [
    "import warnings\n",
    "warnings.filterwarnings(\"ignore\")\n",
    "\n",
    "import os\n",
    "import sys\n",
    "\n",
    "# TODO: Create PyNilm python package\n",
    "import sys\n",
    "sys.path.append('../') # enabling pynilm import (src content)\n",
    "sys.path.append('../src/nilmtk-contrib')"
   ]
  },
  {
   "cell_type": "code",
   "execution_count": 2,
   "metadata": {},
   "outputs": [
    {
     "name": "stderr",
     "output_type": "stream",
     "text": [
      "2023-11-18 20:21:27.489026: I tensorflow/core/platform/cpu_feature_guard.cc:182] This TensorFlow binary is optimized to use available CPU instructions in performance-critical operations.\n",
      "To enable the following instructions: AVX2 FMA, in other operations, rebuild TensorFlow with the appropriate compiler flags.\n",
      "2023-11-18 20:21:30.093030: E tensorflow/compiler/xla/stream_executor/cuda/cuda_driver.cc:266] failed call to cuInit: UNKNOWN ERROR (34)\n"
     ]
    }
   ],
   "source": [
    "from nilmtk.api import API\n",
    "\n",
    "from nilmtk.disaggregate import Mean\n",
    "from nilmtk_contrib.disaggregate import DAE, Seq2Point, ResNet_classification, DTLFE\n",
    "\n",
    "from sklearn.ensemble import RandomForestClassifier\n",
    "from xgboost.sklearn import XGBClassifier"
   ]
  },
  {
   "cell_type": "code",
   "execution_count": 3,
   "metadata": {},
   "outputs": [],
   "source": [
    "redd = {\n",
    "    'power': {\n",
    "        'mains': ['apparent','active'],\n",
    "        'appliance': ['apparent','active']\n",
    "    },\n",
    "    'sample_rate': 60,\n",
    "\n",
    "    'appliances': ['fridge','microwave'],\n",
    "\n",
    "    'on_power_threshold': {\n",
    "        'fridge': 10, \n",
    "        'microwave': 10\n",
    "    },\n",
    "\n",
    "    'methods': {\n",
    "\n",
    "      # 'WindowGRU':WindowGRU({'n_epochs':50,'batch_size':32}),\n",
    "      # 'RNN':RNN({'n_epochs':50,'batch_size':32}),\n",
    "      # 'DAE':DAE({'n_epochs':1,'batch_size':32}),\n",
    "      # 'Seq2Point':Seq2Point({'n_epochs':1,'batch_size':32}),\n",
    "      \n",
    "      # 'Mean': Mean({}),\n",
    "      'DTLFE_RandomForest': DTLFE({\n",
    "          'model_name': 'DTLFE_RandomForest',\n",
    "          'n_epochs': 1,\n",
    "          'batch_size': 32,\n",
    "          'sequence_length': 201,\n",
    "          \n",
    "          'classifier': RandomForestClassifier(n_estimators=1000, n_jobs=3, random_state=42)\n",
    "      }),\n",
    "      'DTLFE_XGBOOST': DTLFE({\n",
    "          'model_name': 'DTLFE_XGBOOST',\n",
    "          'n_epochs': 1,\n",
    "          'batch_size': 32,\n",
    "          'sequence_length': 201,\n",
    "          \n",
    "          'classifier': XGBClassifier(n_estimators=1000, n_jobs=3, random_state=42)\n",
    "      }),\n",
    "        \n",
    "        'ResNet_classification':ResNet_classification({'n_epochs':1,'batch_size':32}),\n",
    "\n",
    "    },\n",
    "    \n",
    "   'train': {    \n",
    "    'datasets': {\n",
    "            'REDD': {\n",
    "                'path': '../data/redd.h5',\n",
    "\t\t\t\t'buildings': {\n",
    "                    1: {\n",
    "                        'start_time': '2011-04-01',\n",
    "                        'end_time': '2011-04-29'\n",
    "                    },\n",
    "                    3: {\n",
    "                        'start_time': '2011-04-01',\n",
    "                        'end_time': '2011-04-29'\n",
    "                    },\n",
    "\t\t\t\t}\n",
    "\t\t\t\t                \n",
    "\t\t\t},\n",
    "\t\t\t# 'UKDALE': {\n",
    "\t\t\t# 'path': 'G:/Meu Drive/phd-thesis/datasets/UK-DALE/ukdale.h5',\n",
    "\t\t\t# \t'buildings': {\n",
    "\t\t\t# 1: {\n",
    "\t\t\t# 'start_time': '2013-04-12',\n",
    "\t\t\t# 'end_time': '2014-10-21'\n",
    "\t\t\t# },\n",
    "\t\t\t# \t}                \n",
    "\t\t\t# }\n",
    "\t\t\t}\n",
    "\t},\n",
    "\t'test': {\n",
    "\t'datasets': {\n",
    "\t\t'REDD': {\n",
    "\t\t\t'path': '../data/redd.h5',\n",
    "\t\t\t'buildings': {\n",
    "\t\t\t\t1: {\n",
    "\t\t\t\t\t'start_time': '2011-04-30',\n",
    "\t\t\t\t\t'end_time': '2011-05-31'\n",
    "\t\t\t\t},\n",
    "\t\t\t}\n",
    "\t}\n",
    "},\n",
    "        'metrics':['accuracy', 'f1_macro']\n",
    "}\n",
    "}"
   ]
  },
  {
   "cell_type": "code",
   "execution_count": 4,
   "metadata": {},
   "outputs": [
    {
     "name": "stdout",
     "output_type": "stream",
     "text": [
      "Started training for  DTLFE_RandomForest\n",
      "Joint training for  DTLFE_RandomForest\n",
      "............... Loading Data for training ...................\n",
      "Loading data for  REDD  dataset\n",
      "Loading building ...  1\n"
     ]
    },
    {
     "ename": "TypeError",
     "evalue": "Cannot interpret '<attribute 'dtype' of 'numpy.generic' objects>' as a data type",
     "output_type": "error",
     "traceback": [
      "\u001b[0;31m---------------------------------------------------------------------------\u001b[0m",
      "\u001b[0;31mTypeError\u001b[0m                                 Traceback (most recent call last)",
      "\u001b[1;32m/workspaces/PyNILM/notebooks/Run Experiment API.ipynb Cell 4\u001b[0m line \u001b[0;36m2\n\u001b[1;32m      <a href='vscode-notebook-cell://dev-container%2B7b22686f737450617468223a22643a5c5c50726f6a65746f735c5c50794e494c4d222c226c6f63616c446f636b6572223a66616c73652c22636f6e66696746696c65223a7b22246d6964223a312c22667350617468223a22643a5c5c50726f6a65746f735c5c50794e494c4d5c5c2e646576636f6e7461696e65725c5c646576636f6e7461696e65722e6a736f6e222c225f736570223a312c2265787465726e616c223a2266696c653a2f2f2f642533412f50726f6a65746f732f50794e494c4d2f2e646576636f6e7461696e65722f646576636f6e7461696e65722e6a736f6e222c2270617468223a222f643a2f50726f6a65746f732f50794e494c4d2f2e646576636f6e7461696e65722f646576636f6e7461696e65722e6a736f6e222c22736368656d65223a2266696c65227d7d/workspaces/PyNILM/notebooks/Run%20Experiment%20API.ipynb#W4sdnNjb2RlLXJlbW90ZQ%3D%3D?line=0'>1</a>\u001b[0m \u001b[39m# https://dl.acm.org/doi/10.1145/3360322.3360844\u001b[39;00m\n\u001b[0;32m----> <a href='vscode-notebook-cell://dev-container%2B7b22686f737450617468223a22643a5c5c50726f6a65746f735c5c50794e494c4d222c226c6f63616c446f636b6572223a66616c73652c22636f6e66696746696c65223a7b22246d6964223a312c22667350617468223a22643a5c5c50726f6a65746f735c5c50794e494c4d5c5c2e646576636f6e7461696e65725c5c646576636f6e7461696e65722e6a736f6e222c225f736570223a312c2265787465726e616c223a2266696c653a2f2f2f642533412f50726f6a65746f732f50794e494c4d2f2e646576636f6e7461696e65722f646576636f6e7461696e65722e6a736f6e222c2270617468223a222f643a2f50726f6a65746f732f50794e494c4d2f2e646576636f6e7461696e65722f646576636f6e7461696e65722e6a736f6e222c22736368656d65223a2266696c65227d7d/workspaces/PyNILM/notebooks/Run%20Experiment%20API.ipynb#W4sdnNjb2RlLXJlbW90ZQ%3D%3D?line=1'>2</a>\u001b[0m api_res \u001b[39m=\u001b[39m API(redd)\n",
      "File \u001b[0;32m/usr/local/lib/python3.8/dist-packages/nilmtk/api.py:46\u001b[0m, in \u001b[0;36mAPI.__init__\u001b[0;34m(self, params)\u001b[0m\n\u001b[1;32m     44\u001b[0m \u001b[39mself\u001b[39m\u001b[39m.\u001b[39mDROP_ALL_NANS \u001b[39m=\u001b[39m params\u001b[39m.\u001b[39mget(\u001b[39m\"\u001b[39m\u001b[39mDROP_ALL_NANS\u001b[39m\u001b[39m\"\u001b[39m, \u001b[39mTrue\u001b[39;00m)\n\u001b[1;32m     45\u001b[0m \u001b[39mself\u001b[39m\u001b[39m.\u001b[39msite_only \u001b[39m=\u001b[39m params\u001b[39m.\u001b[39mget(\u001b[39m'\u001b[39m\u001b[39msite_only\u001b[39m\u001b[39m'\u001b[39m,\u001b[39mFalse\u001b[39;00m)\n\u001b[0;32m---> 46\u001b[0m \u001b[39mself\u001b[39;49m\u001b[39m.\u001b[39;49mexperiment()\n",
      "File \u001b[0;32m/usr/local/lib/python3.8/dist-packages/nilmtk/api.py:91\u001b[0m, in \u001b[0;36mAPI.experiment\u001b[0;34m(self)\u001b[0m\n\u001b[1;32m     88\u001b[0m \u001b[39m# if it doesn't support chunk wise training\u001b[39;00m\n\u001b[1;32m     89\u001b[0m \u001b[39melse\u001b[39;00m:\n\u001b[1;32m     90\u001b[0m     \u001b[39mprint\u001b[39m (\u001b[39m\"\u001b[39m\u001b[39mJoint training for \u001b[39m\u001b[39m\"\u001b[39m,clf\u001b[39m.\u001b[39mMODEL_NAME)\n\u001b[0;32m---> 91\u001b[0m     \u001b[39mself\u001b[39;49m\u001b[39m.\u001b[39;49mtrain_jointly(clf,d)            \n\u001b[1;32m     93\u001b[0m \u001b[39mprint\u001b[39m (\u001b[39m\"\u001b[39m\u001b[39mFinished training for \u001b[39m\u001b[39m\"\u001b[39m,clf\u001b[39m.\u001b[39mMODEL_NAME)\n\u001b[1;32m     94\u001b[0m clear_output()\n",
      "File \u001b[0;32m/usr/local/lib/python3.8/dist-packages/nilmtk/api.py:212\u001b[0m, in \u001b[0;36mAPI.train_jointly\u001b[0;34m(self, clf, d)\u001b[0m\n\u001b[1;32m    210\u001b[0m \u001b[39mprint\u001b[39m(\u001b[39m\"\u001b[39m\u001b[39mLoading building ... \u001b[39m\u001b[39m\"\u001b[39m,building)\n\u001b[1;32m    211\u001b[0m train\u001b[39m.\u001b[39mset_window(start\u001b[39m=\u001b[39md[dataset][\u001b[39m'\u001b[39m\u001b[39mbuildings\u001b[39m\u001b[39m'\u001b[39m][building][\u001b[39m'\u001b[39m\u001b[39mstart_time\u001b[39m\u001b[39m'\u001b[39m],end\u001b[39m=\u001b[39md[dataset][\u001b[39m'\u001b[39m\u001b[39mbuildings\u001b[39m\u001b[39m'\u001b[39m][building][\u001b[39m'\u001b[39m\u001b[39mend_time\u001b[39m\u001b[39m'\u001b[39m])\n\u001b[0;32m--> 212\u001b[0m train_df \u001b[39m=\u001b[39m \u001b[39mnext\u001b[39;49m(train\u001b[39m.\u001b[39;49mbuildings[building]\u001b[39m.\u001b[39;49melec\u001b[39m.\u001b[39;49mmains()\u001b[39m.\u001b[39;49mload(physical_quantity\u001b[39m=\u001b[39;49m\u001b[39m'\u001b[39;49m\u001b[39mpower\u001b[39;49m\u001b[39m'\u001b[39;49m, ac_type\u001b[39m=\u001b[39;49m\u001b[39mself\u001b[39;49m\u001b[39m.\u001b[39;49mpower[\u001b[39m'\u001b[39;49m\u001b[39mmains\u001b[39;49m\u001b[39m'\u001b[39;49m], sample_period\u001b[39m=\u001b[39;49m\u001b[39mself\u001b[39;49m\u001b[39m.\u001b[39;49msample_period))\n\u001b[1;32m    213\u001b[0m train_df \u001b[39m=\u001b[39m train_df[[\u001b[39mlist\u001b[39m(train_df\u001b[39m.\u001b[39mcolumns)[\u001b[39m0\u001b[39m]]]\n\u001b[1;32m    214\u001b[0m appliance_readings \u001b[39m=\u001b[39m []\n",
      "File \u001b[0;32m/usr/local/lib/python3.8/dist-packages/nilmtk/metergroup.py:718\u001b[0m, in \u001b[0;36mMeterGroup.load\u001b[0;34m(self, **kwargs)\u001b[0m\n\u001b[1;32m    716\u001b[0m \u001b[39mfor\u001b[39;00m section \u001b[39min\u001b[39;00m split_timeframes(sections, duration_threshold):\n\u001b[1;32m    717\u001b[0m     kwargs[\u001b[39m'\u001b[39m\u001b[39msections\u001b[39m\u001b[39m'\u001b[39m] \u001b[39m=\u001b[39m [section]\n\u001b[0;32m--> 718\u001b[0m     start \u001b[39m=\u001b[39m normalise_timestamp(section\u001b[39m.\u001b[39;49mstart, freq)\n\u001b[1;32m    719\u001b[0m     tz \u001b[39m=\u001b[39m \u001b[39mNone\u001b[39;00m \u001b[39mif\u001b[39;00m start\u001b[39m.\u001b[39mtz \u001b[39mis\u001b[39;00m \u001b[39mNone\u001b[39;00m \u001b[39melse\u001b[39;00m start\u001b[39m.\u001b[39mtz\u001b[39m.\u001b[39mzone\n\u001b[1;32m    720\u001b[0m     index \u001b[39m=\u001b[39m pd\u001b[39m.\u001b[39mdate_range(\n\u001b[1;32m    721\u001b[0m         start\u001b[39m.\u001b[39mtz_localize(\u001b[39mNone\u001b[39;00m), section\u001b[39m.\u001b[39mend\u001b[39m.\u001b[39mtz_localize(\u001b[39mNone\u001b[39;00m), tz\u001b[39m=\u001b[39mtz,\n\u001b[1;32m    722\u001b[0m         closed\u001b[39m=\u001b[39m\u001b[39m'\u001b[39m\u001b[39mleft\u001b[39m\u001b[39m'\u001b[39m, freq\u001b[39m=\u001b[39mfreq)\n",
      "File \u001b[0;32m/usr/local/lib/python3.8/dist-packages/nilmtk/utils.py:337\u001b[0m, in \u001b[0;36mnormalise_timestamp\u001b[0;34m(timestamp, freq)\u001b[0m\n\u001b[1;32m    333\u001b[0m \u001b[39m\u001b[39m\u001b[39m\"\"\"Returns the nearest Timestamp to `timestamp` which would be\u001b[39;00m\n\u001b[1;32m    334\u001b[0m \u001b[39min the set of timestamps returned by pd.DataFrame.resample(freq=freq)\u001b[39;00m\n\u001b[1;32m    335\u001b[0m \u001b[39m\"\"\"\u001b[39;00m\n\u001b[1;32m    336\u001b[0m timestamp \u001b[39m=\u001b[39m pd\u001b[39m.\u001b[39mTimestamp(timestamp)\n\u001b[0;32m--> 337\u001b[0m series \u001b[39m=\u001b[39m pd\u001b[39m.\u001b[39;49mSeries(np\u001b[39m.\u001b[39;49mNaN, index\u001b[39m=\u001b[39;49m[timestamp])\n\u001b[1;32m    338\u001b[0m resampled \u001b[39m=\u001b[39m series\u001b[39m.\u001b[39mresample(freq)\u001b[39m.\u001b[39mmean()\n\u001b[1;32m    339\u001b[0m \u001b[39mreturn\u001b[39;00m resampled\u001b[39m.\u001b[39mindex[\u001b[39m0\u001b[39m]\n",
      "File \u001b[0;32m/usr/local/lib/python3.8/dist-packages/pandas/core/series.py:314\u001b[0m, in \u001b[0;36mSeries.__init__\u001b[0;34m(self, data, index, dtype, name, copy, fastpath)\u001b[0m\n\u001b[1;32m    312\u001b[0m             data \u001b[39m=\u001b[39m data\u001b[39m.\u001b[39mcopy()\n\u001b[1;32m    313\u001b[0m     \u001b[39melse\u001b[39;00m:\n\u001b[0;32m--> 314\u001b[0m         data \u001b[39m=\u001b[39m sanitize_array(data, index, dtype, copy, raise_cast_failure\u001b[39m=\u001b[39;49m\u001b[39mTrue\u001b[39;49;00m)\n\u001b[1;32m    316\u001b[0m         data \u001b[39m=\u001b[39m SingleBlockManager(data, index, fastpath\u001b[39m=\u001b[39m\u001b[39mTrue\u001b[39;00m)\n\u001b[1;32m    318\u001b[0m generic\u001b[39m.\u001b[39mNDFrame\u001b[39m.\u001b[39m\u001b[39m__init__\u001b[39m(\u001b[39mself\u001b[39m, data, fastpath\u001b[39m=\u001b[39m\u001b[39mTrue\u001b[39;00m)\n",
      "File \u001b[0;32m/usr/local/lib/python3.8/dist-packages/pandas/core/internals/construction.py:712\u001b[0m, in \u001b[0;36msanitize_array\u001b[0;34m(data, index, dtype, copy, raise_cast_failure)\u001b[0m\n\u001b[1;32m    708\u001b[0m     \u001b[39melse\u001b[39;00m:\n\u001b[1;32m    709\u001b[0m         \u001b[39m# need to possibly convert the value here\u001b[39;00m\n\u001b[1;32m    710\u001b[0m         value \u001b[39m=\u001b[39m maybe_cast_to_datetime(value, dtype)\n\u001b[0;32m--> 712\u001b[0m     subarr \u001b[39m=\u001b[39m construct_1d_arraylike_from_scalar(value, \u001b[39mlen\u001b[39;49m(index), dtype)\n\u001b[1;32m    714\u001b[0m \u001b[39melse\u001b[39;00m:\n\u001b[1;32m    715\u001b[0m     \u001b[39mreturn\u001b[39;00m subarr\u001b[39m.\u001b[39mitem()\n",
      "File \u001b[0;32m/usr/local/lib/python3.8/dist-packages/pandas/core/dtypes/cast.py:1233\u001b[0m, in \u001b[0;36mconstruct_1d_arraylike_from_scalar\u001b[0;34m(value, length, dtype)\u001b[0m\n\u001b[1;32m   1230\u001b[0m         \u001b[39mif\u001b[39;00m \u001b[39mnot\u001b[39;00m isna(value):\n\u001b[1;32m   1231\u001b[0m             value \u001b[39m=\u001b[39m ensure_str(value)\n\u001b[0;32m-> 1233\u001b[0m     subarr \u001b[39m=\u001b[39m np\u001b[39m.\u001b[39;49mempty(length, dtype\u001b[39m=\u001b[39;49mdtype)\n\u001b[1;32m   1234\u001b[0m     subarr\u001b[39m.\u001b[39mfill(value)\n\u001b[1;32m   1236\u001b[0m \u001b[39mreturn\u001b[39;00m subarr\n",
      "\u001b[0;31mTypeError\u001b[0m: Cannot interpret '<attribute 'dtype' of 'numpy.generic' objects>' as a data type"
     ]
    }
   ],
   "source": [
    "# https://dl.acm.org/doi/10.1145/3360322.3360844\n",
    "api_res = API(redd)"
   ]
  },
  {
   "cell_type": "code",
   "execution_count": null,
   "metadata": {},
   "outputs": [
    {
     "data": {
      "text/plain": [
       "<nilmtk.api.API at 0x111eed8fe50>"
      ]
     },
     "execution_count": 5,
     "metadata": {},
     "output_type": "execute_result"
    }
   ],
   "source": [
    "api_res"
   ]
  },
  {
   "cell_type": "code",
   "execution_count": null,
   "metadata": {},
   "outputs": [
    {
     "data": {
      "text/plain": [
       "[           DTLFE_RandomForest  DTLFE_XGBOOST  ResNet_classification\n",
       " fridge               0.726850       0.726850               0.587867\n",
       " microwave            0.983871       0.983871               0.958113,\n",
       "            DTLFE_RandomForest  DTLFE_XGBOOST  ResNet_classification\n",
       " fridge               0.420911       0.420911               0.586811\n",
       " microwave            0.495935       0.495935               0.572325]"
      ]
     },
     "execution_count": 6,
     "metadata": {},
     "output_type": "execute_result"
    }
   ],
   "source": [
    "api_res.errors"
   ]
  },
  {
   "cell_type": "code",
   "execution_count": null,
   "metadata": {},
   "outputs": [
    {
     "data": {
      "text/plain": [
       "['REDD_1_accuracy', 'REDD_1_f1_macro']"
      ]
     },
     "execution_count": 7,
     "metadata": {},
     "output_type": "execute_result"
    }
   ],
   "source": [
    "api_res.errors_keys"
   ]
  },
  {
   "cell_type": "code",
   "execution_count": null,
   "metadata": {},
   "outputs": [
    {
     "data": {
      "text/plain": [
       "{'DTLFE_RandomForest':                            fridge  microwave\n",
       " 2011-04-30 00:00:00-04:00     0.0        0.0\n",
       " 2011-04-30 00:01:00-04:00     0.0        0.0\n",
       " 2011-04-30 00:02:00-04:00     0.0        0.0\n",
       " 2011-04-30 00:03:00-04:00     0.0        0.0\n",
       " 2011-04-30 00:04:00-04:00     0.0        0.0\n",
       " ...                           ...        ...\n",
       " 2011-05-24 14:31:00-04:00     0.0        0.0\n",
       " 2011-05-24 14:32:00-04:00     0.0        0.0\n",
       " 2011-05-24 14:33:00-04:00     0.0        0.0\n",
       " 2011-05-24 15:55:00-04:00     0.0        0.0\n",
       " 2011-05-24 15:56:00-04:00     0.0        0.0\n",
       " \n",
       " [12462 rows x 2 columns],\n",
       " 'DTLFE_XGBOOST':                            fridge  microwave\n",
       " 2011-04-30 00:00:00-04:00     0.0        0.0\n",
       " 2011-04-30 00:01:00-04:00     0.0        0.0\n",
       " 2011-04-30 00:02:00-04:00     0.0        0.0\n",
       " 2011-04-30 00:03:00-04:00     0.0        0.0\n",
       " 2011-04-30 00:04:00-04:00     0.0        0.0\n",
       " ...                           ...        ...\n",
       " 2011-05-24 14:31:00-04:00     0.0        0.0\n",
       " 2011-05-24 14:32:00-04:00     0.0        0.0\n",
       " 2011-05-24 14:33:00-04:00     0.0        0.0\n",
       " 2011-05-24 15:55:00-04:00     0.0        0.0\n",
       " 2011-05-24 15:56:00-04:00     0.0        0.0\n",
       " \n",
       " [12462 rows x 2 columns],\n",
       " 'ResNet_classification':                               fridge  microwave\n",
       " 2011-04-30 00:00:00-04:00  68.062141   1.258882\n",
       " 2011-04-30 00:01:00-04:00  45.708580   0.859474\n",
       " 2011-04-30 00:02:00-04:00  37.080402   0.799391\n",
       " 2011-04-30 00:03:00-04:00  33.115776   2.013669\n",
       " 2011-04-30 00:04:00-04:00  29.916571   2.289492\n",
       " ...                              ...        ...\n",
       " 2011-05-24 14:31:00-04:00  79.945885   0.000000\n",
       " 2011-05-24 14:32:00-04:00  79.845581   0.000000\n",
       " 2011-05-24 14:33:00-04:00  69.882751   0.000000\n",
       " 2011-05-24 15:55:00-04:00  66.391953   0.000000\n",
       " 2011-05-24 15:56:00-04:00  46.708870   0.000000\n",
       " \n",
       " [12462 rows x 2 columns]}"
      ]
     },
     "execution_count": 8,
     "metadata": {},
     "output_type": "execute_result"
    }
   ],
   "source": [
    "api_res.pred_overall"
   ]
  },
  {
   "cell_type": "code",
   "execution_count": null,
   "metadata": {},
   "outputs": [],
   "source": []
  },
  {
   "cell_type": "code",
   "execution_count": null,
   "metadata": {},
   "outputs": [],
   "source": []
  },
  {
   "cell_type": "code",
   "execution_count": null,
   "metadata": {},
   "outputs": [],
   "source": [
    "params = {}\n"
   ]
  },
  {
   "cell_type": "code",
   "execution_count": null,
   "metadata": {},
   "outputs": [
    {
     "data": {
      "text/plain": [
       "{'fridge': {'mean': 0, 'std': 1, 'threshold': 99}}"
      ]
     },
     "execution_count": 10,
     "metadata": {},
     "output_type": "execute_result"
    }
   ],
   "source": [
    "params.update({'fridge': {'mean':0, 'std': 1, 'threshold': 99}})\n",
    "params"
   ]
  },
  {
   "cell_type": "code",
   "execution_count": null,
   "metadata": {},
   "outputs": [],
   "source": []
  },
  {
   "cell_type": "code",
   "execution_count": null,
   "metadata": {},
   "outputs": [
    {
     "data": {
      "text/plain": [
       "array([0, 1, 2, 3])"
      ]
     },
     "execution_count": 11,
     "metadata": {},
     "output_type": "execute_result"
    }
   ],
   "source": [
    "import numpy as np\n",
    "\n",
    "np.concatenate([[0,1], [2,3]])"
   ]
  },
  {
   "cell_type": "code",
   "execution_count": null,
   "metadata": {},
   "outputs": [],
   "source": []
  }
 ],
 "metadata": {
  "kernelspec": {
   "display_name": "Python 3 (ipykernel)",
   "language": "python",
   "name": "python3"
  },
  "language_info": {
   "codemirror_mode": {
    "name": "ipython",
    "version": 3
   },
   "file_extension": ".py",
   "mimetype": "text/x-python",
   "name": "python",
   "nbconvert_exporter": "python",
   "pygments_lexer": "ipython3",
   "version": "3.8.10"
  }
 },
 "nbformat": 4,
 "nbformat_minor": 4
}
