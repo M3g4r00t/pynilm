{
 "cells": [
  {
   "cell_type": "code",
   "execution_count": 1,
   "metadata": {},
   "outputs": [],
   "source": [
    "import warnings\n",
    "warnings.filterwarnings(\"ignore\")\n",
    "\n",
    "import os\n",
    "import sys\n",
    "\n",
    "sys.path.append('C:\\\\Users\\\\DiegoCavalca\\\\Desktop\\\\phd-thesis\\\\src\\\\nilmtk')\n",
    "sys.path.append('C:\\\\Users\\\\DiegoCavalca\\\\Desktop\\\\phd-thesis\\\\src\\\\nilmtk-contrib')\n",
    "# sys.path.append(os.path.dirname(os.path.realpath(__file__)) + '/multi-nilm')"
   ]
  },
  {
   "cell_type": "code",
   "execution_count": 2,
   "metadata": {},
   "outputs": [],
   "source": [
    "from nilmtk.api import API\n",
    "\n",
    "from nilmtk.disaggregate import Mean\n",
    "from nilmtk_contrib.disaggregate import DAE, Seq2Point, ResNet_classification, DTLFE\n",
    "\n",
    "from sklearn.ensemble import RandomForestClassifier\n",
    "from xgboost.sklearn import XGBClassifier"
   ]
  },
  {
   "cell_type": "code",
   "execution_count": 3,
   "metadata": {},
   "outputs": [],
   "source": [
    "redd = {\n",
    "    'power': {\n",
    "        'mains': ['apparent','active'],\n",
    "        'appliance': ['apparent','active']\n",
    "    },\n",
    "    'sample_rate': 60,\n",
    "\n",
    "    'appliances': ['fridge', 'microwave'],\n",
    "\n",
    "    'on_power_threshold': {\n",
    "        'fridge': 10, \n",
    "        'microwave': 10\n",
    "    },\n",
    "\n",
    "    'methods': {\n",
    "\n",
    "      # 'WindowGRU':WindowGRU({'n_epochs':50,'batch_size':32}),\n",
    "      # 'RNN':RNN({'n_epochs':50,'batch_size':32}),\n",
    "      # 'DAE':DAE({'n_epochs':1,'batch_size':32}),\n",
    "      # 'Seq2Point':Seq2Point({'n_epochs':1,'batch_size':32}),\n",
    "      \n",
    "      # 'Mean': Mean({}),\n",
    "      'DTLFE_RandomForest': DTLFE({\n",
    "          'model_name': 'DTLFE_RandomForest',\n",
    "          'n_epochs': 1,\n",
    "          'batch_size': 32,\n",
    "          'sequence_length': 201,\n",
    "          \n",
    "          'classifier': RandomForestClassifier(n_estimators=1000, n_jobs=3, random_state=42)\n",
    "      }),\n",
    "      'DTLFE_XGBOOST': DTLFE({\n",
    "          'model_name': 'DTLFE_XGBOOST',\n",
    "          'n_epochs': 1,\n",
    "          'batch_size': 32,\n",
    "          'sequence_length': 201,\n",
    "          \n",
    "          'classifier': XGBClassifier(n_estimators=1000, n_jobs=3, random_state=42)\n",
    "      }),\n",
    "        \n",
    "        'ResNet_classification':ResNet_classification({'n_epochs':1,'batch_size':32}),\n",
    "\n",
    "    },\n",
    "    \n",
    "   'train': {    \n",
    "    'datasets': {\n",
    "            'REDD': {\n",
    "                'path': 'G:/Meu Drive/phd-thesis/datasets/REDD/redd.h5',\n",
    "\t\t\t\t'buildings': {\n",
    "                    1: {\n",
    "                        'start_time': '2011-04-01',\n",
    "                        'end_time': '2011-04-29'\n",
    "                    },\n",
    "                    3: {\n",
    "                        'start_time': '2011-04-01',\n",
    "                        'end_time': '2011-04-29'\n",
    "                    },\n",
    "\t\t\t\t}\n",
    "\t\t\t\t                \n",
    "\t\t\t},\n",
    "\t\t\t# 'UKDALE': {\n",
    "\t\t\t# 'path': 'G:/Meu Drive/phd-thesis/datasets/UK-DALE/ukdale.h5',\n",
    "\t\t\t# \t'buildings': {\n",
    "\t\t\t# 1: {\n",
    "\t\t\t# 'start_time': '2013-04-12',\n",
    "\t\t\t# 'end_time': '2014-10-21'\n",
    "\t\t\t# },\n",
    "\t\t\t# \t}                \n",
    "\t\t\t# }\n",
    "\t\t\t}\n",
    "\t},\n",
    "\t'test': {\n",
    "\t'datasets': {\n",
    "\t\t'REDD': {\n",
    "\t\t\t'path': 'G:/Meu Drive/phd-thesis/datasets/REDD/redd.h5',\n",
    "\t\t\t'buildings': {\n",
    "\t\t\t\t1: {\n",
    "\t\t\t\t\t'start_time': '2011-04-30',\n",
    "\t\t\t\t\t'end_time': '2011-05-31'\n",
    "\t\t\t\t},\n",
    "\t\t\t}\n",
    "\t}\n",
    "},\n",
    "        'metrics':['accuracy', 'f1_macro']\n",
    "}\n",
    "}"
   ]
  },
  {
   "cell_type": "code",
   "execution_count": 4,
   "metadata": {},
   "outputs": [
    {
     "name": "stdout",
     "output_type": "stream",
     "text": [
      "Joint Testing for all algorithms\n",
      "Loading data for  REDD  dataset\n",
      "Loading data for meter ElecMeterID(instance=2, building=1, dataset='REDD')     \n",
      "Done loading data all meters for this chunk.\n",
      "Dropping missing values\n",
      "Generating predictions for : DTLFE_RandomForest\n",
      ">> test_main processed (12462, 201)\n",
      "images =  <class 'numpy.ndarray'> (12462, 32, 32, 3)\n",
      "images =  <class 'numpy.ndarray'> (12462, 32, 32, 3)\n",
      "Generating predictions for : DTLFE_XGBOOST\n",
      ">> test_main processed (12462, 201)\n",
      "images =  <class 'numpy.ndarray'> (12462, 32, 32, 3)\n",
      "images =  <class 'numpy.ndarray'> (12462, 32, 32, 3)\n",
      "Generating predictions for : ResNet_classification\n",
      "............  accuracy  ..............\n",
      "           DTLFE_RandomForest  DTLFE_XGBOOST  ResNet_classification\n",
      "fridge               0.726850       0.726850               0.587867\n",
      "microwave            0.983871       0.983871               0.958113\n",
      "............  f1_macro  ..............\n",
      "           DTLFE_RandomForest  DTLFE_XGBOOST  ResNet_classification\n",
      "fridge               0.420911       0.420911               0.586811\n",
      "microwave            0.495935       0.495935               0.572325\n"
     ]
    }
   ],
   "source": [
    "# https://dl.acm.org/doi/10.1145/3360322.3360844\n",
    "api_res = API(redd)"
   ]
  },
  {
   "cell_type": "code",
   "execution_count": 5,
   "metadata": {},
   "outputs": [
    {
     "data": {
      "text/plain": [
       "<nilmtk.api.API at 0x111eed8fe50>"
      ]
     },
     "execution_count": 5,
     "metadata": {},
     "output_type": "execute_result"
    }
   ],
   "source": [
    "api_res"
   ]
  },
  {
   "cell_type": "code",
   "execution_count": 6,
   "metadata": {},
   "outputs": [
    {
     "data": {
      "text/plain": [
       "[           DTLFE_RandomForest  DTLFE_XGBOOST  ResNet_classification\n",
       " fridge               0.726850       0.726850               0.587867\n",
       " microwave            0.983871       0.983871               0.958113,\n",
       "            DTLFE_RandomForest  DTLFE_XGBOOST  ResNet_classification\n",
       " fridge               0.420911       0.420911               0.586811\n",
       " microwave            0.495935       0.495935               0.572325]"
      ]
     },
     "execution_count": 6,
     "metadata": {},
     "output_type": "execute_result"
    }
   ],
   "source": [
    "api_res.errors"
   ]
  },
  {
   "cell_type": "code",
   "execution_count": 7,
   "metadata": {},
   "outputs": [
    {
     "data": {
      "text/plain": [
       "['REDD_1_accuracy', 'REDD_1_f1_macro']"
      ]
     },
     "execution_count": 7,
     "metadata": {},
     "output_type": "execute_result"
    }
   ],
   "source": [
    "api_res.errors_keys"
   ]
  },
  {
   "cell_type": "code",
   "execution_count": 8,
   "metadata": {},
   "outputs": [
    {
     "data": {
      "text/plain": [
       "{'DTLFE_RandomForest':                            fridge  microwave\n",
       " 2011-04-30 00:00:00-04:00     0.0        0.0\n",
       " 2011-04-30 00:01:00-04:00     0.0        0.0\n",
       " 2011-04-30 00:02:00-04:00     0.0        0.0\n",
       " 2011-04-30 00:03:00-04:00     0.0        0.0\n",
       " 2011-04-30 00:04:00-04:00     0.0        0.0\n",
       " ...                           ...        ...\n",
       " 2011-05-24 14:31:00-04:00     0.0        0.0\n",
       " 2011-05-24 14:32:00-04:00     0.0        0.0\n",
       " 2011-05-24 14:33:00-04:00     0.0        0.0\n",
       " 2011-05-24 15:55:00-04:00     0.0        0.0\n",
       " 2011-05-24 15:56:00-04:00     0.0        0.0\n",
       " \n",
       " [12462 rows x 2 columns],\n",
       " 'DTLFE_XGBOOST':                            fridge  microwave\n",
       " 2011-04-30 00:00:00-04:00     0.0        0.0\n",
       " 2011-04-30 00:01:00-04:00     0.0        0.0\n",
       " 2011-04-30 00:02:00-04:00     0.0        0.0\n",
       " 2011-04-30 00:03:00-04:00     0.0        0.0\n",
       " 2011-04-30 00:04:00-04:00     0.0        0.0\n",
       " ...                           ...        ...\n",
       " 2011-05-24 14:31:00-04:00     0.0        0.0\n",
       " 2011-05-24 14:32:00-04:00     0.0        0.0\n",
       " 2011-05-24 14:33:00-04:00     0.0        0.0\n",
       " 2011-05-24 15:55:00-04:00     0.0        0.0\n",
       " 2011-05-24 15:56:00-04:00     0.0        0.0\n",
       " \n",
       " [12462 rows x 2 columns],\n",
       " 'ResNet_classification':                               fridge  microwave\n",
       " 2011-04-30 00:00:00-04:00  68.062141   1.258882\n",
       " 2011-04-30 00:01:00-04:00  45.708580   0.859474\n",
       " 2011-04-30 00:02:00-04:00  37.080402   0.799391\n",
       " 2011-04-30 00:03:00-04:00  33.115776   2.013669\n",
       " 2011-04-30 00:04:00-04:00  29.916571   2.289492\n",
       " ...                              ...        ...\n",
       " 2011-05-24 14:31:00-04:00  79.945885   0.000000\n",
       " 2011-05-24 14:32:00-04:00  79.845581   0.000000\n",
       " 2011-05-24 14:33:00-04:00  69.882751   0.000000\n",
       " 2011-05-24 15:55:00-04:00  66.391953   0.000000\n",
       " 2011-05-24 15:56:00-04:00  46.708870   0.000000\n",
       " \n",
       " [12462 rows x 2 columns]}"
      ]
     },
     "execution_count": 8,
     "metadata": {},
     "output_type": "execute_result"
    }
   ],
   "source": [
    "api_res.pred_overall"
   ]
  },
  {
   "cell_type": "code",
   "execution_count": null,
   "metadata": {},
   "outputs": [],
   "source": []
  },
  {
   "cell_type": "code",
   "execution_count": null,
   "metadata": {},
   "outputs": [],
   "source": []
  },
  {
   "cell_type": "code",
   "execution_count": 9,
   "metadata": {},
   "outputs": [],
   "source": [
    "params = {}\n"
   ]
  },
  {
   "cell_type": "code",
   "execution_count": 10,
   "metadata": {},
   "outputs": [
    {
     "data": {
      "text/plain": [
       "{'fridge': {'mean': 0, 'std': 1, 'threshold': 99}}"
      ]
     },
     "execution_count": 10,
     "metadata": {},
     "output_type": "execute_result"
    }
   ],
   "source": [
    "params.update({'fridge': {'mean':0, 'std': 1, 'threshold': 99}})\n",
    "params"
   ]
  },
  {
   "cell_type": "code",
   "execution_count": null,
   "metadata": {},
   "outputs": [],
   "source": []
  },
  {
   "cell_type": "code",
   "execution_count": 11,
   "metadata": {},
   "outputs": [
    {
     "data": {
      "text/plain": [
       "array([0, 1, 2, 3])"
      ]
     },
     "execution_count": 11,
     "metadata": {},
     "output_type": "execute_result"
    }
   ],
   "source": [
    "import numpy as np\n",
    "\n",
    "np.concatenate([[0,1], [2,3]])"
   ]
  },
  {
   "cell_type": "code",
   "execution_count": null,
   "metadata": {},
   "outputs": [],
   "source": []
  }
 ],
 "metadata": {
  "kernelspec": {
   "display_name": "Python 3 (ipykernel)",
   "language": "python",
   "name": "python3"
  },
  "language_info": {
   "codemirror_mode": {
    "name": "ipython",
    "version": 3
   },
   "file_extension": ".py",
   "mimetype": "text/x-python",
   "name": "python",
   "nbconvert_exporter": "python",
   "pygments_lexer": "ipython3",
   "version": "3.8.13"
  }
 },
 "nbformat": 4,
 "nbformat_minor": 4
}
