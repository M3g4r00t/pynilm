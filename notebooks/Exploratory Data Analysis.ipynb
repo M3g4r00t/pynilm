{
 "cells": [
  {
   "cell_type": "markdown",
   "metadata": {},
   "source": [
    "PyNILM - Exploratory Data Analysis\n",
    "---\n",
    "\n"
   ]
  },
  {
   "cell_type": "markdown",
   "metadata": {},
   "source": [
    "## Preparing Environment"
   ]
  },
  {
   "cell_type": "code",
   "execution_count": null,
   "metadata": {
    "id": "LWekkGHabnk7"
   },
   "outputs": [],
   "source": [
    "# # COLAB VERSION\n",
    "# from google.colab import drive\n",
    "# drive.mount('/content/drive', force_remount=True)"
   ]
  },
  {
   "cell_type": "code",
   "execution_count": null,
   "metadata": {},
   "outputs": [],
   "source": [
    "import warnings\n",
    "warnings.filterwarnings(action=\"ignore\")\n",
    "\n",
    "# TODO: Create PyNilm python package\n",
    "import sys\n",
    "sys.path.append('../') # enabling pynilm import (src content)\n",
    "\n",
    "import numpy as np\n",
    "\n",
    "from tqdm import tqdm\n",
    "from pathlib import Path\n",
    "from nilmtk.utils import print_dict\n",
    "from collections import Counter\n",
    "from matplotlib import pyplot as plt\n",
    "from plotly import express as px\n",
    "from plotly import io as pio\n",
    "pio.renderers.default = 'vscode'"
   ]
  },
  {
   "cell_type": "markdown",
   "metadata": {},
   "source": [
    "## Experiment Details - REDD"
   ]
  },
  {
   "cell_type": "markdown",
   "metadata": {},
   "source": [
    "### Defining Experiment Configuration"
   ]
  },
  {
   "cell_type": "code",
   "execution_count": null,
   "metadata": {},
   "outputs": [],
   "source": [
    "# Dataset file\n",
    "redd_filepath = '../data/redd.h5'\n",
    "redd_filepath"
   ]
  },
  {
   "cell_type": "code",
   "execution_count": null,
   "metadata": {},
   "outputs": [],
   "source": [
    "# experiment params\n",
    "sample_period = 2\n",
    "building_redd = 3\n",
    "appliances_redd = ['washer dryer', 'microwave', 'dish washer', 'fridge']"
   ]
  },
  {
   "cell_type": "markdown",
   "metadata": {},
   "source": [
    "### Loading Data - `Data Wrapper`"
   ]
  },
  {
   "cell_type": "code",
   "execution_count": null,
   "metadata": {},
   "outputs": [],
   "source": [
    "from src.data import DataWrapper\n",
    "\n",
    "# Load data series between date start and finish\n",
    "redd_train = DataWrapper(\n",
    "    dataset_path=redd_filepath,\n",
    "    building=building_redd, \n",
    "    appliances=appliances_redd,\n",
    "    sample_period=sample_period,\n",
    "    start='2011-04-01 00:00:00',\n",
    "    end='2011-04-29 23:59:59',\n",
    "    return_mode='dataframe',\n",
    "    windows_size=None,\n",
    "    windows_stride=None,\n",
    "    get_activations=True,\n",
    "    activations_type=int,\n",
    "    debug=False\n",
    "    )"
   ]
  },
  {
   "cell_type": "code",
   "execution_count": null,
   "metadata": {},
   "outputs": [],
   "source": [
    "# Window dataframe sample\n",
    "redd_train.data"
   ]
  },
  {
   "cell_type": "markdown",
   "metadata": {
    "tags": []
   },
   "source": [
    "### Aggregated Power Consumption (Mains)"
   ]
  },
  {
   "cell_type": "code",
   "execution_count": null,
   "metadata": {},
   "outputs": [],
   "source": [
    "redd_train.data[['mains']].plot(figsize=(20, 5));"
   ]
  },
  {
   "cell_type": "markdown",
   "metadata": {
    "tags": []
   },
   "source": [
    "### Appliances Power Consumption"
   ]
  },
  {
   "cell_type": "code",
   "execution_count": null,
   "metadata": {},
   "outputs": [],
   "source": [
    "fig, axes = plt.subplots(1, len(appliances_redd), figsize=(20,5))\n",
    "\n",
    "for a, ax in zip(appliances_redd, axes):\n",
    "    redd_train.data[[a]].plot(ax=ax)\n",
    "    ax.set_title(a.title())\n",
    "\n",
    "plt.suptitle(\"Appliances Power Consumption\")\n",
    "plt.tight_layout()\n",
    "plt.show()"
   ]
  },
  {
   "cell_type": "markdown",
   "metadata": {
    "tags": []
   },
   "source": [
    "### Power Consumption Overview "
   ]
  },
  {
   "cell_type": "code",
   "execution_count": null,
   "metadata": {},
   "outputs": [],
   "source": [
    "fig = px.line(\n",
    "    redd_train.data, \n",
    "    title=f\"\"\"Building #{building_redd} Power Consumption of {redd_train.dataset.metadata['name']} database<br><sup>From `{redd_train.start}` To `{redd_train.end}` (sample period = {sample_period})</sup>\"\"\",\n",
    ")\n",
    "fig.update_layout(\n",
    "    xaxis_title='Datetime',\n",
    "    yaxis_title=\"Power\",\n",
    "    legend_title=\"Legend\",\n",
    ")\n",
    "\n",
    "fig.show(renderer='vscode')"
   ]
  },
  {
   "cell_type": "markdown",
   "metadata": {},
   "source": [
    "### Windowing Time Series"
   ]
  },
  {
   "cell_type": "markdown",
   "metadata": {
    "tags": []
   },
   "source": [
    "#### Global Dataframe"
   ]
  },
  {
   "cell_type": "code",
   "execution_count": null,
   "metadata": {},
   "outputs": [],
   "source": [
    "# Generating windows from a single dataframe, containing ALL appliance data\n",
    "redd_train = DataWrapper(\n",
    "    dataset_path=redd_filepath,\n",
    "    building=building_redd, \n",
    "    appliances=appliances_redd,\n",
    "    sample_period=sample_period,\n",
    "    start='2011-04-01 00:00:00',\n",
    "    end='2011-04-29 23:59:59',\n",
    "    return_mode='dataframe', \n",
    "    windows_size=1000, # --------------> HERE!!!\n",
    "    windows_stride=1000, # --------------> HERE!!!\n",
    "    get_activations=True,\n",
    "    activations_type=int,\n",
    "    debug=False\n",
    "    )"
   ]
  },
  {
   "cell_type": "code",
   "execution_count": null,
   "metadata": {},
   "outputs": [],
   "source": [
    "print('Activation distribution by appliance:\\n')\n",
    "for a, s in redd_train.activations.items():\n",
    "    print(a, '=', dict(Counter(s)))\n",
    "print('\\n------------------------------------------------\\n')\n",
    "\n",
    "# Generating status\n",
    "print('Mains/Appliance Activations examples:\\n\\n')\n",
    "for a in appliances_redd:\n",
    "    print(f'{a.title()}:')\n",
    "    \n",
    "    samples = 0\n",
    "    for i in range(len(redd_train.data)):\n",
    "        df = redd_train.data[i][[redd_train.mains_label, a]]\n",
    "        status = redd_train.activations[a][i]\n",
    "        \n",
    "        if status and samples < 3:\n",
    "            df.plot()\n",
    "            plt.title(f'Window Sample #{i} | Status = {\"ON\" if status else \"OFF\"}')\n",
    "            plt.show()\n",
    "            samples += 1"
   ]
  },
  {
   "cell_type": "code",
   "execution_count": null,
   "metadata": {},
   "outputs": [],
   "source": [
    "import os\n",
    "import imageio\n",
    "\n",
    "# Saving GIF based on windows\n",
    "filenames = []\n",
    "for i, window in enumerate(redd_train.data[:1000]):\n",
    "    window.plot()\n",
    "    plt.title(f'window {i+1}')\n",
    "    # gif\n",
    "    filename = f'images/window_{i+1}.png'\n",
    "    filenames.append(filename)\n",
    "    # gif - save frame\n",
    "    plt.savefig(filename)\n",
    "    plt.close()\n",
    "    \n",
    "# gif - build it\n",
    "with imageio.get_writer(\n",
    "    f'images/sample{redd_train.sample_period}_windows{redd_train.windows_size}_stride{redd_train.windows_stride}.gif', \n",
    "    mode='I') as writer:\n",
    "    for filename in filenames:\n",
    "        image = imageio.imread(filename)\n",
    "        writer.append_data(image)\n",
    "# gif - Remove files\n",
    "for filename in set(filenames):\n",
    "    os.remove(filename)"
   ]
  },
  {
   "cell_type": "markdown",
   "metadata": {
    "tags": []
   },
   "source": [
    "#### Individual Dataframes (dict)"
   ]
  },
  {
   "cell_type": "code",
   "execution_count": null,
   "metadata": {},
   "outputs": [],
   "source": [
    "# Generating windows from individual appliance dataframes, \n",
    "#  containing mains and appliance power consumptions information\n",
    "redd_train = DataWrapper(\n",
    "    dataset_path=redd_filepath,\n",
    "    building=building_redd, \n",
    "    appliances=appliances_redd,\n",
    "    sample_period=sample_period,\n",
    "    start='2011-04-01 00:00:00',\n",
    "    end='2011-04-29 23:59:59',\n",
    "    return_mode='dict', # --------------> HERE!!!\n",
    "    windows_size=1000, # --------------> HERE!!!\n",
    "    windows_stride=1000, # --------------> HERE!!!\n",
    "    get_activations=False,\n",
    "    activations_type=int,\n",
    "    debug=False\n",
    "    )"
   ]
  },
  {
   "cell_type": "code",
   "execution_count": null,
   "metadata": {},
   "outputs": [],
   "source": [
    "print('Windows by Appliance:\\n')\n",
    "for k, v in redd_train.data.items():\n",
    "    print(k, '=>', len(v), 'window samples')"
   ]
  },
  {
   "cell_type": "markdown",
   "metadata": {},
   "source": [
    "## Additional Research"
   ]
  },
  {
   "cell_type": "markdown",
   "metadata": {
    "tags": []
   },
   "source": [
    "### Optimizing RP parameters - `Time Delay` and `Embedding Dimension`"
   ]
  },
  {
   "cell_type": "code",
   "execution_count": null,
   "metadata": {},
   "outputs": [],
   "source": [
    "from src.timeseries import RecurrencePlot\n",
    "\n",
    "# RP parameters\n",
    "time_delay = 1\n",
    "embedding_dimension = 2\n",
    "\n",
    "# Sample data\n",
    "redd_train = DataWrapper(\n",
    "    dataset_path=redd_filepath,\n",
    "    building=building_redd, \n",
    "    appliances=appliances_redd,\n",
    "    sample_period=sample_period,\n",
    "    start='2011-04-01 00:00:00',\n",
    "    end='2011-04-29 23:59:59',\n",
    "    return_mode='dataframe',\n",
    "    windows_size=None,\n",
    "    windows_stride=None,\n",
    "    get_activations=True,\n",
    "    activations_type=int,\n",
    "    debug=False\n",
    "    )"
   ]
  },
  {
   "cell_type": "code",
   "execution_count": null,
   "metadata": {},
   "outputs": [],
   "source": [
    "# Recurrence Plot Wrapper\n",
    "rp_mains = RecurrencePlot(\n",
    "    data=redd_train.data['mains'].values\n",
    "    )"
   ]
  },
  {
   "cell_type": "markdown",
   "metadata": {},
   "source": [
    "##### `Time Delay` - Mutual Information Method"
   ]
  },
  {
   "cell_type": "code",
   "execution_count": null,
   "metadata": {},
   "outputs": [],
   "source": [
    "delay, mutual_information = rp_mains.calculate_mutual_information(delay_range=20, debug=True)\n",
    "delay, mutual_information"
   ]
  },
  {
   "cell_type": "markdown",
   "metadata": {},
   "source": [
    "##### `Threshold` - False Nearest Neighbor Method"
   ]
  },
  {
   "cell_type": "code",
   "execution_count": null,
   "metadata": {},
   "outputs": [],
   "source": [
    "embedding_dimension, false_neighbors = rp_mains.calculate_embedding_dimension(max_dimensions=15, debug=True)\n",
    "embedding_dimension, false_neighbors"
   ]
  }
 ],
 "metadata": {
  "colab": {
   "authorship_tag": "ABX9TyMM8VEvHEKXdVFvLOYoPVkg",
   "provenance": []
  },
  "kernelspec": {
   "display_name": "Python 3 (ipykernel)",
   "language": "python",
   "name": "python3"
  },
  "language_info": {
   "codemirror_mode": {
    "name": "ipython",
    "version": 3
   },
   "file_extension": ".py",
   "mimetype": "text/x-python",
   "name": "python",
   "nbconvert_exporter": "python",
   "pygments_lexer": "ipython3",
   "version": "3.8.10"
  },
  "vscode": {
   "interpreter": {
    "hash": "85bd06980fe4c302208919befb13569bdce604f262a1f7d700a44db51af23732"
   }
  }
 },
 "nbformat": 4,
 "nbformat_minor": 4
}
