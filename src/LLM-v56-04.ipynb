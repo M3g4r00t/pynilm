{
 "cells": [
  {
   "cell_type": "code",
   "execution_count": 6,
   "metadata": {},
   "outputs": [],
   "source": [
    "import numpy as np\n",
    "import pandas as pd\n",
    "from sklearn.svm import SVC\n",
    "from sklearn.preprocessing import StandardScaler\n",
    "from sklearn.metrics import accuracy_score, f1_score, roc_auc_score, classification_report, confusion_matrix"
   ]
  },
  {
   "cell_type": "code",
   "execution_count": 7,
   "metadata": {},
   "outputs": [],
   "source": [
    "window_size = 56\n",
    "n_components = 60"
   ]
  },
  {
   "cell_type": "code",
   "execution_count": 8,
   "metadata": {},
   "outputs": [],
   "source": [
    "# Cargar las variables independientes (X_train) sin cabecera desde archivo\n",
    "X_train = np.loadtxt(f'../data/v8/transformed_train_data_comp_{n_components}.csv', delimiter=',')\n",
    "\n",
    "# Cargar las variables dependientes (y_train) con cabecera desde archivo\n",
    "y_train = pd.read_csv(f'../data/train_value_min_label_windows_{window_size}_llm.csv')\n",
    "\n",
    "# Cargar el conjunto de test (X_test sin cabeceras y y_test con cabeceras)\n",
    "X_test = np.loadtxt(f'../data/v8/transformed_test_data_comp_{n_components}.csv', delimiter=',')\n",
    "y_test = pd.read_csv(f'../data/test_value_min_label_windows_{window_size}_llm.csv')\n",
    "\n",
    "# Eliminar la columna \"row\" que es solo un índice\n",
    "y_train = y_train.drop(columns=['row'])\n",
    "y_test = y_test.drop(columns=['row'])\n"
   ]
  },
  {
   "cell_type": "code",
   "execution_count": 9,
   "metadata": {},
   "outputs": [],
   "source": [
    "# Escalar los datos de entrenamiento y test\n",
    "scaler = StandardScaler()\n",
    "X_train_scaled = scaler.fit_transform(X_train)\n",
    "X_test_scaled = scaler.transform(X_test)\n",
    "\n"
   ]
  },
  {
   "cell_type": "code",
   "execution_count": 10,
   "metadata": {},
   "outputs": [
    {
     "name": "stderr",
     "output_type": "stream",
     "text": [
      "c:\\Users\\DennysMallqui\\anaconda3\\envs\\py311\\Lib\\site-packages\\xgboost\\core.py:158: UserWarning: [07:48:41] WARNING: C:\\buildkite-agent\\builds\\buildkite-windows-cpu-autoscaling-group-i-0015a694724fa8361-1\\xgboost\\xgboost-ci-windows\\src\\learner.cc:740: \n",
      "Parameters: { \"use_label_encoder\" } are not used.\n",
      "\n",
      "  warnings.warn(smsg, UserWarning)\n"
     ]
    },
    {
     "name": "stdout",
     "output_type": "stream",
     "text": [
      "Resultados para la clase Sockets01:\n",
      "Accuracy: 0.9957\n",
      "F1 Score: 0.8414\n",
      "AUC: 0.9950\n",
      "Classification Report:\n",
      "               precision    recall  f1-score   support\n",
      "\n",
      "           0       1.00      1.00      1.00     21060\n",
      "           1       0.88      0.80      0.84       304\n",
      "\n",
      "    accuracy                           1.00     21364\n",
      "   macro avg       0.94      0.90      0.92     21364\n",
      "weighted avg       1.00      1.00      1.00     21364\n",
      "\n",
      "Confusion Matrix:\n",
      "[[21028    32]\n",
      " [   60   244]]\n",
      "Resultados para la clase Sockets02:\n",
      "Accuracy (una sola clase): 1.0000\n",
      "F1 Score: No calculable (una sola clase)\n",
      "AUC: No calculable (una sola clase)\n",
      "Resultados para la clase Light01:\n",
      "Accuracy (una sola clase): 1.0000\n",
      "F1 Score: No calculable (una sola clase)\n",
      "AUC: No calculable (una sola clase)\n"
     ]
    },
    {
     "name": "stderr",
     "output_type": "stream",
     "text": [
      "c:\\Users\\DennysMallqui\\anaconda3\\envs\\py311\\Lib\\site-packages\\xgboost\\core.py:158: UserWarning: [07:48:42] WARNING: C:\\buildkite-agent\\builds\\buildkite-windows-cpu-autoscaling-group-i-0015a694724fa8361-1\\xgboost\\xgboost-ci-windows\\src\\learner.cc:740: \n",
      "Parameters: { \"use_label_encoder\" } are not used.\n",
      "\n",
      "  warnings.warn(smsg, UserWarning)\n"
     ]
    },
    {
     "name": "stdout",
     "output_type": "stream",
     "text": [
      "Resultados para la clase CE appliance01:\n",
      "Accuracy: 0.9391\n",
      "F1 Score: 0.9409\n",
      "AUC: 0.9452\n",
      "Classification Report:\n",
      "               precision    recall  f1-score   support\n",
      "\n",
      "           0       0.88      1.00      0.94      9726\n",
      "           1       1.00      0.89      0.94     11638\n",
      "\n",
      "    accuracy                           0.94     21364\n",
      "   macro avg       0.94      0.94      0.94     21364\n",
      "weighted avg       0.95      0.94      0.94     21364\n",
      "\n",
      "Confusion Matrix:\n",
      "[[ 9720     6]\n",
      " [ 1294 10344]]\n"
     ]
    },
    {
     "name": "stderr",
     "output_type": "stream",
     "text": [
      "c:\\Users\\DennysMallqui\\anaconda3\\envs\\py311\\Lib\\site-packages\\xgboost\\core.py:158: UserWarning: [07:48:43] WARNING: C:\\buildkite-agent\\builds\\buildkite-windows-cpu-autoscaling-group-i-0015a694724fa8361-1\\xgboost\\xgboost-ci-windows\\src\\learner.cc:740: \n",
      "Parameters: { \"use_label_encoder\" } are not used.\n",
      "\n",
      "  warnings.warn(smsg, UserWarning)\n"
     ]
    },
    {
     "name": "stdout",
     "output_type": "stream",
     "text": [
      "Resultados para la clase Fridge01:\n",
      "Accuracy: 0.8630\n",
      "F1 Score: 0.7125\n",
      "AUC: 0.8953\n",
      "Classification Report:\n",
      "               precision    recall  f1-score   support\n",
      "\n",
      "           0       0.95      0.88      0.91     16900\n",
      "           1       0.63      0.81      0.71      4464\n",
      "\n",
      "    accuracy                           0.86     21364\n",
      "   macro avg       0.79      0.84      0.81     21364\n",
      "weighted avg       0.88      0.86      0.87     21364\n",
      "\n",
      "Confusion Matrix:\n",
      "[[14813  2087]\n",
      " [  839  3625]]\n",
      "Resultados para la clase Waste disposal unit01:\n",
      "Accuracy (una sola clase): 1.0000\n",
      "F1 Score: No calculable (una sola clase)\n",
      "AUC: No calculable (una sola clase)\n"
     ]
    },
    {
     "name": "stderr",
     "output_type": "stream",
     "text": [
      "c:\\Users\\DennysMallqui\\anaconda3\\envs\\py311\\Lib\\site-packages\\xgboost\\core.py:158: UserWarning: [07:48:45] WARNING: C:\\buildkite-agent\\builds\\buildkite-windows-cpu-autoscaling-group-i-0015a694724fa8361-1\\xgboost\\xgboost-ci-windows\\src\\learner.cc:740: \n",
      "Parameters: { \"use_label_encoder\" } are not used.\n",
      "\n",
      "  warnings.warn(smsg, UserWarning)\n"
     ]
    },
    {
     "name": "stdout",
     "output_type": "stream",
     "text": [
      "Resultados para la clase Dish washer01:\n",
      "Accuracy: 0.9937\n",
      "F1 Score: 0.0822\n",
      "AUC: 0.9333\n",
      "Classification Report:\n",
      "               precision    recall  f1-score   support\n",
      "\n",
      "           0       0.99      1.00      1.00     21242\n",
      "           1       0.25      0.05      0.08       122\n",
      "\n",
      "    accuracy                           0.99     21364\n",
      "   macro avg       0.62      0.52      0.54     21364\n",
      "weighted avg       0.99      0.99      0.99     21364\n",
      "\n",
      "Confusion Matrix:\n",
      "[[21224    18]\n",
      " [  116     6]]\n",
      "Resultados para la clase Electric furnace01:\n",
      "Accuracy (una sola clase): 1.0000\n",
      "F1 Score: No calculable (una sola clase)\n",
      "AUC: No calculable (una sola clase)\n"
     ]
    },
    {
     "name": "stderr",
     "output_type": "stream",
     "text": [
      "c:\\Users\\DennysMallqui\\anaconda3\\envs\\py311\\Lib\\site-packages\\xgboost\\core.py:158: UserWarning: [07:48:46] WARNING: C:\\buildkite-agent\\builds\\buildkite-windows-cpu-autoscaling-group-i-0015a694724fa8361-1\\xgboost\\xgboost-ci-windows\\src\\learner.cc:740: \n",
      "Parameters: { \"use_label_encoder\" } are not used.\n",
      "\n",
      "  warnings.warn(smsg, UserWarning)\n"
     ]
    },
    {
     "name": "stdout",
     "output_type": "stream",
     "text": [
      "Resultados para la clase Light02:\n",
      "Accuracy: 0.8709\n",
      "F1 Score: 0.6726\n",
      "AUC: 0.8792\n",
      "Classification Report:\n",
      "               precision    recall  f1-score   support\n",
      "\n",
      "           0       0.90      0.94      0.92     16699\n",
      "           1       0.75      0.61      0.67      4665\n",
      "\n",
      "    accuracy                           0.87     21364\n",
      "   macro avg       0.82      0.78      0.80     21364\n",
      "weighted avg       0.86      0.87      0.87     21364\n",
      "\n",
      "Confusion Matrix:\n",
      "[[15773   926]\n",
      " [ 1832  2833]]\n"
     ]
    },
    {
     "name": "stderr",
     "output_type": "stream",
     "text": [
      "c:\\Users\\DennysMallqui\\anaconda3\\envs\\py311\\Lib\\site-packages\\xgboost\\core.py:158: UserWarning: [07:48:47] WARNING: C:\\buildkite-agent\\builds\\buildkite-windows-cpu-autoscaling-group-i-0015a694724fa8361-1\\xgboost\\xgboost-ci-windows\\src\\learner.cc:740: \n",
      "Parameters: { \"use_label_encoder\" } are not used.\n",
      "\n",
      "  warnings.warn(smsg, UserWarning)\n"
     ]
    },
    {
     "name": "stdout",
     "output_type": "stream",
     "text": [
      "Resultados para la clase Sockets03:\n",
      "Accuracy: 0.8637\n",
      "F1 Score: 0.0773\n",
      "AUC: 0.8357\n",
      "Classification Report:\n",
      "               precision    recall  f1-score   support\n",
      "\n",
      "           0       0.99      0.87      0.93     21115\n",
      "           1       0.04      0.49      0.08       249\n",
      "\n",
      "    accuracy                           0.86     21364\n",
      "   macro avg       0.52      0.68      0.50     21364\n",
      "weighted avg       0.98      0.86      0.92     21364\n",
      "\n",
      "Confusion Matrix:\n",
      "[[18331  2784]\n",
      " [  127   122]]\n",
      "Resultados para la clase Light03:\n",
      "Accuracy (una sola clase): 1.0000\n",
      "F1 Score: No calculable (una sola clase)\n",
      "AUC: No calculable (una sola clase)\n"
     ]
    },
    {
     "name": "stderr",
     "output_type": "stream",
     "text": [
      "c:\\Users\\DennysMallqui\\anaconda3\\envs\\py311\\Lib\\site-packages\\xgboost\\core.py:158: UserWarning: [07:48:49] WARNING: C:\\buildkite-agent\\builds\\buildkite-windows-cpu-autoscaling-group-i-0015a694724fa8361-1\\xgboost\\xgboost-ci-windows\\src\\learner.cc:740: \n",
      "Parameters: { \"use_label_encoder\" } are not used.\n",
      "\n",
      "  warnings.warn(smsg, UserWarning)\n"
     ]
    },
    {
     "name": "stdout",
     "output_type": "stream",
     "text": [
      "Resultados para la clase Microwave01:\n",
      "Accuracy: 0.9970\n",
      "F1 Score: 0.2000\n",
      "AUC: 0.9608\n",
      "Classification Report:\n",
      "               precision    recall  f1-score   support\n",
      "\n",
      "           0       1.00      1.00      1.00     21302\n",
      "           1       0.44      0.13      0.20        62\n",
      "\n",
      "    accuracy                           1.00     21364\n",
      "   macro avg       0.72      0.56      0.60     21364\n",
      "weighted avg       1.00      1.00      1.00     21364\n",
      "\n",
      "Confusion Matrix:\n",
      "[[21292    10]\n",
      " [   54     8]]\n"
     ]
    },
    {
     "name": "stderr",
     "output_type": "stream",
     "text": [
      "c:\\Users\\DennysMallqui\\anaconda3\\envs\\py311\\Lib\\site-packages\\xgboost\\core.py:158: UserWarning: [07:48:50] WARNING: C:\\buildkite-agent\\builds\\buildkite-windows-cpu-autoscaling-group-i-0015a694724fa8361-1\\xgboost\\xgboost-ci-windows\\src\\learner.cc:740: \n",
      "Parameters: { \"use_label_encoder\" } are not used.\n",
      "\n",
      "  warnings.warn(smsg, UserWarning)\n"
     ]
    },
    {
     "name": "stdout",
     "output_type": "stream",
     "text": [
      "Resultados para la clase Light04:\n",
      "Accuracy: 0.9240\n",
      "F1 Score: 0.7740\n",
      "AUC: 0.9178\n",
      "Classification Report:\n",
      "               precision    recall  f1-score   support\n",
      "\n",
      "           0       0.96      0.95      0.95     17887\n",
      "           1       0.75      0.80      0.77      3477\n",
      "\n",
      "    accuracy                           0.92     21364\n",
      "   macro avg       0.86      0.87      0.86     21364\n",
      "weighted avg       0.93      0.92      0.92     21364\n",
      "\n",
      "Confusion Matrix:\n",
      "[[16961   926]\n",
      " [  697  2780]]\n",
      "Resultados para la clase Smoke alarm01:\n",
      "Accuracy (una sola clase): 1.0000\n",
      "F1 Score: No calculable (una sola clase)\n",
      "AUC: No calculable (una sola clase)\n"
     ]
    },
    {
     "name": "stderr",
     "output_type": "stream",
     "text": [
      "c:\\Users\\DennysMallqui\\anaconda3\\envs\\py311\\Lib\\site-packages\\xgboost\\core.py:158: UserWarning: [07:48:51] WARNING: C:\\buildkite-agent\\builds\\buildkite-windows-cpu-autoscaling-group-i-0015a694724fa8361-1\\xgboost\\xgboost-ci-windows\\src\\learner.cc:740: \n",
      "Parameters: { \"use_label_encoder\" } are not used.\n",
      "\n",
      "  warnings.warn(smsg, UserWarning)\n"
     ]
    },
    {
     "name": "stdout",
     "output_type": "stream",
     "text": [
      "Resultados para la clase Light05:\n",
      "Accuracy: 0.8825\n",
      "F1 Score: 0.6134\n",
      "AUC: 0.8884\n",
      "Classification Report:\n",
      "               precision    recall  f1-score   support\n",
      "\n",
      "           0       0.95      0.91      0.93     18474\n",
      "           1       0.55      0.69      0.61      2890\n",
      "\n",
      "    accuracy                           0.88     21364\n",
      "   macro avg       0.75      0.80      0.77     21364\n",
      "weighted avg       0.90      0.88      0.89     21364\n",
      "\n",
      "Confusion Matrix:\n",
      "[[16863  1611]\n",
      " [  899  1991]]\n"
     ]
    },
    {
     "name": "stderr",
     "output_type": "stream",
     "text": [
      "c:\\Users\\DennysMallqui\\anaconda3\\envs\\py311\\Lib\\site-packages\\xgboost\\core.py:158: UserWarning: [07:48:52] WARNING: C:\\buildkite-agent\\builds\\buildkite-windows-cpu-autoscaling-group-i-0015a694724fa8361-1\\xgboost\\xgboost-ci-windows\\src\\learner.cc:740: \n",
      "Parameters: { \"use_label_encoder\" } are not used.\n",
      "\n",
      "  warnings.warn(smsg, UserWarning)\n"
     ]
    },
    {
     "name": "stdout",
     "output_type": "stream",
     "text": [
      "Resultados para la clase Unknown01:\n",
      "Accuracy: 0.9944\n",
      "F1 Score: 0.3814\n",
      "AUC: 0.7028\n",
      "Classification Report:\n",
      "               precision    recall  f1-score   support\n",
      "\n",
      "           0       1.00      1.00      1.00     21280\n",
      "           1       0.34      0.44      0.38        84\n",
      "\n",
      "    accuracy                           0.99     21364\n",
      "   macro avg       0.67      0.72      0.69     21364\n",
      "weighted avg       1.00      0.99      0.99     21364\n",
      "\n",
      "Confusion Matrix:\n",
      "[[21207    73]\n",
      " [   47    37]]\n",
      "Resultados para la clase Sockets04:\n",
      "Accuracy (una sola clase): 1.0000\n",
      "F1 Score: No calculable (una sola clase)\n",
      "AUC: No calculable (una sola clase)\n"
     ]
    },
    {
     "name": "stderr",
     "output_type": "stream",
     "text": [
      "c:\\Users\\DennysMallqui\\anaconda3\\envs\\py311\\Lib\\site-packages\\xgboost\\core.py:158: UserWarning: [07:48:53] WARNING: C:\\buildkite-agent\\builds\\buildkite-windows-cpu-autoscaling-group-i-0015a694724fa8361-1\\xgboost\\xgboost-ci-windows\\src\\learner.cc:740: \n",
      "Parameters: { \"use_label_encoder\" } are not used.\n",
      "\n",
      "  warnings.warn(smsg, UserWarning)\n"
     ]
    },
    {
     "name": "stdout",
     "output_type": "stream",
     "text": [
      "Resultados para la clase Sockets05:\n",
      "Accuracy: 0.9552\n",
      "F1 Score: 0.0459\n",
      "AUC: 0.8213\n",
      "Classification Report:\n",
      "               precision    recall  f1-score   support\n",
      "\n",
      "           0       1.00      0.96      0.98     21260\n",
      "           1       0.03      0.22      0.05       104\n",
      "\n",
      "    accuracy                           0.96     21364\n",
      "   macro avg       0.51      0.59      0.51     21364\n",
      "weighted avg       0.99      0.96      0.97     21364\n",
      "\n",
      "Confusion Matrix:\n",
      "[[20384   876]\n",
      " [   81    23]]\n"
     ]
    },
    {
     "name": "stderr",
     "output_type": "stream",
     "text": [
      "c:\\Users\\DennysMallqui\\anaconda3\\envs\\py311\\Lib\\site-packages\\xgboost\\core.py:158: UserWarning: [07:48:55] WARNING: C:\\buildkite-agent\\builds\\buildkite-windows-cpu-autoscaling-group-i-0015a694724fa8361-1\\xgboost\\xgboost-ci-windows\\src\\learner.cc:740: \n",
      "Parameters: { \"use_label_encoder\" } are not used.\n",
      "\n",
      "  warnings.warn(smsg, UserWarning)\n"
     ]
    },
    {
     "name": "stdout",
     "output_type": "stream",
     "text": [
      "Resultados para la clase Washer dryer01:\n",
      "Accuracy: 0.9997\n",
      "F1 Score: 0.9821\n",
      "AUC: 1.0000\n",
      "Classification Report:\n",
      "               precision    recall  f1-score   support\n",
      "\n",
      "           0       1.00      1.00      1.00     21172\n",
      "           1       0.96      1.00      0.98       192\n",
      "\n",
      "    accuracy                           1.00     21364\n",
      "   macro avg       0.98      1.00      0.99     21364\n",
      "weighted avg       1.00      1.00      1.00     21364\n",
      "\n",
      "Confusion Matrix:\n",
      "[[21165     7]\n",
      " [    0   192]]\n"
     ]
    },
    {
     "name": "stderr",
     "output_type": "stream",
     "text": [
      "c:\\Users\\DennysMallqui\\anaconda3\\envs\\py311\\Lib\\site-packages\\xgboost\\core.py:158: UserWarning: [07:48:56] WARNING: C:\\buildkite-agent\\builds\\buildkite-windows-cpu-autoscaling-group-i-0015a694724fa8361-1\\xgboost\\xgboost-ci-windows\\src\\learner.cc:740: \n",
      "Parameters: { \"use_label_encoder\" } are not used.\n",
      "\n",
      "  warnings.warn(smsg, UserWarning)\n"
     ]
    },
    {
     "name": "stdout",
     "output_type": "stream",
     "text": [
      "Resultados para la clase Washer dryer02:\n",
      "Accuracy: 0.9876\n",
      "F1 Score: 0.7342\n",
      "AUC: 0.9919\n",
      "Classification Report:\n",
      "               precision    recall  f1-score   support\n",
      "\n",
      "           0       0.99      0.99      0.99     20839\n",
      "           1       0.78      0.70      0.73       525\n",
      "\n",
      "    accuracy                           0.99     21364\n",
      "   macro avg       0.88      0.85      0.86     21364\n",
      "weighted avg       0.99      0.99      0.99     21364\n",
      "\n",
      "Confusion Matrix:\n",
      "[[20733   106]\n",
      " [  159   366]]\n"
     ]
    }
   ],
   "source": [
    "from xgboost import XGBClassifier\n",
    "\n",
    "# Bucle para realizar clasificación binaria para cada columna (clase)\n",
    "for col in y_train.columns:\n",
    "    y_train_bin = y_train[col]\n",
    "    y_test_bin = y_test[col]\n",
    "    \n",
    "    # Verificar que haya más de una clase en el conjunto de entrenamiento\n",
    "    if len(np.unique(y_test_bin)) > 1:\n",
    "        # Calcular la proporción de clases\n",
    "        neg_count = np.sum(y_train_bin == 0)\n",
    "        pos_count = np.sum(y_train_bin == 1)\n",
    "        \n",
    "        # Ajustar el peso para desbalanceo de clases\n",
    "        scale_pos_weight = neg_count / pos_count if pos_count > 0 else 1\n",
    "        \n",
    "        # Entrenar modelo XGBoost\n",
    "        xgb_clf = XGBClassifier(use_label_encoder=False, eval_metric='logloss', scale_pos_weight=scale_pos_weight)\n",
    "        xgb_clf.fit(X_train_scaled, y_train_bin)\n",
    "    \n",
    "        # Predecir en el conjunto de test\n",
    "        y_pred_bin = xgb_clf.predict(X_test_scaled)\n",
    "        y_pred_proba = xgb_clf.predict_proba(X_test_scaled)[:, 1]  # Para calcular AUC\n",
    "    \n",
    "        # Calcular métricas\n",
    "        accuracy = accuracy_score(y_test_bin, y_pred_bin)\n",
    "        f1 = f1_score(y_test_bin, y_pred_bin)\n",
    "        auc = roc_auc_score(y_test_bin, y_pred_proba)\n",
    "        report = classification_report(y_test_bin, y_pred_bin)\n",
    "        cm = confusion_matrix(y_test_bin, y_pred_bin)\n",
    "    \n",
    "        # Mostrar resultados\n",
    "        print(f\"Resultados para la clase {col}:\")\n",
    "        print(f\"Accuracy: {accuracy:.4f}\")\n",
    "        print(f\"F1 Score: {f1:.4f}\")\n",
    "        print(f\"AUC: {auc:.4f}\")\n",
    "        print(\"Classification Report:\\n\", report)\n",
    "        print(f\"Confusion Matrix:\\n{cm}\")\n",
    "    else:\n",
    "        # En caso de tener solo una clase\n",
    "        accuracy = accuracy_score(y_test_bin, np.full_like(y_test_bin, y_train_bin.iloc[0]))\n",
    "        \n",
    "        # Mostrar solo accuracy, el resto no se puede calcular\n",
    "        print(f\"Resultados para la clase {col}:\")\n",
    "        print(f\"Accuracy (una sola clase): {accuracy:.4f}\")\n",
    "        print(\"F1 Score: No calculable (una sola clase)\")\n",
    "        print(\"AUC: No calculable (una sola clase)\")"
   ]
  }
 ],
 "metadata": {
  "kernelspec": {
   "display_name": "py311",
   "language": "python",
   "name": "python3"
  },
  "language_info": {
   "codemirror_mode": {
    "name": "ipython",
    "version": 3
   },
   "file_extension": ".py",
   "mimetype": "text/x-python",
   "name": "python",
   "nbconvert_exporter": "python",
   "pygments_lexer": "ipython3",
   "version": "3.11.9"
  }
 },
 "nbformat": 4,
 "nbformat_minor": 2
}
