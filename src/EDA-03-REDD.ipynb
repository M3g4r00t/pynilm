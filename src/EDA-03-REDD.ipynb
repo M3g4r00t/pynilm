{
 "cells": [
  {
   "cell_type": "code",
   "execution_count": 1,
   "metadata": {},
   "outputs": [],
   "source": [
    "import math\n",
    "import numpy as np\n",
    "import pandas as pd\n",
    "import matplotlib.pyplot as plt\n",
    "from pyrqa.settings import Settings\n",
    "from pyrqa.time_series import TimeSeries\n",
    "from pyrqa.computation import RPComputation\n",
    "from pyrqa.computation import RQAComputation\n",
    "from pyrqa.metric import EuclideanMetric\n",
    "from pyrqa.analysis_type import Classic\n",
    "from pyrqa.neighbourhood import FixedRadius\n",
    "from sklearn.feature_selection import mutual_info_regression\n",
    "from sklearn.preprocessing import StandardScaler\n",
    "from scipy.stats import entropy\n",
    "from tqdm import tqdm"
   ]
  },
  {
   "cell_type": "code",
   "execution_count": 2,
   "metadata": {},
   "outputs": [],
   "source": [
    "# Función para calcular la información mutua para varios retrasos temporales\n",
    "def mutual_information_delay(series1, series2, max_lag):\n",
    "    mi = []\n",
    "    for lag in range(1, max_lag + 1):\n",
    "        x = series1[:-lag]\n",
    "        y = series2[lag:]\n",
    "        if len(x) > 3 and len (y) > 3:\n",
    "            mi.append(mutual_info_regression(x.reshape(-1, 1), y)[0])\n",
    "    return mi"
   ]
  },
  {
   "cell_type": "code",
   "execution_count": 3,
   "metadata": {},
   "outputs": [],
   "source": [
    "def calculate_entropy(matrix):\n",
    "    probabilities = np.histogram(matrix, bins=256, density=True)[0]\n",
    "    return entropy(probabilities)"
   ]
  },
  {
   "cell_type": "code",
   "execution_count": 4,
   "metadata": {},
   "outputs": [],
   "source": [
    "def calculate_recurrence_plot(signal, optimal_delay, desired_rr):\n",
    "    # Step 1: Create the TimeSeries object\n",
    "    time_series = TimeSeries(signal,\n",
    "                             embedding_dimension=1,\n",
    "                             time_delay=optimal_delay)\n",
    "    \n",
    "    # Step 2: Define initial settings\n",
    "    initial_radius = 0.5  # Start with a small radius\n",
    "    radius_step = 0.1  # Small step size for finer adjustment\n",
    "    max_iterations = 100  # Max number of iterations to avoid infinite loop\n",
    "    tolerance = 0.01  # Tolerance for recurrence rate difference\n",
    "\n",
    "    # Function to calculate recurrence rate\n",
    "    def compute_rr(radius):\n",
    "        settings = Settings(time_series,\n",
    "                            analysis_type=Classic,\n",
    "                            similarity_measure=EuclideanMetric,\n",
    "                            neighbourhood=FixedRadius(radius))\n",
    "        computation = RPComputation.create(settings)\n",
    "        rp = computation.run()\n",
    "        recurrence_matrix = rp.recurrence_matrix_reverse\n",
    "        rr = (recurrence_matrix.sum() - len(recurrence_matrix)) / (recurrence_matrix.size - len(recurrence_matrix))\n",
    "        return rr, recurrence_matrix\n",
    "\n",
    "    # Step 3: Iteratively adjust the radius to match the desired recurrence rate\n",
    "    current_rr, recurrence_matrix = compute_rr(initial_radius)\n",
    "    iteration = 0\n",
    "    while abs(current_rr - desired_rr) > tolerance and iteration < max_iterations:\n",
    "        if current_rr < desired_rr:\n",
    "            initial_radius /= (1-radius_step)\n",
    "        else:\n",
    "            initial_radius *= (1-radius_step)\n",
    "        current_rr, recurrence_matrix = compute_rr(initial_radius)\n",
    "        #print(current_rr, initial_radius)\n",
    "        iteration += 1\n",
    "\n",
    "    # Return the recurrence matrix with the desired recurrence rate\n",
    "    return recurrence_matrix"
   ]
  },
  {
   "cell_type": "code",
   "execution_count": 5,
   "metadata": {},
   "outputs": [],
   "source": [
    "df_active_value = pd.read_csv('../data/redd_active_value_f1hz.csv')"
   ]
  },
  {
   "cell_type": "code",
   "execution_count": 6,
   "metadata": {},
   "outputs": [],
   "source": [
    "attributes = [c for c in df_active_value.columns.values if not c in ['timestamp']]\n",
    "labels = [c for c in df_active_value.columns.values if not c in ['timestamp', 'mains', 'amplitude_spectrum', 'phase_spectrum']]\n",
    "#labels = ['Microwave01','Washer dryer01','Washer dryer02']\n",
    "predictors = ['mains', 'amplitude_spectrum', 'phase_spectrum']\n",
    "index_name = 'timestamp'\n",
    "training_start = '2011-04-16'\n",
    "training_end = '2011-05-16'\n",
    "test_start = '2011-05-17'\n",
    "test_end = '2011-05-31'\n",
    "\n",
    "window_sizes = [224]\n",
    "number_of_tests = 15\n",
    "recurrence_rates = [0.1, 0.20, 0.30, 0.40, 0.50]"
   ]
  },
  {
   "cell_type": "code",
   "execution_count": 7,
   "metadata": {},
   "outputs": [
    {
     "data": {
      "text/plain": [
       "['Microwave01', 'Washer dryer01', 'Washer dryer02']"
      ]
     },
     "execution_count": 7,
     "metadata": {},
     "output_type": "execute_result"
    }
   ],
   "source": [
    "labels"
   ]
  },
  {
   "cell_type": "code",
   "execution_count": 8,
   "metadata": {},
   "outputs": [],
   "source": [
    "# Ensure 'timestamp' column is in datetime format\n",
    "df_active_value[index_name] = pd.to_datetime(df_active_value[index_name])\n",
    "# Set the index as the timestamp\n",
    "df_active_value.set_index(index_name, inplace=True)"
   ]
  },
  {
   "cell_type": "code",
   "execution_count": 9,
   "metadata": {},
   "outputs": [],
   "source": [
    "# Partition the DataFrame into training and test sets\n",
    "training_active_value_set = df_active_value.loc[training_start:training_end]\n",
    "test_active_value_set = df_active_value.loc[test_start:test_end]\n"
   ]
  },
  {
   "cell_type": "code",
   "execution_count": 10,
   "metadata": {},
   "outputs": [
    {
     "data": {
      "text/plain": [
       "((2674113, 23), (1196394, 23))"
      ]
     },
     "execution_count": 10,
     "metadata": {},
     "output_type": "execute_result"
    }
   ],
   "source": [
    "training_active_value_set.shape, test_active_value_set.shape"
   ]
  },
  {
   "cell_type": "code",
   "execution_count": 11,
   "metadata": {},
   "outputs": [],
   "source": [
    "scaler = StandardScaler()\n",
    "scaler = scaler.fit(training_active_value_set)\n",
    "training_active_value_set = scaler.transform(training_active_value_set)\n",
    "training_active_value_set = pd.DataFrame(training_active_value_set)\n",
    "training_active_value_set.columns = attributes"
   ]
  },
  {
   "cell_type": "code",
   "execution_count": 12,
   "metadata": {},
   "outputs": [
    {
     "name": "stdout",
     "output_type": "stream",
     "text": [
      "{'label': 'Microwave01', 'predictor': 'mains'}\n"
     ]
    },
    {
     "name": "stderr",
     "output_type": "stream",
     "text": [
      "100%|██████████| 15/15 [00:03<00:00,  4.83it/s]\n"
     ]
    },
    {
     "name": "stdout",
     "output_type": "stream",
     "text": [
      "{'label': 'Microwave01', 'predictor': 'mains', 'windows_size': 224, 'optimal_delay': 81}\n"
     ]
    },
    {
     "name": "stderr",
     "output_type": "stream",
     "text": [
      "  0%|          | 0/15 [00:00<?, ?it/s]c:\\Users\\denny\\.conda\\envs\\nilmtk-env\\lib\\site-packages\\pyopencl\\invoker.py:376: UserWarning: pytools.persistent_dict 'pyopencl-invoker-cache-v41': enabling safe_sync as default. This provides strong protection against data loss, but can be unnecessarily expensive for use cases such as caches.Pass 'safe_sync=False' if occasional data loss is tolerable. Pass 'safe_sync=True' to suppress this warning.\n",
      "  invoker_cache = WriteOncePersistentDict(\n",
      "100%|██████████| 15/15 [01:31<00:00,  6.07s/it]\n"
     ]
    },
    {
     "name": "stdout",
     "output_type": "stream",
     "text": [
      "{'label': 'Microwave01', 'predictor': 'mains', 'windows_size': 224, 'optimal_delay': 81, 'rr': 0.1, 'sqrt_ent_psvs_psvs': 0.07552611765338114, 'sqrt_ent_psvs': 0.1370281364908585, 'ent_psvs': 0.08077875826827079}\n"
     ]
    },
    {
     "name": "stderr",
     "output_type": "stream",
     "text": [
      " 93%|█████████▎| 14/15 [01:27<00:06,  6.28s/it]\n",
      "c:\\Users\\denny\\.conda\\envs\\nilmtk-env\\lib\\site-packages\\pyrqa\\opencl.py:196: SyntaxWarning: \"is\" with a literal. Did you mean \"==\"?\n",
      "  if native_vector_width is 0:\n",
      "c:\\Users\\denny\\.conda\\envs\\nilmtk-env\\lib\\site-packages\\pyrqa\\opencl.py:196: SyntaxWarning: \"is\" with a literal. Did you mean \"==\"?\n",
      "  if native_vector_width is 0:\n",
      "c:\\Users\\denny\\.conda\\envs\\nilmtk-env\\lib\\site-packages\\pyrqa\\opencl.py:196: SyntaxWarning: \"is\" with a literal. Did you mean \"==\"?\n",
      "  if native_vector_width is 0:\n",
      "c:\\Users\\denny\\.conda\\envs\\nilmtk-env\\lib\\site-packages\\pyrqa\\opencl.py:196: SyntaxWarning: \"is\" with a literal. Did you mean \"==\"?\n",
      "  if native_vector_width is 0:\n",
      "c:\\Users\\denny\\.conda\\envs\\nilmtk-env\\lib\\site-packages\\pyrqa\\opencl.py:196: SyntaxWarning: \"is\" with a literal. Did you mean \"==\"?\n",
      "  if native_vector_width is 0:\n",
      "c:\\Users\\denny\\.conda\\envs\\nilmtk-env\\lib\\site-packages\\pyrqa\\opencl.py:196: SyntaxWarning: \"is\" with a literal. Did you mean \"==\"?\n",
      "  if native_vector_width is 0:\n",
      "c:\\Users\\denny\\.conda\\envs\\nilmtk-env\\lib\\site-packages\\pyrqa\\opencl.py:196: SyntaxWarning: \"is\" with a literal. Did you mean \"==\"?\n",
      "  if native_vector_width is 0:\n",
      "c:\\Users\\denny\\.conda\\envs\\nilmtk-env\\lib\\site-packages\\pyrqa\\opencl.py:196: SyntaxWarning: \"is\" with a literal. Did you mean \"==\"?\n",
      "  if native_vector_width is 0:\n"
     ]
    },
    {
     "ename": "KeyboardInterrupt",
     "evalue": "",
     "output_type": "error",
     "traceback": [
      "\u001b[1;31m---------------------------------------------------------------------------\u001b[0m",
      "\u001b[1;31mKeyboardInterrupt\u001b[0m                         Traceback (most recent call last)",
      "Cell \u001b[1;32mIn[12], line 37\u001b[0m\n\u001b[0;32m     35\u001b[0m signal \u001b[38;5;241m=\u001b[39m training_active_value_set\u001b[38;5;241m.\u001b[39mloc[r \u001b[38;5;241m*\u001b[39m time_step \u001b[38;5;241m-\u001b[39m window_size:r \u001b[38;5;241m*\u001b[39m time_step\u001b[38;5;241m-\u001b[39m\u001b[38;5;241m1\u001b[39m, [predictor]]\u001b[38;5;241m.\u001b[39mvalues                        \n\u001b[0;32m     36\u001b[0m \u001b[38;5;66;03m# Obtener la matriz de recurrencia\u001b[39;00m\n\u001b[1;32m---> 37\u001b[0m recurrence_matrix \u001b[38;5;241m=\u001b[39m \u001b[43mcalculate_recurrence_plot\u001b[49m\u001b[43m(\u001b[49m\u001b[43msignal\u001b[49m\u001b[43m,\u001b[49m\u001b[43m \u001b[49m\u001b[43moptimal_delay_median\u001b[49m\u001b[43m,\u001b[49m\u001b[43m \u001b[49m\u001b[43mrr\u001b[49m\u001b[43m)\u001b[49m \u001b[38;5;66;03m# type: ignore\u001b[39;00m\n\u001b[0;32m     39\u001b[0m \u001b[38;5;66;03m# Calcular la entropía y la PSVS\u001b[39;00m\n\u001b[0;32m     40\u001b[0m ent \u001b[38;5;241m=\u001b[39m calculate_entropy(recurrence_matrix) \u001b[38;5;66;03m# type: ignore\u001b[39;00m\n",
      "Cell \u001b[1;32mIn[4], line 33\u001b[0m, in \u001b[0;36mcalculate_recurrence_plot\u001b[1;34m(signal, optimal_delay, desired_rr)\u001b[0m\n\u001b[0;32m     31\u001b[0m \u001b[38;5;28;01melse\u001b[39;00m:\n\u001b[0;32m     32\u001b[0m     initial_radius \u001b[38;5;241m*\u001b[39m\u001b[38;5;241m=\u001b[39m (\u001b[38;5;241m1\u001b[39m\u001b[38;5;241m-\u001b[39mradius_step)\n\u001b[1;32m---> 33\u001b[0m current_rr, recurrence_matrix \u001b[38;5;241m=\u001b[39m \u001b[43mcompute_rr\u001b[49m\u001b[43m(\u001b[49m\u001b[43minitial_radius\u001b[49m\u001b[43m)\u001b[49m\n\u001b[0;32m     34\u001b[0m \u001b[38;5;66;03m#print(current_rr, initial_radius)\u001b[39;00m\n\u001b[0;32m     35\u001b[0m iteration \u001b[38;5;241m+\u001b[39m\u001b[38;5;241m=\u001b[39m \u001b[38;5;241m1\u001b[39m\n",
      "Cell \u001b[1;32mIn[4], line 19\u001b[0m, in \u001b[0;36mcalculate_recurrence_plot.<locals>.compute_rr\u001b[1;34m(radius)\u001b[0m\n\u001b[0;32m     14\u001b[0m \u001b[38;5;28;01mdef\u001b[39;00m \u001b[38;5;21mcompute_rr\u001b[39m(radius):\n\u001b[0;32m     15\u001b[0m     settings \u001b[38;5;241m=\u001b[39m Settings(time_series,\n\u001b[0;32m     16\u001b[0m                         analysis_type\u001b[38;5;241m=\u001b[39mClassic,\n\u001b[0;32m     17\u001b[0m                         similarity_measure\u001b[38;5;241m=\u001b[39mEuclideanMetric,\n\u001b[0;32m     18\u001b[0m                         neighbourhood\u001b[38;5;241m=\u001b[39mFixedRadius(radius))\n\u001b[1;32m---> 19\u001b[0m     computation \u001b[38;5;241m=\u001b[39m \u001b[43mRPComputation\u001b[49m\u001b[38;5;241;43m.\u001b[39;49m\u001b[43mcreate\u001b[49m\u001b[43m(\u001b[49m\u001b[43msettings\u001b[49m\u001b[43m)\u001b[49m\n\u001b[0;32m     20\u001b[0m     rp \u001b[38;5;241m=\u001b[39m computation\u001b[38;5;241m.\u001b[39mrun()\n\u001b[0;32m     21\u001b[0m     recurrence_matrix \u001b[38;5;241m=\u001b[39m rp\u001b[38;5;241m.\u001b[39mrecurrence_matrix_reverse\n",
      "File \u001b[1;32mc:\\Users\\denny\\.conda\\envs\\nilmtk-env\\lib\\site-packages\\pyrqa\\computation.py:45\u001b[0m, in \u001b[0;36mRPComputation.create\u001b[1;34m(cls, settings, **kwargs)\u001b[0m\n\u001b[0;32m     38\u001b[0m \u001b[38;5;250m\u001b[39m\u001b[38;5;124;03m\"\"\"\u001b[39;00m\n\u001b[0;32m     39\u001b[0m \u001b[38;5;124;03mCreate RP computation.\u001b[39;00m\n\u001b[0;32m     40\u001b[0m \n\u001b[0;32m     41\u001b[0m \u001b[38;5;124;03m:param settings: Recurrence analysis settings.\u001b[39;00m\n\u001b[0;32m     42\u001b[0m \u001b[38;5;124;03m:param kwargs: Keyword arguments.\u001b[39;00m\n\u001b[0;32m     43\u001b[0m \u001b[38;5;124;03m\"\"\"\u001b[39;00m\n\u001b[0;32m     44\u001b[0m \u001b[38;5;28;01mif\u001b[39;00m \u001b[38;5;28misinstance\u001b[39m(settings\u001b[38;5;241m.\u001b[39mneighbourhood, FixedRadius) \u001b[38;5;129;01mor\u001b[39;00m \u001b[38;5;28misinstance\u001b[39m(settings\u001b[38;5;241m.\u001b[39mneighbourhood, RadiusCorridor):\n\u001b[1;32m---> 45\u001b[0m     \u001b[38;5;28;01mreturn\u001b[39;00m \u001b[43mRPRadiusEngine\u001b[49m\u001b[43m(\u001b[49m\u001b[43msettings\u001b[49m\u001b[43m,\u001b[49m\n\u001b[0;32m     46\u001b[0m \u001b[43m                          \u001b[49m\u001b[38;5;241;43m*\u001b[39;49m\u001b[38;5;241;43m*\u001b[39;49m\u001b[43mkwargs\u001b[49m\u001b[43m)\u001b[49m\n\u001b[0;32m     47\u001b[0m \u001b[38;5;28;01melif\u001b[39;00m \u001b[38;5;28misinstance\u001b[39m(settings\u001b[38;5;241m.\u001b[39mneighbourhood, Unthresholded):\n\u001b[0;32m     48\u001b[0m     \u001b[38;5;28;01mreturn\u001b[39;00m RPUnthresholdedEngine(settings,\n\u001b[0;32m     49\u001b[0m                                  \u001b[38;5;241m*\u001b[39m\u001b[38;5;241m*\u001b[39mkwargs)\n",
      "File \u001b[1;32mc:\\Users\\denny\\.conda\\envs\\nilmtk-env\\lib\\site-packages\\pyrqa\\variants\\rp\\radius\\engine.py:81\u001b[0m, in \u001b[0;36mEngine.__init__\u001b[1;34m(self, settings, edge_length, processing_order, verbose, opencl, use_profiling_events_time, selector, variants, variants_kwargs)\u001b[0m\n\u001b[0;32m     71\u001b[0m RP\u001b[38;5;241m.\u001b[39m\u001b[38;5;21m__init__\u001b[39m(\u001b[38;5;28mself\u001b[39m,\n\u001b[0;32m     72\u001b[0m             settings,\n\u001b[0;32m     73\u001b[0m             verbose)\n\u001b[0;32m     75\u001b[0m AdaptiveImplementationSelection\u001b[38;5;241m.\u001b[39m\u001b[38;5;21m__init__\u001b[39m(\u001b[38;5;28mself\u001b[39m,\n\u001b[0;32m     76\u001b[0m                                          settings,\n\u001b[0;32m     77\u001b[0m                                          selector,\n\u001b[0;32m     78\u001b[0m                                          variants,\n\u001b[0;32m     79\u001b[0m                                          variants_kwargs)\n\u001b[1;32m---> 81\u001b[0m \u001b[38;5;28;43mself\u001b[39;49m\u001b[38;5;241;43m.\u001b[39;49m\u001b[43m__initialise\u001b[49m\u001b[43m(\u001b[49m\u001b[43m)\u001b[49m\n",
      "File \u001b[1;32mc:\\Users\\denny\\.conda\\envs\\nilmtk-env\\lib\\site-packages\\pyrqa\\variants\\rp\\radius\\engine.py:87\u001b[0m, in \u001b[0;36mEngine.__initialise\u001b[1;34m(self)\u001b[0m\n\u001b[0;32m     83\u001b[0m \u001b[38;5;28;01mdef\u001b[39;00m \u001b[38;5;21m__initialise\u001b[39m(\u001b[38;5;28mself\u001b[39m):\n\u001b[0;32m     84\u001b[0m \u001b[38;5;250m    \u001b[39m\u001b[38;5;124;03m\"\"\"\u001b[39;00m\n\u001b[0;32m     85\u001b[0m \u001b[38;5;124;03m    Initialise the compute device-specific global data structures.\u001b[39;00m\n\u001b[0;32m     86\u001b[0m \u001b[38;5;124;03m    \"\"\"\u001b[39;00m\n\u001b[1;32m---> 87\u001b[0m     \u001b[38;5;28;43mself\u001b[39;49m\u001b[38;5;241;43m.\u001b[39;49m\u001b[43mvalidate_opencl\u001b[49m\u001b[43m(\u001b[49m\u001b[43m)\u001b[49m\n\u001b[0;32m     88\u001b[0m     \u001b[38;5;28mself\u001b[39m\u001b[38;5;241m.\u001b[39mvalidate_variants()\n\u001b[0;32m     90\u001b[0m     \u001b[38;5;28mself\u001b[39m\u001b[38;5;241m.\u001b[39mdevice_selector \u001b[38;5;241m=\u001b[39m {}\n",
      "File \u001b[1;32mc:\\Users\\denny\\.conda\\envs\\nilmtk-env\\lib\\site-packages\\pyrqa\\variants\\engine.py:80\u001b[0m, in \u001b[0;36mBaseEngine.validate_opencl\u001b[1;34m(self)\u001b[0m\n\u001b[0;32m     76\u001b[0m \u001b[38;5;250m\u001b[39m\u001b[38;5;124;03m\"\"\"\u001b[39;00m\n\u001b[0;32m     77\u001b[0m \u001b[38;5;124;03mValidate OpenCL object handed over as a parameter in constructor.\u001b[39;00m\n\u001b[0;32m     78\u001b[0m \u001b[38;5;124;03m\"\"\"\u001b[39;00m\n\u001b[0;32m     79\u001b[0m \u001b[38;5;28;01mif\u001b[39;00m \u001b[38;5;129;01mnot\u001b[39;00m \u001b[38;5;28mself\u001b[39m\u001b[38;5;241m.\u001b[39mopencl:\n\u001b[1;32m---> 80\u001b[0m     \u001b[38;5;28mself\u001b[39m\u001b[38;5;241m.\u001b[39mopencl \u001b[38;5;241m=\u001b[39m \u001b[43mOpenCL\u001b[49m\u001b[43m(\u001b[49m\u001b[43mverbose\u001b[49m\u001b[38;5;241;43m=\u001b[39;49m\u001b[38;5;28;43mself\u001b[39;49m\u001b[38;5;241;43m.\u001b[39;49m\u001b[43mverbose\u001b[49m\u001b[43m)\u001b[49m\n",
      "File \u001b[1;32mc:\\Users\\denny\\.conda\\envs\\nilmtk-env\\lib\\site-packages\\pyrqa\\opencl.py:77\u001b[0m, in \u001b[0;36mOpenCL.__init__\u001b[1;34m(self, verbose, command_line, platform_id, device_ids, config_file_path, enable_device_fission, sub_device_properties, sub_device_ids)\u001b[0m\n\u001b[0;32m     74\u001b[0m \u001b[38;5;28mself\u001b[39m\u001b[38;5;241m.\u001b[39msub_device_properties \u001b[38;5;241m=\u001b[39m sub_device_properties\n\u001b[0;32m     75\u001b[0m \u001b[38;5;28mself\u001b[39m\u001b[38;5;241m.\u001b[39msub_device_ids \u001b[38;5;241m=\u001b[39m sub_device_ids\n\u001b[1;32m---> 77\u001b[0m \u001b[38;5;28;43mself\u001b[39;49m\u001b[38;5;241;43m.\u001b[39;49m\u001b[43m__initialise\u001b[49m\u001b[43m(\u001b[49m\u001b[43m)\u001b[49m\n",
      "File \u001b[1;32mc:\\Users\\denny\\.conda\\envs\\nilmtk-env\\lib\\site-packages\\pyrqa\\opencl.py:91\u001b[0m, in \u001b[0;36mOpenCL.__initialise\u001b[1;34m(self)\u001b[0m\n\u001b[0;32m     89\u001b[0m     \u001b[38;5;28mself\u001b[39m\u001b[38;5;241m.\u001b[39mcreate_environment_command_line()\n\u001b[0;32m     90\u001b[0m \u001b[38;5;28;01melse\u001b[39;00m:\n\u001b[1;32m---> 91\u001b[0m     \u001b[38;5;28;43mself\u001b[39;49m\u001b[38;5;241;43m.\u001b[39;49m\u001b[43mcreate_environment\u001b[49m\u001b[43m(\u001b[49m\u001b[43m)\u001b[49m\n",
      "File \u001b[1;32mc:\\Users\\denny\\.conda\\envs\\nilmtk-env\\lib\\site-packages\\pyrqa\\opencl.py:281\u001b[0m, in \u001b[0;36mOpenCL.create_environment\u001b[1;34m(self)\u001b[0m\n\u001b[0;32m    278\u001b[0m \u001b[38;5;28mself\u001b[39m\u001b[38;5;241m.\u001b[39mprint_out(OpenCL\u001b[38;5;241m.\u001b[39mget_platform_info(\u001b[38;5;28mself\u001b[39m\u001b[38;5;241m.\u001b[39mplatform))\n\u001b[0;32m    280\u001b[0m \u001b[38;5;28mself\u001b[39m\u001b[38;5;241m.\u001b[39mset_devices()\n\u001b[1;32m--> 281\u001b[0m \u001b[38;5;28;43mself\u001b[39;49m\u001b[38;5;241;43m.\u001b[39;49m\u001b[43mcreate_contexts\u001b[49m\u001b[43m(\u001b[49m\u001b[43m)\u001b[49m\n",
      "File \u001b[1;32mc:\\Users\\denny\\.conda\\envs\\nilmtk-env\\lib\\site-packages\\pyrqa\\opencl.py:268\u001b[0m, in \u001b[0;36mOpenCL.create_contexts\u001b[1;34m(self)\u001b[0m\n\u001b[0;32m    265\u001b[0m \u001b[38;5;28mself\u001b[39m\u001b[38;5;241m.\u001b[39mprint_out(OpenCL\u001b[38;5;241m.\u001b[39mget_device_info(device))\n\u001b[0;32m    267\u001b[0m context \u001b[38;5;241m=\u001b[39m cl\u001b[38;5;241m.\u001b[39mContext(devices\u001b[38;5;241m=\u001b[39m[device])\n\u001b[1;32m--> 268\u001b[0m \u001b[38;5;28;43mself\u001b[39;49m\u001b[38;5;241;43m.\u001b[39;49m\u001b[43mcontexts\u001b[49m[device] \u001b[38;5;241m=\u001b[39m context\n\u001b[0;32m    270\u001b[0m command_queue \u001b[38;5;241m=\u001b[39m cl\u001b[38;5;241m.\u001b[39mCommandQueue(context, properties\u001b[38;5;241m=\u001b[39mcl\u001b[38;5;241m.\u001b[39mcommand_queue_properties\u001b[38;5;241m.\u001b[39mPROFILING_ENABLE)\n\u001b[0;32m    271\u001b[0m \u001b[38;5;28mself\u001b[39m\u001b[38;5;241m.\u001b[39mcommand_queues[device] \u001b[38;5;241m=\u001b[39m command_queue\n",
      "\u001b[1;31mKeyboardInterrupt\u001b[0m: "
     ]
    }
   ],
   "source": [
    "result_list = list()\n",
    "for label in labels:\n",
    "    for predictor in predictors:\n",
    "        for window_size in window_sizes:\n",
    "            rr_result = dict()\n",
    "            rr_result['label'] = label\n",
    "            rr_result['predictor'] = predictor\n",
    "            print(rr_result)\n",
    "            # calculate best time_delay based in predictor vs label\n",
    "            time_step = int(training_active_value_set.shape[0] / number_of_tests)\n",
    "            i, d = divmod(training_active_value_set.shape[0] - window_size + 1, time_step)\n",
    "            row_factor = i + 1\n",
    "            optimal_delay_list = list()\n",
    "            for r in tqdm(range(int(row_factor))):\n",
    "                if r * time_step >= window_size:\n",
    "                    signal_1 = training_active_value_set.loc[r * time_step - window_size:r * time_step-1, [predictor]].values\n",
    "                    signal_2 = training_active_value_set.loc[r * time_step - window_size:r * time_step-1, [label]].values\n",
    "                    mi_values = mutual_information_delay(signal_1.ravel(), # type: ignore\n",
    "                                                        signal_2.ravel(), int(window_size/2)) \n",
    "                    optimal_delay = np.argmax(mi_values) + 1\n",
    "                    optimal_delay_list.append(optimal_delay)\n",
    "            optimal_delay_median = int(np.median(optimal_delay_list))\n",
    "\n",
    "            rr_result['windows_size'] = window_size\n",
    "            rr_result['optimal_delay'] = optimal_delay_median \n",
    "            print(rr_result)           \n",
    "            # calculate best recurrence rate based predictor\n",
    "            for rr in recurrence_rates:\n",
    "                rr_result['rr'] = rr                \n",
    "                coef1_list = list()\n",
    "                coef2_list = list()\n",
    "                coef3_list = list()\n",
    "                for r in tqdm(range(int(row_factor))):\n",
    "                    if r * time_step >= window_size:\n",
    "                        signal = training_active_value_set.loc[r * time_step - window_size:r * time_step-1, [predictor]].values                        \n",
    "                        # Obtener la matriz de recurrencia\n",
    "                        recurrence_matrix = calculate_recurrence_plot(signal, optimal_delay_median, rr) # type: ignore\n",
    "\n",
    "                        # Calcular la entropía y la PSVS\n",
    "                        ent = calculate_entropy(recurrence_matrix) # type: ignore\n",
    "                        U, S, Vt = np.linalg.svd(recurrence_matrix)\n",
    "                        svs = np.empty(len(S), dtype=np.float32)\n",
    "                        for i in range(len(S)):\n",
    "                            svs[i] = math.log((S[i] / (sum(S) + 0.000000001)) + 0.000000001)\n",
    "                        SVS_prin_cond = (np.max(svs) + np.min(svs)) / 2\n",
    "                        PSVS = 0.0\n",
    "                        for i in range(len(S)):\n",
    "                            if svs[i] >= SVS_prin_cond:\n",
    "                                PSVS += 1\n",
    "                        PSVS /= len(S)\n",
    "\n",
    "                        # Calcular la relación entre la entropía y la SVS\n",
    "                        coef1 = math.sqrt(ent) * PSVS * PSVS \n",
    "\n",
    "                        # Calcular la relación entre la entropía y la SVS\n",
    "                        coef2 = math.sqrt(ent) * PSVS \n",
    "\n",
    "                        # Calcular la relación entre la entropía y la SVS\n",
    "                        coef3 = ent * PSVS\n",
    "\n",
    "                        # Add to results of coefs\n",
    "                        coef1_list.append(coef1)\n",
    "                        coef2_list.append(coef2)\n",
    "                        coef3_list.append(coef3)\n",
    "            \n",
    "                rr_result['sqrt_ent_psvs_psvs'] = np.mean(coef1_list)\n",
    "                rr_result['sqrt_ent_psvs'] = np.mean(coef2_list)\n",
    "                rr_result['ent_psvs'] = np.mean(coef3_list)     \n",
    "                print(rr_result)       \n",
    "                result_list.append(rr_result)\n",
    "                \n",
    "\n",
    "                        \n",
    "\n",
    "            \n"
   ]
  },
  {
   "cell_type": "code",
   "execution_count": null,
   "metadata": {},
   "outputs": [],
   "source": []
  }
 ],
 "metadata": {
  "kernelspec": {
   "display_name": "py311",
   "language": "python",
   "name": "python3"
  },
  "language_info": {
   "codemirror_mode": {
    "name": "ipython",
    "version": 3
   },
   "file_extension": ".py",
   "mimetype": "text/x-python",
   "name": "python",
   "nbconvert_exporter": "python",
   "pygments_lexer": "ipython3",
   "version": "3.11.10"
  }
 },
 "nbformat": 4,
 "nbformat_minor": 2
}
