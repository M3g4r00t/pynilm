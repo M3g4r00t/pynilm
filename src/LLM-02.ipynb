{
 "cells": [
  {
   "cell_type": "code",
   "execution_count": 1,
   "metadata": {},
   "outputs": [],
   "source": [
    "import warnings\n",
    "warnings.filterwarnings(action=\"ignore\")\n",
    "import numpy as np\n",
    "import pandas as pd\n",
    "from tqdm import tqdm\n",
    "import chromadb\n",
    "from chromadb.config import DEFAULT_TENANT, DEFAULT_DATABASE, Settings"
   ]
  },
  {
   "cell_type": "code",
   "execution_count": 2,
   "metadata": {},
   "outputs": [],
   "source": [
    "client = chromadb.PersistentClient(\n",
    "    path=\"db-llm-02\",\n",
    "    settings=Settings(),\n",
    "    tenant=DEFAULT_TENANT,\n",
    "    database=DEFAULT_DATABASE,\n",
    ")"
   ]
  },
  {
   "cell_type": "code",
   "execution_count": 3,
   "metadata": {},
   "outputs": [],
   "source": [
    "# Create a collection for training embeddings\n",
    "try:\n",
    "    collection = client.create_collection(name=\"embeddings_collection_train\")\n",
    "except:\n",
    "    collection = client.get_collection(name=\"embeddings_collection_train\")"
   ]
  },
  {
   "cell_type": "code",
   "execution_count": 4,
   "metadata": {},
   "outputs": [
    {
     "name": "stderr",
     "output_type": "stream",
     "text": [
      "23876it [50:26,  7.89it/s]\n"
     ]
    }
   ],
   "source": [
    "# Path to the file with embeddings\n",
    "progress_file = '../data/v6/progress.txt'\n",
    "\n",
    "# Process the file line by line to minimize memory usage\n",
    "with open(progress_file, 'r') as f:\n",
    "    for i, line in tqdm(enumerate(f)):\n",
    "        # Convert the line to an embedding\n",
    "        embedding = np.fromstring(line.strip(), sep=',', dtype=np.float32)\n",
    "\n",
    "        # Insert into Chroma DB collection\n",
    "        doc_id = f'doc_{i}'\n",
    "        collection.add(ids=[doc_id], embeddings=[embedding.tolist()])"
   ]
  },
  {
   "cell_type": "code",
   "execution_count": 5,
   "metadata": {},
   "outputs": [
    {
     "data": {
      "text/plain": [
       "(57857,)"
      ]
     },
     "execution_count": 5,
     "metadata": {},
     "output_type": "execute_result"
    }
   ],
   "source": [
    "embedding.shape"
   ]
  }
 ],
 "metadata": {
  "kernelspec": {
   "display_name": "py311",
   "language": "python",
   "name": "python3"
  },
  "language_info": {
   "codemirror_mode": {
    "name": "ipython",
    "version": 3
   },
   "file_extension": ".py",
   "mimetype": "text/x-python",
   "name": "python",
   "nbconvert_exporter": "python",
   "pygments_lexer": "ipython3",
   "version": "3.11.9"
  }
 },
 "nbformat": 4,
 "nbformat_minor": 2
}
