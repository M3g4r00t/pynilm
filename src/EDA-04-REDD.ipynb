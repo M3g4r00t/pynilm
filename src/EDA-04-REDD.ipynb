{
 "cells": [
  {
   "cell_type": "code",
   "execution_count": 1,
   "metadata": {},
   "outputs": [],
   "source": [
    "import warnings\n",
    "warnings.filterwarnings(action=\"ignore\")\n",
    "\n",
    "import os\n",
    "import math\n",
    "import numpy as np\n",
    "import pandas as pd\n",
    "import matplotlib.pyplot as plt\n",
    "from pyrqa.settings import Settings\n",
    "from pyrqa.time_series import TimeSeries\n",
    "from pyrqa.computation import RPComputation\n",
    "from pyrqa.metric import EuclideanMetric\n",
    "from pyrqa.analysis_type import Classic\n",
    "from pyrqa.neighbourhood import FixedRadius\n",
    "from sklearn.metrics import mutual_info_score\n",
    "from sklearn.preprocessing import StandardScaler\n",
    "from scipy.stats import entropy\n",
    "from scipy.linalg import svd\n",
    "from tqdm import tqdm\n",
    "from PIL import Image\n",
    "from pyts.image import GramianAngularField"
   ]
  },
  {
   "cell_type": "code",
   "execution_count": 2,
   "metadata": {},
   "outputs": [],
   "source": [
    "# Definir una función para calcular la información mutua\n",
    "def mutual_information(x, y):\n",
    "    x = x.ravel()  # Flatten the array to 1D\n",
    "    y = y.ravel()  # Flatten the array to 1D\n",
    "    c_xy = np.histogram2d(x, y, bins=32)[0]\n",
    "    mi = mutual_info_score(None, None, contingency=c_xy)\n",
    "    return mi"
   ]
  },
  {
   "cell_type": "code",
   "execution_count": 3,
   "metadata": {},
   "outputs": [],
   "source": [
    "# Function to calculate false nearest neighbors\n",
    "def false_nearest_neighbors(time_series, max_dim, tau, threshold=0.1):\n",
    "    N = len(time_series)\n",
    "    fnn_percentages = []\n",
    "    \n",
    "    for d in range(1, max_dim + 1):\n",
    "        rtol = []\n",
    "        atol = []\n",
    "        for i in range(N - d * tau):\n",
    "            if (i + d * tau) < N:\n",
    "                distance = np.abs(time_series[i] - time_series[i + d * tau])\n",
    "                if (i + (d + 1) * tau) < N:\n",
    "                    rtol.append(distance / np.abs(time_series[i + (d + 1) * tau] - time_series[i]))\n",
    "                    atol.append(np.abs(time_series[i + (d + 1) * tau] - time_series[i]))\n",
    "        fnn_percentage = np.mean((np.array(rtol) > threshold) | (np.array(atol) > threshold))\n",
    "        fnn_percentages.append(fnn_percentage)\n",
    "        if fnn_percentage < threshold:\n",
    "            break\n",
    "    \n",
    "    best_dim = np.argmin(fnn_percentages) + 1\n",
    "    return best_dim, fnn_percentages"
   ]
  },
  {
   "cell_type": "code",
   "execution_count": 4,
   "metadata": {},
   "outputs": [],
   "source": [
    "def calculate_entropy(matrix):\n",
    "    \"\"\"\n",
    "    Calculate the Shannon entropy of a given matrix independent of binning.\n",
    "\n",
    "    Parameters:\n",
    "    matrix (numpy.ndarray): Input matrix for which to calculate entropy.\n",
    "\n",
    "    Returns:\n",
    "    float: Shannon entropy value.\n",
    "    \"\"\"\n",
    "    # Flatten the matrix to a 1D array\n",
    "    flat_matrix = matrix.flatten()\n",
    "\n",
    "    # Calculate the frequency of each unique value in the flattened matrix\n",
    "    value_counts = np.bincount(flat_matrix)\n",
    "\n",
    "    # Calculate the probabilities\n",
    "    probabilities = value_counts / np.sum(value_counts)\n",
    "\n",
    "    # Filter out zero probabilities to avoid issues with log2(0)\n",
    "    probabilities = probabilities[probabilities > 0]\n",
    "\n",
    "    # Calculate the Shannon entropy\n",
    "    shannon_entropy = entropy(probabilities, base=2)\n",
    "\n",
    "    return shannon_entropy"
   ]
  },
  {
   "cell_type": "code",
   "execution_count": 5,
   "metadata": {},
   "outputs": [],
   "source": [
    "def singular_value_spectrum(recurrence_matrix):\n",
    "    u, s, vh = svd(recurrence_matrix)\n",
    "    svs = np.log(s / np.sum(s))\n",
    "    return svs, s\n",
    "\n",
    "def principal_singular_value_proportion(svs):\n",
    "    max_svs = np.max(svs)\n",
    "    min_svs = np.min(svs)\n",
    "    threshold = (max_svs + min_svs) / 2\n",
    "    principal_svs = svs[svs >= threshold]\n",
    "    psvp = len(principal_svs) / len(svs)\n",
    "    return psvp\n",
    "\n",
    "def calculate_psvp(recurrence_matrix):\n",
    "    svs, s = singular_value_spectrum(recurrence_matrix)\n",
    "    psvp = principal_singular_value_proportion(svs)\n",
    "    return psvp, svs, s"
   ]
  },
  {
   "cell_type": "code",
   "execution_count": 6,
   "metadata": {},
   "outputs": [],
   "source": [
    "def calculate_recurrence_plot(signal, optimal_delay, optimal_embedding, desired_rr):\n",
    "    \n",
    "    # Step 1: Create the TimeSeries object\n",
    "    time_series = TimeSeries(signal,\n",
    "                             embedding_dimension=optimal_embedding,\n",
    "                             time_delay=optimal_delay)\n",
    "    \n",
    "    # Step 2: Define initial settings\n",
    "    initial_radius = desired_rr  # Start with a small radius\n",
    "    radius_step = 0.1  # Small step size for finer adjustment\n",
    "    max_iterations = 100  # Max number of iterations to avoid infinite loop\n",
    "    tolerance = 0.01  # Tolerance for recurrence rate difference\n",
    "\n",
    "    # Function to calculate recurrence rate\n",
    "    def compute_rr(radius):\n",
    "        settings = Settings(time_series,\n",
    "                            analysis_type=Classic,\n",
    "                            similarity_measure=EuclideanMetric,\n",
    "                            neighbourhood=FixedRadius(radius))\n",
    "        computation = RPComputation.create(settings)\n",
    "        rp = computation.run()\n",
    "        recurrence_matrix = rp.recurrence_matrix_reverse\n",
    "        rr = (recurrence_matrix.sum() - len(recurrence_matrix)) / (recurrence_matrix.size - len(recurrence_matrix))\n",
    "        return rr, recurrence_matrix\n",
    "\n",
    "    # Step 3: Iteratively adjust the radius to match the desired recurrence rate\n",
    "    current_rr, recurrence_matrix = compute_rr(initial_radius)\n",
    "    iteration = 0\n",
    "    while abs(current_rr - desired_rr) > tolerance and iteration < max_iterations:\n",
    "        if current_rr < desired_rr:\n",
    "            initial_radius /= (1-radius_step)\n",
    "        else:\n",
    "            initial_radius *= (1-radius_step)\n",
    "        current_rr, recurrence_matrix = compute_rr(initial_radius)\n",
    "        #print(current_rr, initial_radius)\n",
    "        iteration += 1\n",
    "\n",
    "    # Return the recurrence matrix with the desired recurrence rate\n",
    "    return recurrence_matrix"
   ]
  },
  {
   "cell_type": "code",
   "execution_count": 7,
   "metadata": {},
   "outputs": [],
   "source": [
    "df_active_value = pd.read_csv('../data/redd_active_value_f1hz.csv')"
   ]
  },
  {
   "cell_type": "code",
   "execution_count": 8,
   "metadata": {},
   "outputs": [],
   "source": [
    "attributes = [c for c in df_active_value.columns.values if not c in ['timestamp']]\n",
    "labels = [c for c in df_active_value.columns.values if not c in ['timestamp', 'mains', 'amplitude_spectrum', 'phase_spectrum']]\n",
    "#labels = ['Fridge01','Dish washer01','Microwave01','Washer dryer01','Washer dryer02']\n",
    "predictors = ['mains']\n",
    "index_name = 'timestamp'\n",
    "training_start = '2011-04-16'\n",
    "training_end = '2011-05-16'\n",
    "test_start = '2011-05-17'\n",
    "test_end = '2011-05-31'\n",
    "\n",
    "window_sizes = [28, 56, 112, 224, 448, 896, 1792]\n",
    "number_of_tests = 384\n",
    "recurrence_rates = [0.05, 0.10, 0.15, 0.2, 0.25]\n",
    "\n",
    "ts_image_type = ['rp','gasf','gadf']\n",
    "\n",
    "results_file = '../data/results_rp_params_v5.csv'"
   ]
  },
  {
   "cell_type": "code",
   "execution_count": 9,
   "metadata": {},
   "outputs": [],
   "source": [
    "# Ensure 'timestamp' column is in datetime format\n",
    "df_active_value[index_name] = pd.to_datetime(df_active_value[index_name])\n",
    "# Set the index as the timestamp\n",
    "df_active_value.set_index(index_name, inplace=True)"
   ]
  },
  {
   "cell_type": "code",
   "execution_count": 10,
   "metadata": {},
   "outputs": [],
   "source": [
    "# Partition the DataFrame into training and test sets\n",
    "training_active_value_set = df_active_value.loc[training_start:training_end]\n",
    "test_active_value_set = df_active_value.loc[test_start:test_end]\n"
   ]
  },
  {
   "cell_type": "code",
   "execution_count": 11,
   "metadata": {},
   "outputs": [
    {
     "data": {
      "text/plain": [
       "((2674113, 21), (1196394, 21))"
      ]
     },
     "execution_count": 11,
     "metadata": {},
     "output_type": "execute_result"
    }
   ],
   "source": [
    "training_active_value_set.shape, test_active_value_set.shape"
   ]
  },
  {
   "cell_type": "code",
   "execution_count": 12,
   "metadata": {},
   "outputs": [],
   "source": [
    "scaler = StandardScaler()\n",
    "scaler = scaler.fit(training_active_value_set)\n",
    "training_active_value_set = scaler.transform(training_active_value_set)\n",
    "training_active_value_set = pd.DataFrame(training_active_value_set)\n",
    "training_active_value_set.columns = attributes"
   ]
  },
  {
   "cell_type": "code",
   "execution_count": 14,
   "metadata": {},
   "outputs": [
    {
     "name": "stdout",
     "output_type": "stream",
     "text": [
      "{'predictor': 'mains'}\n"
     ]
    },
    {
     "name": "stderr",
     "output_type": "stream",
     "text": [
      "100%|██████████| 385/385 [00:01<00:00, 301.53it/s]\n"
     ]
    },
    {
     "name": "stdout",
     "output_type": "stream",
     "text": [
      "{'predictor': 'mains', 'windows_size': 28, 'optimal_delay': 1}\n"
     ]
    },
    {
     "name": "stderr",
     "output_type": "stream",
     "text": [
      "100%|██████████| 385/385 [00:00<00:00, 1013.75it/s]\n"
     ]
    },
    {
     "name": "stdout",
     "output_type": "stream",
     "text": [
      "{'predictor': 'mains', 'windows_size': 28, 'optimal_delay': 1, 'optimal_embedding': 1}\n"
     ]
    },
    {
     "name": "stderr",
     "output_type": "stream",
     "text": [
      "100%|██████████| 385/385 [06:02<00:00,  1.06it/s]\n"
     ]
    },
    {
     "name": "stdout",
     "output_type": "stream",
     "text": [
      "{'predictor': 'mains', 'windows_size': 28, 'optimal_delay': 1, 'optimal_embedding': 1, 'image': 'rp', 'rr': 0.05, 'c_ent_div_psvp': 2.3400963996802893, 'c_ent_mul_psvp': 0.7114018985793571, 'c_1_div_2_to_ent_div_psvp': 148.82618777255814, 'c_1_div_2_to_ent_mul_psvp': 0.023109428101136545, 'c_ent': 1.152523951911133, 'c_psvp': 0.21146065848214288}\n"
     ]
    },
    {
     "name": "stderr",
     "output_type": "stream",
     "text": [
      "100%|██████████| 385/385 [04:17<00:00,  1.49it/s]\n"
     ]
    },
    {
     "name": "stdout",
     "output_type": "stream",
     "text": [
      "{'predictor': 'mains', 'windows_size': 28, 'optimal_delay': 1, 'optimal_embedding': 1, 'image': 'rp', 'rr': 0.1, 'c_ent_div_psvp': 2.889468818028172, 'c_ent_mul_psvp': 0.8973790184921832, 'c_1_div_2_to_ent_div_psvp': 148.80143176369756, 'c_1_div_2_to_ent_mul_psvp': 0.013713941342321767, 'c_ent': 1.4612377552177584, 'c_psvp': 0.20927501860119047}\n"
     ]
    },
    {
     "name": "stderr",
     "output_type": "stream",
     "text": [
      "100%|██████████| 385/385 [07:07<00:00,  1.11s/it]\n"
     ]
    },
    {
     "name": "stdout",
     "output_type": "stream",
     "text": [
      "{'predictor': 'mains', 'windows_size': 28, 'optimal_delay': 1, 'optimal_embedding': 1, 'image': 'rp', 'rr': 0.15, 'c_ent_div_psvp': 3.1178892343151947, 'c_ent_mul_psvp': 1.0068942990015752, 'c_1_div_2_to_ent_div_psvp': 148.79276068710573, 'c_1_div_2_to_ent_mul_psvp': 0.010465768621900849, 'c_ent': 1.6405511858791781, 'c_psvp': 0.20815894717261904}\n"
     ]
    },
    {
     "name": "stderr",
     "output_type": "stream",
     "text": [
      "100%|██████████| 385/385 [08:17<00:00,  1.29s/it]\n"
     ]
    },
    {
     "name": "stdout",
     "output_type": "stream",
     "text": [
      "{'predictor': 'mains', 'windows_size': 28, 'optimal_delay': 1, 'optimal_embedding': 1, 'image': 'rp', 'rr': 0.2, 'c_ent_div_psvp': 3.6715039375724317, 'c_ent_mul_psvp': 1.0039660036810159, 'c_1_div_2_to_ent_div_psvp': 148.7914824824201, 'c_1_div_2_to_ent_mul_psvp': 0.008537261584348336, 'c_ent': 1.7653617406603936, 'c_psvp': 0.1932547433035714}\n"
     ]
    },
    {
     "name": "stderr",
     "output_type": "stream",
     "text": [
      "100%|██████████| 385/385 [06:16<00:00,  1.02it/s]\n"
     ]
    },
    {
     "name": "stdout",
     "output_type": "stream",
     "text": [
      "{'predictor': 'mains', 'windows_size': 28, 'optimal_delay': 1, 'optimal_embedding': 1, 'image': 'rp', 'rr': 0.25, 'c_ent_div_psvp': 4.068087748267738, 'c_ent_mul_psvp': 1.003364376732568, 'c_1_div_2_to_ent_div_psvp': 148.79009009172447, 'c_1_div_2_to_ent_mul_psvp': 0.007194780568157667, 'c_ent': 1.8582067170814363, 'c_psvp': 0.18184988839285712}\n"
     ]
    },
    {
     "name": "stderr",
     "output_type": "stream",
     "text": [
      "100%|██████████| 385/385 [00:20<00:00, 18.86it/s]\n"
     ]
    },
    {
     "name": "stdout",
     "output_type": "stream",
     "text": [
      "{'predictor': 'mains', 'windows_size': 28, 'optimal_delay': 1, 'optimal_embedding': 1, 'image': 'gasf', 'rr': 0, 'c_ent_div_psvp': 14.969616838652664, 'c_ent_mul_psvp': 0.5108616177463738, 'c_1_div_2_to_ent_div_psvp': 148.7791134189746, 'c_1_div_2_to_ent_mul_psvp': 0.00344958564134606, 'c_ent': 2.44424883125598, 'c_psvp': 0.07290504092261905}\n"
     ]
    },
    {
     "name": "stderr",
     "output_type": "stream",
     "text": [
      "100%|██████████| 385/385 [00:02<00:00, 129.29it/s]\n"
     ]
    },
    {
     "name": "stdout",
     "output_type": "stream",
     "text": [
      "{'predictor': 'mains', 'windows_size': 28, 'optimal_delay': 1, 'optimal_embedding': 1, 'image': 'gadf', 'rr': 0, 'c_ent_div_psvp': 12.078119757240586, 'c_ent_mul_psvp': 0.588114803670575, 'c_1_div_2_to_ent_div_psvp': 6666666.6735780435, 'c_1_div_2_to_ent_mul_psvp': 0.0003552441940004117, 'c_ent': 2.5998446171276455, 'c_psvp': 0.07571847098214286}\n",
      "{'predictor': 'mains'}\n"
     ]
    },
    {
     "name": "stderr",
     "output_type": "stream",
     "text": [
      "100%|██████████| 385/385 [00:02<00:00, 170.36it/s]\n"
     ]
    },
    {
     "name": "stdout",
     "output_type": "stream",
     "text": [
      "{'predictor': 'mains', 'windows_size': 56, 'optimal_delay': 1}\n"
     ]
    },
    {
     "name": "stderr",
     "output_type": "stream",
     "text": [
      "100%|██████████| 385/385 [00:00<00:00, 550.24it/s]\n"
     ]
    },
    {
     "name": "stdout",
     "output_type": "stream",
     "text": [
      "{'predictor': 'mains', 'windows_size': 56, 'optimal_delay': 1, 'optimal_embedding': 1}\n"
     ]
    },
    {
     "name": "stderr",
     "output_type": "stream",
     "text": [
      "100%|██████████| 385/385 [05:52<00:00,  1.09it/s]\n"
     ]
    },
    {
     "name": "stdout",
     "output_type": "stream",
     "text": [
      "{'predictor': 'mains', 'windows_size': 56, 'optimal_delay': 1, 'optimal_embedding': 1, 'image': 'rp', 'rr': 0.05, 'c_ent_div_psvp': 1.6726941384037344, 'c_ent_mul_psvp': 0.6646454870682001, 'c_1_div_2_to_ent_div_psvp': 148.82571272479086, 'c_1_div_2_to_ent_mul_psvp': 0.03235398347511608, 'c_ent': 1.003656260703286, 'c_psvp': 0.2260625930059524}\n"
     ]
    },
    {
     "name": "stderr",
     "output_type": "stream",
     "text": [
      "100%|██████████| 385/385 [07:34<00:00,  1.18s/it]\n"
     ]
    },
    {
     "name": "stdout",
     "output_type": "stream",
     "text": [
      "{'predictor': 'mains', 'windows_size': 56, 'optimal_delay': 1, 'optimal_embedding': 1, 'image': 'rp', 'rr': 0.1, 'c_ent_div_psvp': 2.101841873289266, 'c_ent_mul_psvp': 0.89494832351344, 'c_1_div_2_to_ent_div_psvp': 148.79608451732616, 'c_1_div_2_to_ent_mul_psvp': 0.01966147983858455, 'c_ent': 1.3112493995632333, 'c_psvp': 0.23122442336309523}\n"
     ]
    },
    {
     "name": "stderr",
     "output_type": "stream",
     "text": [
      "100%|██████████| 385/385 [06:50<00:00,  1.07s/it]\n"
     ]
    },
    {
     "name": "stdout",
     "output_type": "stream",
     "text": [
      "{'predictor': 'mains', 'windows_size': 56, 'optimal_delay': 1, 'optimal_embedding': 1, 'image': 'rp', 'rr': 0.15, 'c_ent_div_psvp': 2.4025591971022764, 'c_ent_mul_psvp': 1.0136976254647942, 'c_1_div_2_to_ent_div_psvp': 148.7843257752256, 'c_1_div_2_to_ent_mul_psvp': 0.01444843166925022, 'c_ent': 1.5002909007775038, 'c_psvp': 0.22857375372023805}\n"
     ]
    },
    {
     "name": "stderr",
     "output_type": "stream",
     "text": [
      "100%|██████████| 385/385 [07:16<00:00,  1.13s/it]\n"
     ]
    },
    {
     "name": "stdout",
     "output_type": "stream",
     "text": [
      "{'predictor': 'mains', 'windows_size': 56, 'optimal_delay': 1, 'optimal_embedding': 1, 'image': 'rp', 'rr': 0.2, 'c_ent_div_psvp': 2.7100838065516926, 'c_ent_mul_psvp': 1.0551149120855141, 'c_1_div_2_to_ent_div_psvp': 148.7813995291185, 'c_1_div_2_to_ent_mul_psvp': 0.011591563445576714, 'c_ent': 1.6282154115828529, 'c_psvp': 0.21781994047619047}\n"
     ]
    },
    {
     "name": "stderr",
     "output_type": "stream",
     "text": [
      "100%|██████████| 385/385 [06:25<00:00,  1.00s/it]\n"
     ]
    },
    {
     "name": "stdout",
     "output_type": "stream",
     "text": [
      "{'predictor': 'mains', 'windows_size': 56, 'optimal_delay': 1, 'optimal_embedding': 1, 'image': 'rp', 'rr': 0.25, 'c_ent_div_psvp': 2.8399874892276906, 'c_ent_mul_psvp': 1.1148348511353052, 'c_1_div_2_to_ent_div_psvp': 148.77978301471606, 'c_1_div_2_to_ent_mul_psvp': 0.010417308711709324, 'c_ent': 1.7136915008210039, 'c_psvp': 0.2180873325892857}\n"
     ]
    },
    {
     "name": "stderr",
     "output_type": "stream",
     "text": [
      "100%|██████████| 385/385 [00:16<00:00, 22.71it/s]\n"
     ]
    },
    {
     "name": "stdout",
     "output_type": "stream",
     "text": [
      "{'predictor': 'mains', 'windows_size': 56, 'optimal_delay': 1, 'optimal_embedding': 1, 'image': 'gasf', 'rr': 0, 'c_ent_div_psvp': 12.096693164674386, 'c_ent_mul_psvp': 0.5999139428449699, 'c_1_div_2_to_ent_div_psvp': 148.78144912556235, 'c_1_div_2_to_ent_mul_psvp': 0.0035879229396983104, 'c_ent': 2.3996370005873384, 'c_psvp': 0.08585611979166667}\n"
     ]
    },
    {
     "name": "stderr",
     "output_type": "stream",
     "text": [
      "100%|██████████| 385/385 [00:02<00:00, 150.20it/s]\n"
     ]
    },
    {
     "name": "stdout",
     "output_type": "stream",
     "text": [
      "{'predictor': 'mains', 'windows_size': 56, 'optimal_delay': 1, 'optimal_embedding': 1, 'image': 'gadf', 'rr': 0, 'c_ent_div_psvp': 7.932525128142548, 'c_ent_mul_psvp': 0.8818853077034738, 'c_1_div_2_to_ent_div_psvp': 6640625.007832378, 'c_1_div_2_to_ent_mul_psvp': 0.0005850297125774585, 'c_ent': 2.5903966923064576, 'c_psvp': 0.11440894717261903}\n",
      "{'predictor': 'mains'}\n"
     ]
    },
    {
     "name": "stderr",
     "output_type": "stream",
     "text": [
      "100%|██████████| 385/385 [00:04<00:00, 87.34it/s] \n"
     ]
    },
    {
     "name": "stdout",
     "output_type": "stream",
     "text": [
      "{'predictor': 'mains', 'windows_size': 112, 'optimal_delay': 1}\n"
     ]
    },
    {
     "name": "stderr",
     "output_type": "stream",
     "text": [
      "100%|██████████| 385/385 [00:01<00:00, 286.55it/s]\n"
     ]
    },
    {
     "name": "stdout",
     "output_type": "stream",
     "text": [
      "{'predictor': 'mains', 'windows_size': 112, 'optimal_delay': 1, 'optimal_embedding': 1}\n"
     ]
    },
    {
     "name": "stderr",
     "output_type": "stream",
     "text": [
      "100%|██████████| 385/385 [06:44<00:00,  1.05s/it]\n"
     ]
    },
    {
     "name": "stdout",
     "output_type": "stream",
     "text": [
      "{'predictor': 'mains', 'windows_size': 112, 'optimal_delay': 1, 'optimal_embedding': 1, 'image': 'rp', 'rr': 0.05, 'c_ent_div_psvp': 1.2140828439297304, 'c_ent_mul_psvp': 0.7068426341924913, 'c_1_div_2_to_ent_div_psvp': 148.82094739177, 'c_1_div_2_to_ent_mul_psvp': 0.04487523374875271, 'c_ent': 0.9103324330048826, 'c_psvp': 0.2642880394345238}\n"
     ]
    },
    {
     "name": "stderr",
     "output_type": "stream",
     "text": [
      "100%|██████████| 385/385 [05:13<00:00,  1.23it/s]\n"
     ]
    },
    {
     "name": "stdout",
     "output_type": "stream",
     "text": [
      "{'predictor': 'mains', 'windows_size': 112, 'optimal_delay': 1, 'optimal_embedding': 1, 'image': 'rp', 'rr': 0.1, 'c_ent_div_psvp': 1.645498581794748, 'c_ent_mul_psvp': 0.9071875576580625, 'c_1_div_2_to_ent_div_psvp': 148.79474962786415, 'c_1_div_2_to_ent_mul_psvp': 0.02758201576845438, 'c_ent': 1.1984267648287055, 'c_psvp': 0.25777762276785715}\n"
     ]
    },
    {
     "name": "stderr",
     "output_type": "stream",
     "text": [
      "100%|██████████| 385/385 [05:29<00:00,  1.17it/s]\n"
     ]
    },
    {
     "name": "stdout",
     "output_type": "stream",
     "text": [
      "{'predictor': 'mains', 'windows_size': 112, 'optimal_delay': 1, 'optimal_embedding': 1, 'image': 'rp', 'rr': 0.15, 'c_ent_div_psvp': 1.871003704965906, 'c_ent_mul_psvp': 1.0521699375427234, 'c_1_div_2_to_ent_div_psvp': 148.781776179475, 'c_1_div_2_to_ent_mul_psvp': 0.020649855051274837, 'c_ent': 1.3784844707608161, 'c_psvp': 0.25885881696428575}\n"
     ]
    },
    {
     "name": "stderr",
     "output_type": "stream",
     "text": [
      "100%|██████████| 385/385 [06:41<00:00,  1.04s/it]\n"
     ]
    },
    {
     "name": "stdout",
     "output_type": "stream",
     "text": [
      "{'predictor': 'mains', 'windows_size': 112, 'optimal_delay': 1, 'optimal_embedding': 1, 'image': 'rp', 'rr': 0.2, 'c_ent_div_psvp': 2.0743400135146035, 'c_ent_mul_psvp': 1.1277723576246448, 'c_1_div_2_to_ent_div_psvp': 148.77778315845907, 'c_1_div_2_to_ent_mul_psvp': 0.017254640968322434, 'c_ent': 1.496929941831871, 'c_psvp': 0.25444103422619047}\n"
     ]
    },
    {
     "name": "stderr",
     "output_type": "stream",
     "text": [
      "100%|██████████| 385/385 [06:11<00:00,  1.04it/s]\n"
     ]
    },
    {
     "name": "stdout",
     "output_type": "stream",
     "text": [
      "{'predictor': 'mains', 'windows_size': 112, 'optimal_delay': 1, 'optimal_embedding': 1, 'image': 'rp', 'rr': 0.25, 'c_ent_div_psvp': 2.3039808827994954, 'c_ent_mul_psvp': 1.1225171917366643, 'c_1_div_2_to_ent_div_psvp': 148.77944346394221, 'c_1_div_2_to_ent_mul_psvp': 0.014989232930096895, 'c_ent': 1.566035483224443, 'c_psvp': 0.23959495907738096}\n"
     ]
    },
    {
     "name": "stderr",
     "output_type": "stream",
     "text": [
      "100%|██████████| 385/385 [00:17<00:00, 22.50it/s]\n"
     ]
    },
    {
     "name": "stdout",
     "output_type": "stream",
     "text": [
      "{'predictor': 'mains', 'windows_size': 112, 'optimal_delay': 1, 'optimal_embedding': 1, 'image': 'gasf', 'rr': 0, 'c_ent_div_psvp': 9.889101617040346, 'c_ent_mul_psvp': 0.6850115654851949, 'c_1_div_2_to_ent_div_psvp': 148.77301857188002, 'c_1_div_2_to_ent_mul_psvp': 0.0037912992820405083, 'c_ent': 2.364639574704801, 'c_psvp': 0.09896995907738095}\n"
     ]
    },
    {
     "name": "stderr",
     "output_type": "stream",
     "text": [
      "100%|██████████| 385/385 [00:02<00:00, 134.08it/s]\n"
     ]
    },
    {
     "name": "stdout",
     "output_type": "stream",
     "text": [
      "{'predictor': 'mains', 'windows_size': 112, 'optimal_delay': 1, 'optimal_embedding': 1, 'image': 'gadf', 'rr': 0, 'c_ent_div_psvp': 5.351422133662971, 'c_ent_mul_psvp': 1.2765001147444188, 'c_1_div_2_to_ent_div_psvp': 6640625.003754516, 'c_1_div_2_to_ent_mul_psvp': 0.0008499865094567637, 'c_ent': 2.577091956133496, 'c_psvp': 0.16646902901785715}\n",
      "{'predictor': 'mains'}\n"
     ]
    },
    {
     "name": "stderr",
     "output_type": "stream",
     "text": [
      "100%|██████████| 385/385 [00:09<00:00, 40.83it/s]\n"
     ]
    },
    {
     "name": "stdout",
     "output_type": "stream",
     "text": [
      "{'predictor': 'mains', 'windows_size': 224, 'optimal_delay': 1}\n"
     ]
    },
    {
     "name": "stderr",
     "output_type": "stream",
     "text": [
      "100%|██████████| 385/385 [00:02<00:00, 153.10it/s]\n"
     ]
    },
    {
     "name": "stdout",
     "output_type": "stream",
     "text": [
      "{'predictor': 'mains', 'windows_size': 224, 'optimal_delay': 1, 'optimal_embedding': 1}\n"
     ]
    },
    {
     "name": "stderr",
     "output_type": "stream",
     "text": [
      "100%|██████████| 385/385 [06:06<00:00,  1.05it/s]\n"
     ]
    },
    {
     "name": "stdout",
     "output_type": "stream",
     "text": [
      "{'predictor': 'mains', 'windows_size': 224, 'optimal_delay': 1, 'optimal_embedding': 1, 'image': 'rp', 'rr': 0.05, 'c_ent_div_psvp': 0.2221955021153262, 'c_ent_mul_psvp': 0.06538093639538295, 'c_1_div_2_to_ent_div_psvp': 148.64852363593806, 'c_1_div_2_to_ent_mul_psvp': 0.15640442481605424, 'c_ent': 0.11510379868852755, 'c_psvp': 0.1967308407738095}\n"
     ]
    },
    {
     "name": "stderr",
     "output_type": "stream",
     "text": [
      "100%|██████████| 385/385 [05:46<00:00,  1.11it/s]\n"
     ]
    },
    {
     "name": "stdout",
     "output_type": "stream",
     "text": [
      "{'predictor': 'mains', 'windows_size': 224, 'optimal_delay': 1, 'optimal_embedding': 1, 'image': 'rp', 'rr': 0.1, 'c_ent_div_psvp': 0.3288138577778981, 'c_ent_mul_psvp': 0.09356449979424615, 'c_1_div_2_to_ent_div_psvp': 148.6127321153513, 'c_1_div_2_to_ent_mul_psvp': 0.1359639005318882, 'c_ent': 0.16938309666214693, 'c_psvp': 0.19077845982142858}\n"
     ]
    },
    {
     "name": "stderr",
     "output_type": "stream",
     "text": [
      "100%|██████████| 385/385 [06:25<00:00,  1.00s/it]\n"
     ]
    },
    {
     "name": "stdout",
     "output_type": "stream",
     "text": [
      "{'predictor': 'mains', 'windows_size': 224, 'optimal_delay': 1, 'optimal_embedding': 1, 'image': 'rp', 'rr': 0.15, 'c_ent_div_psvp': 0.4224257366335096, 'c_ent_mul_psvp': 0.11351452988635345, 'c_1_div_2_to_ent_div_psvp': 148.59092190796312, 'c_1_div_2_to_ent_mul_psvp': 0.12081254244406826, 'c_ent': 0.21215931109266561, 'c_psvp': 0.18466331845238096}\n"
     ]
    },
    {
     "name": "stderr",
     "output_type": "stream",
     "text": [
      "100%|██████████| 385/385 [08:47<00:00,  1.37s/it]\n"
     ]
    },
    {
     "name": "stdout",
     "output_type": "stream",
     "text": [
      "{'predictor': 'mains', 'windows_size': 224, 'optimal_delay': 1, 'optimal_embedding': 1, 'image': 'rp', 'rr': 0.2, 'c_ent_div_psvp': 0.5328731882539129, 'c_ent_mul_psvp': 0.12620522023726233, 'c_1_div_2_to_ent_div_psvp': 148.59383221846696, 'c_1_div_2_to_ent_mul_psvp': 0.10672933508931615, 'c_ent': 0.2485454664557203, 'c_psvp': 0.17532784598214288}\n"
     ]
    },
    {
     "name": "stderr",
     "output_type": "stream",
     "text": [
      "100%|██████████| 385/385 [09:06<00:00,  1.42s/it]\n"
     ]
    },
    {
     "name": "stdout",
     "output_type": "stream",
     "text": [
      "{'predictor': 'mains', 'windows_size': 224, 'optimal_delay': 1, 'optimal_embedding': 1, 'image': 'rp', 'rr': 0.25, 'c_ent_div_psvp': 0.6582853425450964, 'c_ent_mul_psvp': 0.13398133423504924, 'c_1_div_2_to_ent_div_psvp': 148.61414252169465, 'c_1_div_2_to_ent_mul_psvp': 0.09560864019826042, 'c_ent': 0.27786703211002856, 'c_psvp': 0.1664574032738095}\n"
     ]
    },
    {
     "name": "stderr",
     "output_type": "stream",
     "text": [
      "100%|██████████| 385/385 [00:30<00:00, 12.56it/s]\n"
     ]
    },
    {
     "name": "stdout",
     "output_type": "stream",
     "text": [
      "{'predictor': 'mains', 'windows_size': 224, 'optimal_delay': 1, 'optimal_embedding': 1, 'image': 'gasf', 'rr': 0, 'c_ent_div_psvp': 10.09545552821663, 'c_ent_mul_psvp': 0.7897840858002274, 'c_1_div_2_to_ent_div_psvp': 148.24117879463515, 'c_1_div_2_to_ent_mul_psvp': 0.004038606496867853, 'c_ent': 2.305287468018811, 'c_psvp': 0.11497860863095237}\n"
     ]
    },
    {
     "name": "stderr",
     "output_type": "stream",
     "text": [
      "100%|██████████| 385/385 [00:04<00:00, 94.74it/s] \n"
     ]
    },
    {
     "name": "stdout",
     "output_type": "stream",
     "text": [
      "{'predictor': 'mains', 'windows_size': 224, 'optimal_delay': 1, 'optimal_embedding': 1, 'image': 'gadf', 'rr': 0, 'c_ent_div_psvp': 4.707003114331331, 'c_ent_mul_psvp': 1.4032226673992712, 'c_1_div_2_to_ent_div_psvp': 6614583.342289886, 'c_1_div_2_to_ent_mul_psvp': 0.001209956579421677, 'c_ent': 2.499330425990781, 'c_psvp': 0.18743024553571427}\n",
      "{'predictor': 'mains'}\n"
     ]
    },
    {
     "name": "stderr",
     "output_type": "stream",
     "text": [
      "100%|██████████| 384/384 [00:59<00:00,  6.44it/s]\n"
     ]
    },
    {
     "name": "stdout",
     "output_type": "stream",
     "text": [
      "{'predictor': 'mains', 'windows_size': 448, 'optimal_delay': 1}\n"
     ]
    },
    {
     "name": "stderr",
     "output_type": "stream",
     "text": [
      "100%|██████████| 384/384 [00:12<00:00, 30.78it/s]\n"
     ]
    },
    {
     "name": "stdout",
     "output_type": "stream",
     "text": [
      "{'predictor': 'mains', 'windows_size': 448, 'optimal_delay': 1, 'optimal_embedding': 1}\n"
     ]
    },
    {
     "name": "stderr",
     "output_type": "stream",
     "text": [
      "100%|██████████| 384/384 [08:56<00:00,  1.40s/it]\n"
     ]
    },
    {
     "name": "stdout",
     "output_type": "stream",
     "text": [
      "{'predictor': 'mains', 'windows_size': 448, 'optimal_delay': 1, 'optimal_embedding': 1, 'image': 'rp', 'rr': 0.05, 'c_ent_div_psvp': 1.4497517971422251, 'c_ent_mul_psvp': 0.8206720618909158, 'c_1_div_2_to_ent_div_psvp': 148.0251077494036, 'c_1_div_2_to_ent_mul_psvp': 0.03517335242911826, 'c_ent': 1.080974285113499, 'c_psvp': 0.25959296904140244}\n"
     ]
    },
    {
     "name": "stderr",
     "output_type": "stream",
     "text": [
      "100%|██████████| 384/384 [09:05<00:00,  1.42s/it]\n"
     ]
    },
    {
     "name": "stdout",
     "output_type": "stream",
     "text": [
      "{'predictor': 'mains', 'windows_size': 448, 'optimal_delay': 1, 'optimal_embedding': 1, 'image': 'rp', 'rr': 0.1, 'c_ent_div_psvp': 1.8685788363368971, 'c_ent_mul_psvp': 0.9102578144156617, 'c_1_div_2_to_ent_div_psvp': 148.0107133276911, 'c_1_div_2_to_ent_mul_psvp': 0.025464424280867447, 'c_ent': 1.2859021784431628, 'c_psvp': 0.24474309958970533}\n"
     ]
    },
    {
     "name": "stderr",
     "output_type": "stream",
     "text": [
      "100%|██████████| 384/384 [08:48<00:00,  1.38s/it]\n"
     ]
    },
    {
     "name": "stdout",
     "output_type": "stream",
     "text": [
      "{'predictor': 'mains', 'windows_size': 448, 'optimal_delay': 1, 'optimal_embedding': 1, 'image': 'rp', 'rr': 0.15, 'c_ent_div_psvp': 2.12997205600899, 'c_ent_mul_psvp': 0.9482967591126454, 'c_1_div_2_to_ent_div_psvp': 148.00559821954238, 'c_1_div_2_to_ent_mul_psvp': 0.02125767675290522, 'c_ent': 1.3994245624798454, 'c_psvp': 0.23454401342782544}\n"
     ]
    },
    {
     "name": "stderr",
     "output_type": "stream",
     "text": [
      "100%|██████████| 384/384 [08:05<00:00,  1.26s/it]\n"
     ]
    },
    {
     "name": "stdout",
     "output_type": "stream",
     "text": [
      "{'predictor': 'mains', 'windows_size': 448, 'optimal_delay': 1, 'optimal_embedding': 1, 'image': 'rp', 'rr': 0.2, 'c_ent_div_psvp': 2.2941525971519154, 'c_ent_mul_psvp': 0.9658944958475734, 'c_1_div_2_to_ent_div_psvp': 148.00548455690756, 'c_1_div_2_to_ent_mul_psvp': 0.018795376571708985, 'c_ent': 1.467243391880172, 'c_psvp': 0.22597678105184632}\n"
     ]
    },
    {
     "name": "stderr",
     "output_type": "stream",
     "text": [
      "100%|██████████| 384/384 [31:30<00:00,  4.92s/it]    \n"
     ]
    },
    {
     "name": "stdout",
     "output_type": "stream",
     "text": [
      "{'predictor': 'mains', 'windows_size': 448, 'optimal_delay': 1, 'optimal_embedding': 1, 'image': 'rp', 'rr': 0.25, 'c_ent_div_psvp': 2.475235939729456, 'c_ent_mul_psvp': 0.9520346573154101, 'c_1_div_2_to_ent_div_psvp': 148.01738209939123, 'c_1_div_2_to_ent_mul_psvp': 0.0176892691530225, 'c_ent': 1.496061713727808, 'c_psvp': 0.2158010070869079}\n"
     ]
    },
    {
     "name": "stderr",
     "output_type": "stream",
     "text": [
      "100%|██████████| 384/384 [00:21<00:00, 17.96it/s]\n"
     ]
    },
    {
     "name": "stdout",
     "output_type": "stream",
     "text": [
      "{'predictor': 'mains', 'windows_size': 448, 'optimal_delay': 1, 'optimal_embedding': 1, 'image': 'gasf', 'rr': 0, 'c_ent_div_psvp': 14.183655411692504, 'c_ent_mul_psvp': 0.6559013630781051, 'c_1_div_2_to_ent_div_psvp': 147.99636043100102, 'c_1_div_2_to_ent_mul_psvp': 0.003779160723992767, 'c_ent': 2.3277889004538257, 'c_psvp': 0.09500885863483774}\n"
     ]
    },
    {
     "name": "stderr",
     "output_type": "stream",
     "text": [
      "100%|██████████| 384/384 [00:04<00:00, 91.89it/s]\n"
     ]
    },
    {
     "name": "stdout",
     "output_type": "stream",
     "text": [
      "{'predictor': 'mains', 'windows_size': 448, 'optimal_delay': 1, 'optimal_embedding': 1, 'image': 'gadf', 'rr': 0, 'c_ent_div_psvp': 4.459198809854314, 'c_ent_mul_psvp': 1.5497791608698963, 'c_1_div_2_to_ent_div_psvp': 6605744.128637527, 'c_1_div_2_to_ent_mul_psvp': 0.0011103559077245658, 'c_ent': 2.5814630830253837, 'c_psvp': 0.20363204028347628}\n",
      "{'predictor': 'mains'}\n"
     ]
    },
    {
     "name": "stderr",
     "output_type": "stream",
     "text": [
      "100%|██████████| 384/384 [01:16<00:00,  5.00it/s]\n"
     ]
    },
    {
     "name": "stdout",
     "output_type": "stream",
     "text": [
      "{'predictor': 'mains', 'windows_size': 896, 'optimal_delay': 1}\n"
     ]
    },
    {
     "name": "stderr",
     "output_type": "stream",
     "text": [
      "100%|██████████| 384/384 [00:23<00:00, 16.55it/s]\n"
     ]
    },
    {
     "name": "stdout",
     "output_type": "stream",
     "text": [
      "{'predictor': 'mains', 'windows_size': 896, 'optimal_delay': 1, 'optimal_embedding': 1}\n"
     ]
    },
    {
     "name": "stderr",
     "output_type": "stream",
     "text": [
      "100%|██████████| 384/384 [08:45<00:00,  1.37s/it]\n"
     ]
    },
    {
     "name": "stdout",
     "output_type": "stream",
     "text": [
      "{'predictor': 'mains', 'windows_size': 896, 'optimal_delay': 1, 'optimal_embedding': 1, 'image': 'rp', 'rr': 0.05, 'c_ent_div_psvp': 1.5706374574214945, 'c_ent_mul_psvp': 0.6932617001022467, 'c_1_div_2_to_ent_div_psvp': 147.45788221853894, 'c_1_div_2_to_ent_mul_psvp': 0.035925847734338594, 'c_ent': 1.0242881090517135, 'c_psvp': 0.23354158895934352}\n"
     ]
    },
    {
     "name": "stderr",
     "output_type": "stream",
     "text": [
      "100%|██████████| 384/384 [07:24<00:00,  1.16s/it]\n"
     ]
    },
    {
     "name": "stdout",
     "output_type": "stream",
     "text": [
      "{'predictor': 'mains', 'windows_size': 896, 'optimal_delay': 1, 'optimal_embedding': 1, 'image': 'rp', 'rr': 0.1, 'c_ent_div_psvp': 1.9421650260217866, 'c_ent_mul_psvp': 0.7308176535582519, 'c_1_div_2_to_ent_div_psvp': 147.4467610045049, 'c_1_div_2_to_ent_mul_psvp': 0.027910029022082696, 'c_ent': 1.164262046366697, 'c_psvp': 0.2179340731070496}\n"
     ]
    },
    {
     "name": "stderr",
     "output_type": "stream",
     "text": [
      "100%|██████████| 384/384 [09:15<00:00,  1.45s/it]\n"
     ]
    },
    {
     "name": "stdout",
     "output_type": "stream",
     "text": [
      "{'predictor': 'mains', 'windows_size': 896, 'optimal_delay': 1, 'optimal_embedding': 1, 'image': 'rp', 'rr': 0.15, 'c_ent_div_psvp': 2.3020713098918306, 'c_ent_mul_psvp': 0.7141588317965243, 'c_1_div_2_to_ent_div_psvp': 147.4476624818133, 'c_1_div_2_to_ent_mul_psvp': 0.02405493638728463, 'c_ent': 1.2389865532836026, 'c_psvp': 0.2003217083177919}\n"
     ]
    },
    {
     "name": "stderr",
     "output_type": "stream",
     "text": [
      "100%|██████████| 384/384 [10:42<00:00,  1.67s/it]\n"
     ]
    },
    {
     "name": "stdout",
     "output_type": "stream",
     "text": [
      "{'predictor': 'mains', 'windows_size': 896, 'optimal_delay': 1, 'optimal_embedding': 1, 'image': 'rp', 'rr': 0.2, 'c_ent_div_psvp': 2.3997420926412683, 'c_ent_mul_psvp': 0.7308809087073282, 'c_1_div_2_to_ent_div_psvp': 147.44829594610715, 'c_1_div_2_to_ent_mul_psvp': 0.02340000138295799, 'c_ent': 1.2743125940590214, 'c_psvp': 0.20035667661320403}\n"
     ]
    },
    {
     "name": "stderr",
     "output_type": "stream",
     "text": [
      "100%|██████████| 384/384 [11:00<00:00,  1.72s/it]\n"
     ]
    },
    {
     "name": "stdout",
     "output_type": "stream",
     "text": [
      "{'predictor': 'mains', 'windows_size': 896, 'optimal_delay': 1, 'optimal_embedding': 1, 'image': 'rp', 'rr': 0.25, 'c_ent_div_psvp': 2.6684330738776354, 'c_ent_mul_psvp': 0.669968431318312, 'c_1_div_2_to_ent_div_psvp': 147.48049693893927, 'c_1_div_2_to_ent_mul_psvp': 0.021529843224192772, 'c_ent': 1.2648101524075688, 'c_psvp': 0.18108914584110408}\n"
     ]
    },
    {
     "name": "stderr",
     "output_type": "stream",
     "text": [
      "100%|██████████| 384/384 [00:26<00:00, 14.26it/s]\n"
     ]
    },
    {
     "name": "stdout",
     "output_type": "stream",
     "text": [
      "{'predictor': 'mains', 'windows_size': 896, 'optimal_delay': 1, 'optimal_embedding': 1, 'image': 'gasf', 'rr': 0, 'c_ent_div_psvp': 22.041860499325768, 'c_ent_mul_psvp': 0.43719089060748006, 'c_1_div_2_to_ent_div_psvp': 147.42506482119006, 'c_1_div_2_to_ent_mul_psvp': 0.003603313028564298, 'c_ent': 2.2662070345985903, 'c_psvp': 0.06701091010816859}\n"
     ]
    },
    {
     "name": "stderr",
     "output_type": "stream",
     "text": [
      "100%|██████████| 384/384 [00:10<00:00, 35.93it/s]\n"
     ]
    },
    {
     "name": "stdout",
     "output_type": "stream",
     "text": [
      "{'predictor': 'mains', 'windows_size': 896, 'optimal_delay': 1, 'optimal_embedding': 1, 'image': 'gadf', 'rr': 0, 'c_ent_div_psvp': 5.9492513359910815, 'c_ent_mul_psvp': 1.1950467891206074, 'c_1_div_2_to_ent_div_psvp': 6579634.469481366, 'c_1_div_2_to_ent_mul_psvp': 0.0009710380757186758, 'c_ent': 2.5515990575238368, 'c_psvp': 0.16044619544945918}\n",
      "{'predictor': 'mains'}\n"
     ]
    },
    {
     "name": "stderr",
     "output_type": "stream",
     "text": [
      "100%|██████████| 384/384 [02:05<00:00,  3.06it/s]\n"
     ]
    },
    {
     "name": "stdout",
     "output_type": "stream",
     "text": [
      "{'predictor': 'mains', 'windows_size': 1792, 'optimal_delay': 1}\n"
     ]
    },
    {
     "name": "stderr",
     "output_type": "stream",
     "text": [
      "100%|██████████| 384/384 [00:16<00:00, 22.92it/s]\n"
     ]
    },
    {
     "name": "stdout",
     "output_type": "stream",
     "text": [
      "{'predictor': 'mains', 'windows_size': 1792, 'optimal_delay': 1, 'optimal_embedding': 1}\n"
     ]
    },
    {
     "name": "stderr",
     "output_type": "stream",
     "text": [
      "100%|██████████| 384/384 [17:05<00:00,  2.67s/it]\n"
     ]
    },
    {
     "name": "stdout",
     "output_type": "stream",
     "text": [
      "{'predictor': 'mains', 'windows_size': 1792, 'optimal_delay': 1, 'optimal_embedding': 1, 'image': 'rp', 'rr': 0.05, 'c_ent_div_psvp': 1.6763604209703475, 'c_ent_mul_psvp': 0.5307423298640682, 'c_1_div_2_to_ent_div_psvp': 146.90557882339084, 'c_1_div_2_to_ent_mul_psvp': 0.03859947994681021, 'c_ent': 0.9091218551590393, 'c_psvp': 0.20566020141738156}\n"
     ]
    },
    {
     "name": "stderr",
     "output_type": "stream",
     "text": [
      "100%|██████████| 384/384 [16:26<00:00,  2.57s/it]\n"
     ]
    },
    {
     "name": "stdout",
     "output_type": "stream",
     "text": [
      "{'predictor': 'mains', 'windows_size': 1792, 'optimal_delay': 1, 'optimal_embedding': 1, 'image': 'rp', 'rr': 0.1, 'c_ent_div_psvp': 2.094970167163443, 'c_ent_mul_psvp': 0.5513039083390991, 'c_1_div_2_to_ent_div_psvp': 146.8889111667401, 'c_1_div_2_to_ent_mul_psvp': 0.03014691114008185, 'c_ent': 1.025426966006958, 'c_psvp': 0.1916495710555763}\n"
     ]
    },
    {
     "name": "stderr",
     "output_type": "stream",
     "text": [
      "100%|██████████| 384/384 [12:33<00:00,  1.96s/it]\n"
     ]
    },
    {
     "name": "stdout",
     "output_type": "stream",
     "text": [
      "{'predictor': 'mains', 'windows_size': 1792, 'optimal_delay': 1, 'optimal_embedding': 1, 'image': 'rp', 'rr': 0.15, 'c_ent_div_psvp': 2.333054331927635, 'c_ent_mul_psvp': 0.5530980820553981, 'c_1_div_2_to_ent_div_psvp': 146.88737732956162, 'c_1_div_2_to_ent_mul_psvp': 0.026197652561463454, 'c_ent': 1.0802389947145188, 'c_psvp': 0.18177685565087656}\n"
     ]
    },
    {
     "name": "stderr",
     "output_type": "stream",
     "text": [
      "100%|██████████| 384/384 [12:24<00:00,  1.94s/it]\n"
     ]
    },
    {
     "name": "stdout",
     "output_type": "stream",
     "text": [
      "{'predictor': 'mains', 'windows_size': 1792, 'optimal_delay': 1, 'optimal_embedding': 1, 'image': 'rp', 'rr': 0.2, 'c_ent_div_psvp': 2.3784222464898783, 'c_ent_mul_psvp': 0.5366498078665201, 'c_1_div_2_to_ent_div_psvp': 146.8975718468661, 'c_1_div_2_to_ent_mul_psvp': 0.025484574776401134, 'c_ent': 1.0766516000241095, 'c_psvp': 0.1751678478179784}\n"
     ]
    },
    {
     "name": "stderr",
     "output_type": "stream",
     "text": [
      "100%|██████████| 384/384 [12:25<00:00,  1.94s/it]\n"
     ]
    },
    {
     "name": "stdout",
     "output_type": "stream",
     "text": [
      "{'predictor': 'mains', 'windows_size': 1792, 'optimal_delay': 1, 'optimal_embedding': 1, 'image': 'rp', 'rr': 0.25, 'c_ent_div_psvp': 2.404116304908813, 'c_ent_mul_psvp': 0.5015599092547696, 'c_1_div_2_to_ent_div_psvp': 146.912161001143, 'c_1_div_2_to_ent_mul_psvp': 0.026067542604804587, 'c_ent': 1.0395787343966587, 'c_psvp': 0.1691999254009698}\n"
     ]
    },
    {
     "name": "stderr",
     "output_type": "stream",
     "text": [
      "100%|██████████| 384/384 [00:56<00:00,  6.80it/s]\n"
     ]
    },
    {
     "name": "stdout",
     "output_type": "stream",
     "text": [
      "{'predictor': 'mains', 'windows_size': 1792, 'optimal_delay': 1, 'optimal_embedding': 1, 'image': 'gasf', 'rr': 0, 'c_ent_div_psvp': 27.76186029776464, 'c_ent_mul_psvp': 0.32080164312231435, 'c_1_div_2_to_ent_div_psvp': 146.85234155839146, 'c_1_div_2_to_ent_mul_psvp': 0.0034611549870946453, 'c_ent': 2.250342576528352, 'c_psvp': 0.050890525923162996}\n"
     ]
    },
    {
     "name": "stderr",
     "output_type": "stream",
     "text": [
      "100%|██████████| 384/384 [00:36<00:00, 10.54it/s]"
     ]
    },
    {
     "name": "stdout",
     "output_type": "stream",
     "text": [
      "{'predictor': 'mains', 'windows_size': 1792, 'optimal_delay': 1, 'optimal_embedding': 1, 'image': 'gadf', 'rr': 0, 'c_ent_div_psvp': 7.3057329063179095, 'c_ent_mul_psvp': 0.9904662555664798, 'c_1_div_2_to_ent_div_psvp': 6553524.810527114, 'c_1_div_2_to_ent_mul_psvp': 0.0008292602230581518, 'c_ent': 2.556533459791771, 'c_psvp': 0.13360220067139125}\n"
     ]
    },
    {
     "name": "stderr",
     "output_type": "stream",
     "text": [
      "\n"
     ]
    }
   ],
   "source": [
    "df_results = None\n",
    "if os.path.exists(results_file):\n",
    "    df_results = pd.read_csv(results_file)\n",
    "\n",
    "for predictor in predictors:\n",
    "    for window_size in window_sizes:\n",
    "        rr_result = dict()\n",
    "        rr_result['predictor'] = predictor\n",
    "        print(rr_result)\n",
    "        # calculate best time_delay based in predictor vs label\n",
    "        time_step = int(training_active_value_set.shape[0] / number_of_tests)\n",
    "        i, d = divmod(training_active_value_set.shape[0] - window_size + 1, time_step)\n",
    "        row_factor = i + 1\n",
    "        optimal_delay_list = list()\n",
    "        for r in tqdm(range(int(row_factor))):\n",
    "            if r * time_step >= window_size:\n",
    "                signal = training_active_value_set.loc[r * time_step - window_size:r * time_step-1, [predictor]].values\n",
    "                max_lag = int(window_size/2)  # Definir un máximo lag para considerar\n",
    "                mi_values = [mutual_information(signal[:-lag], signal[lag:]) for lag in range(1, max_lag)]\n",
    "                optimal_delay = np.argmax(mi_values) + 1\n",
    "                optimal_delay_list.append(optimal_delay)\n",
    "        optimal_delay_median = int(np.median(optimal_delay_list))\n",
    "\n",
    "        rr_result['windows_size'] = window_size\n",
    "        rr_result['optimal_delay'] = optimal_delay_median \n",
    "        print(rr_result)\n",
    "\n",
    "        optimal_embedding_list = list()\n",
    "        for r in tqdm(range(int(row_factor))):\n",
    "            if r * time_step >= window_size:\n",
    "                signal = training_active_value_set.loc[r * time_step - window_size:r * time_step-1, [predictor]].values.ravel()\n",
    "                # Calculate the best embedding dimension using false nearest neighbors\n",
    "                best_dim, fnn_percentages = false_nearest_neighbors(signal, 10, optimal_delay, 0.1) # type: ignore\n",
    "                optimal_embedding_list.append(best_dim)\n",
    "        optimal_embedding_median = int(np.median(optimal_embedding_list))\n",
    "\n",
    "        rr_result['optimal_embedding'] = optimal_embedding_median \n",
    "        print(rr_result)\n",
    "\n",
    "        # calculate best recurrence rate based predictor\n",
    "        next_calc = True\n",
    "\n",
    "        for image_type in ts_image_type:\n",
    "\n",
    "            rr_result['image'] = image_type\n",
    "\n",
    "            if image_type == 'rp':\n",
    "\n",
    "                for rr in recurrence_rates:\n",
    "                    if not df_results is None: # type: ignore\n",
    "                        filter_result = (df_results['predictor'] == predictor) & (df_results['windows_size'] == window_size) & (rr_result['image'] == image_type) & (df_results['rr'] == rr) # type: ignore\n",
    "                        if filter_result.sum() > 0:\n",
    "                            next_calc = False\n",
    "                        else:\n",
    "                            next_calc = True\n",
    "                    \n",
    "                    if next_calc:\n",
    "                        \n",
    "                        rr_result['rr'] = rr                \n",
    "                        coef1_list = list()\n",
    "                        coef2_list = list()\n",
    "                        coef3_list = list()\n",
    "                        coef4_list = list()\n",
    "                        coef5_list = list()\n",
    "                        coef6_list = list()\n",
    "                        \n",
    "                        for r in tqdm(range(int(row_factor))):\n",
    "                            if r * time_step >= window_size:\n",
    "                                signal = training_active_value_set.loc[r * time_step - window_size:r * time_step-1, [predictor]].values\n",
    "                                    \n",
    "                                # Obtener la matriz de recurrencia\n",
    "                                matrix = calculate_recurrence_plot(signal, optimal_delay_median, optimal_embedding_median, rr) # type: ignore                                                        \n",
    "\n",
    "                                # Convert the matrix to an image\n",
    "                                ts_image = Image.fromarray((matrix * 255).astype(np.uint8))\n",
    "\n",
    "                                # Resize the image to 224x224\n",
    "                                resized_image = ts_image.resize((224, 224), Image.LANCZOS)\n",
    "\n",
    "                                # Convert the resized image back to a numpy array\n",
    "                                resized_matrix = np.array(resized_image)\n",
    "\n",
    "                                # Calcular la entropía y la PSVS\n",
    "                                ent = calculate_entropy(resized_matrix) # type: ignore\n",
    "                                PSVP,_,_ = calculate_psvp(resized_matrix) # type: ignore\n",
    "                                \n",
    "                                # Calcular la relación entre la entropía y la SVS\n",
    "                                coef1 = ent / (PSVP + 0.0000001) \n",
    "\n",
    "                                # Calcular la relación entre la entropía y la SVS\n",
    "                                coef2 = ent * PSVP\n",
    "\n",
    "                                # Calcular la relación entre la entropía y la SVS\n",
    "                                coef3 = (1 / (2**ent)) / (PSVP + 0.0000001)\n",
    "\n",
    "                                # Calcular la relación entre la entropía y la SVS\n",
    "                                coef4 = (1 / (2**ent)) * PSVP\n",
    "\n",
    "                                # Add to results of coefs\n",
    "                                coef1_list.append(coef1)\n",
    "                                coef2_list.append(coef2)\n",
    "                                coef3_list.append(coef3)\n",
    "                                coef4_list.append(coef4)\n",
    "                                coef5_list.append(ent)\n",
    "                                coef6_list.append(PSVP)\n",
    "                \n",
    "                        rr_result['c_ent_div_psvp'] = np.mean(coef1_list)\n",
    "                        rr_result['c_ent_mul_psvp'] = np.mean(coef2_list) \n",
    "                        rr_result['c_1_div_2_to_ent_div_psvp'] = np.mean(coef3_list)  \n",
    "                        rr_result['c_1_div_2_to_ent_mul_psvp'] = np.mean(coef4_list)  \n",
    "                        rr_result['c_ent'] = np.mean(coef5_list)\n",
    "                        rr_result['c_psvp'] = np.mean(coef6_list)\n",
    "\n",
    "                        print(rr_result) \n",
    "                        result_list = list()      \n",
    "                        result_list.append(rr_result)\n",
    "\n",
    "                        if os.path.exists(results_file):\n",
    "                            result_list = pd.DataFrame(result_list)\n",
    "                            result_list.to_csv(results_file, mode='a', header=False, index=False)\n",
    "                        else:\n",
    "                            result_list = pd.DataFrame(result_list)\n",
    "                            result_list.to_csv(results_file, index=False)     \n",
    "\n",
    "            else:                \n",
    "\n",
    "                if not df_results is None: # type: ignore\n",
    "                    filter_result = (df_results['predictor'] == predictor) & (df_results['windows_size'] == window_size) & (rr_result['image'] == image_type) # type: ignore\n",
    "                    if filter_result.sum() > 0:\n",
    "                        next_calc = False\n",
    "                    else:\n",
    "                        next_calc = True\n",
    "                \n",
    "                if next_calc:\n",
    "                    \n",
    "                    rr_result['rr'] = 0\n",
    "\n",
    "                    coef1_list = list()\n",
    "                    coef2_list = list()\n",
    "                    coef3_list = list()\n",
    "                    coef4_list = list()\n",
    "                    coef5_list = list()\n",
    "                    coef6_list = list()\n",
    "\n",
    "                    for r in tqdm(range(int(row_factor))):\n",
    "                        if r * time_step >= window_size:\n",
    "                            signal = training_active_value_set.loc[r * time_step - window_size:r * time_step-1, [predictor]].values\n",
    "                            \n",
    "                            if image_type == 'gasf':                            \n",
    "                                transformer = GramianAngularField(image_size=signal.shape[0], method='summation')\n",
    "                                matrix = transformer.fit_transform(signal.reshape(1, -1))[0]\n",
    "                            else:\n",
    "                                transformer = GramianAngularField(image_size=signal.shape[0], method='difference')\n",
    "                                matrix = transformer.fit_transform(signal.reshape(1, -1))[0]\n",
    "\n",
    "                            # Convert the matrix to an image\n",
    "                            ts_image = Image.fromarray((matrix * 255).astype(np.uint8))\n",
    "\n",
    "                            # Resize the image to 224x224\n",
    "                            resized_image = ts_image.resize((224, 224), Image.LANCZOS)\n",
    "\n",
    "                            # Convert the resized image back to a numpy array\n",
    "                            resized_matrix = np.array(resized_image)\n",
    "\n",
    "                            # Calcular la entropía y la PSVS\n",
    "                            ent = calculate_entropy(resized_matrix) # type: ignore\n",
    "                            PSVP,_,_ = calculate_psvp(resized_matrix) # type: ignore\n",
    "                            \n",
    "                            # Calcular la relación entre la entropía y la SVS\n",
    "                            coef1 = ent / (PSVP + 0.0000001) \n",
    "\n",
    "                            # Calcular la relación entre la entropía y la SVS\n",
    "                            coef2 = ent * PSVP\n",
    "\n",
    "                            # Calcular la relación entre la entropía y la SVS\n",
    "                            coef3 = (1 / (2**ent)) / (PSVP + 0.0000001)\n",
    "\n",
    "                            # Calcular la relación entre la entropía y la SVS\n",
    "                            coef4 = (1 / (2**ent)) * PSVP\n",
    "\n",
    "                            # Add to results of coefs\n",
    "                            coef1_list.append(coef1)\n",
    "                            coef2_list.append(coef2)\n",
    "                            coef3_list.append(coef3)\n",
    "                            coef4_list.append(coef4)\n",
    "                            coef5_list.append(ent)\n",
    "                            coef6_list.append(PSVP)\n",
    "\n",
    "                    rr_result['c_ent_div_psvp'] = np.mean(coef1_list)\n",
    "                    rr_result['c_ent_mul_psvp'] = np.mean(coef2_list) \n",
    "                    rr_result['c_1_div_2_to_ent_div_psvp'] = np.mean(coef3_list)  \n",
    "                    rr_result['c_1_div_2_to_ent_mul_psvp'] = np.mean(coef4_list)  \n",
    "                    rr_result['c_ent'] = np.mean(coef5_list)\n",
    "                    rr_result['c_psvp'] = np.mean(coef6_list)   \n",
    "\n",
    "                    print(rr_result) \n",
    "                    result_list = list()      \n",
    "                    result_list.append(rr_result)\n",
    "\n",
    "                    if os.path.exists(results_file):\n",
    "                        result_list = pd.DataFrame(result_list)\n",
    "                        result_list.to_csv(results_file, mode='a', header=False, index=False)\n",
    "                    else:\n",
    "                        result_list = pd.DataFrame(result_list)\n",
    "                        result_list.to_csv(results_file, index=False)\n",
    "\n",
    "\n",
    "\n",
    "                \n",
    "\n",
    "                        \n",
    "\n",
    "            \n"
   ]
  }
 ],
 "metadata": {
  "kernelspec": {
   "display_name": "nilmtk-env",
   "language": "python",
   "name": "python3"
  },
  "language_info": {
   "codemirror_mode": {
    "name": "ipython",
    "version": 3
   },
   "file_extension": ".py",
   "mimetype": "text/x-python",
   "name": "python",
   "nbconvert_exporter": "python",
   "pygments_lexer": "ipython3",
   "version": "3.8.19"
  }
 },
 "nbformat": 4,
 "nbformat_minor": 2
}
