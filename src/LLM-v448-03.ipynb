{
 "cells": [
  {
   "cell_type": "code",
   "execution_count": 1,
   "metadata": {},
   "outputs": [],
   "source": [
    "import warnings\n",
    "warnings.filterwarnings(action=\"ignore\")\n",
    "import numpy as np\n",
    "import pandas as pd\n",
    "from tqdm import tqdm\n",
    "from sklearn.decomposition import IncrementalPCA"
   ]
  },
  {
   "cell_type": "code",
   "execution_count": 2,
   "metadata": {},
   "outputs": [],
   "source": [
    "# Parameters\n",
    "input_file_train = '../data/v8.2/progress.txt'  # Path to your large file\n",
    "padding = 10\n",
    "batch_size = 1000                       # Number of samples per batch to load\n",
    "n_components = 30                        # Number of principal components\n",
    "# Parámetros\n",
    "test_file_test = '../data/v8.2/progress2.txt'  # Ruta a tu archivo de test\n",
    "\n",
    "# Once fitted, transform the entire dataset\n",
    "transformed_train_data = []\n",
    "\n",
    "# Transformar los datos del conjunto de test usando el PCA ajustado previamente\n",
    "transformed_test_data = []"
   ]
  },
  {
   "cell_type": "code",
   "execution_count": 3,
   "metadata": {},
   "outputs": [],
   "source": [
    "max_len = 0\n",
    "# Read data in batches and fit IPCA\n",
    "with open(input_file_train, 'r') as f:\n",
    "    line = f.readline()\n",
    "    max_len= max(max_len, len([float(x) for x in line.strip().split(',')]))\n",
    "\n",
    "# Read data in batches and fit IPCA\n",
    "with open(test_file_test, 'r') as f:\n",
    "    line = f.readline()\n",
    "    max_len= max(max_len, len([float(x) for x in line.strip().split(',')]))\n",
    "\n",
    "max_len = max_len + padding"
   ]
  },
  {
   "cell_type": "code",
   "execution_count": 4,
   "metadata": {},
   "outputs": [
    {
     "data": {
      "text/plain": [
       "229899"
      ]
     },
     "execution_count": 4,
     "metadata": {},
     "output_type": "execute_result"
    }
   ],
   "source": [
    "max_len"
   ]
  },
  {
   "cell_type": "code",
   "execution_count": 5,
   "metadata": {},
   "outputs": [],
   "source": [
    "# Initialize IPCA\n",
    "ipca = IncrementalPCA(n_components=n_components)\n",
    "\n",
    "# Read data in batches and fit IPCA\n",
    "with open(input_file_train, 'r', encoding='utf-8') as f:\n",
    "    while True:\n",
    "        data = []\n",
    "        # Read batch_size lines from the file\n",
    "        for _ in range(batch_size):\n",
    "            line = f.readline()\n",
    "            if not line:\n",
    "                break\n",
    "            line = line.replace('\\x13', '')  # Remove specific problematic character\n",
    "            data.append([float(x) for x in line.strip().split(',')])\n",
    "        \n",
    "        if not data:\n",
    "            break\n",
    "        \n",
    "        # Pad each row with zeros on the left to match the maximum length\n",
    "        padded_data = [([0] * (max_len - len(row)) + row) for row in data]\n",
    "\n",
    "        # Convert to a numpy array\n",
    "        padded_data = np.array(padded_data)\n",
    "\n",
    "        # Incrementally fit the model\n",
    "        ipca.partial_fit(padded_data)\n",
    "\n",
    "with open(input_file_train, 'r', encoding='utf-8') as f:\n",
    "    while True:\n",
    "        data = []\n",
    "        for _ in range(batch_size):\n",
    "            line = f.readline()\n",
    "            if not line:\n",
    "                break\n",
    "            line = line.replace('\\x13', '')  # Remove specific problematic character\n",
    "            data.append([float(x) for x in line.strip().split(',')])\n",
    "        \n",
    "        if not data:\n",
    "            break\n",
    "        \n",
    "        # Pad each row with zeros on the left to match the maximum length\n",
    "        padded_data = [([0] * (max_len - len(row)) + row) for row in data]\n",
    "\n",
    "        # Convert to a numpy array\n",
    "        padded_data = np.array(padded_data)\n",
    "\n",
    "        transformed_batch = ipca.transform(padded_data)\n",
    "        transformed_train_data.append(transformed_batch)\n",
    "\n",
    "# Convert list of arrays to a single numpy array\n",
    "transformed_train_data = np.vstack(transformed_train_data)"
   ]
  },
  {
   "cell_type": "code",
   "execution_count": 6,
   "metadata": {},
   "outputs": [],
   "source": [
    "# Save transformed data\n",
    "np.savetxt(f'../data/v8.2/transformed_train_data_comp_{n_components}.csv', transformed_train_data, delimiter=',')"
   ]
  },
  {
   "cell_type": "code",
   "execution_count": 7,
   "metadata": {},
   "outputs": [],
   "source": [
    "with open(test_file_test, 'r') as f:\n",
    "    while True:\n",
    "        data = []\n",
    "        # Leer batch_size líneas del archivo de test\n",
    "        for _ in range(batch_size):\n",
    "            line = f.readline()\n",
    "            if not line:\n",
    "                break\n",
    "            data.append([float(x) for x in line.strip().split(',')])\n",
    "        \n",
    "        if not data:\n",
    "            break\n",
    "        \n",
    "        # Pad each row with zeros on the left to match the maximum length\n",
    "        padded_data = [([0] * (max_len - len(row)) + row) for row in data]\n",
    "\n",
    "        # Convert to a numpy array\n",
    "        padded_data = np.array(padded_data)\n",
    "\n",
    "        # Aplicar la transformación con el PCA ajustado previamente\n",
    "        transformed_batch = ipca.transform(padded_data)\n",
    "        transformed_test_data.append(transformed_batch)\n",
    "\n",
    "# Convertir la lista de arrays a un solo numpy array\n",
    "transformed_test_data = np.vstack(transformed_test_data)\n",
    "\n",
    "# Guardar los datos transformados\n",
    "np.savetxt(f'../data/v8.2/transformed_test_data_comp_{n_components}.csv', transformed_test_data, delimiter=',')"
   ]
  }
 ],
 "metadata": {
  "kernelspec": {
   "display_name": "py311",
   "language": "python",
   "name": "python3"
  },
  "language_info": {
   "codemirror_mode": {
    "name": "ipython",
    "version": 3
   },
   "file_extension": ".py",
   "mimetype": "text/x-python",
   "name": "python",
   "nbconvert_exporter": "python",
   "pygments_lexer": "ipython3",
   "version": "3.11.10"
  }
 },
 "nbformat": 4,
 "nbformat_minor": 2
}
