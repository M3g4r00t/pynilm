{
 "cells": [
  {
   "cell_type": "code",
   "execution_count": 1,
   "metadata": {},
   "outputs": [],
   "source": [
    "import warnings\n",
    "warnings.filterwarnings(action=\"ignore\")\n",
    "import numpy as np\n",
    "import pandas as pd\n",
    "from tqdm import tqdm\n",
    "from sklearn.decomposition import IncrementalPCA"
   ]
  },
  {
   "cell_type": "code",
   "execution_count": 2,
   "metadata": {},
   "outputs": [],
   "source": [
    "# Parameters\n",
    "input_file = '../data/v6/progress.txt'  # Path to your large file\n",
    "batch_size = 1000                      # Number of samples per batch to load\n",
    "n_components = 2                       # Number of principal components"
   ]
  },
  {
   "cell_type": "code",
   "execution_count": 3,
   "metadata": {},
   "outputs": [],
   "source": [
    "# Initialize IPCA\n",
    "ipca = IncrementalPCA(n_components=n_components)\n",
    "\n",
    "# Read data in batches and fit IPCA\n",
    "with open(input_file, 'r') as f:\n",
    "    while True:\n",
    "        data = []\n",
    "        # Read batch_size lines from the file\n",
    "        for _ in range(batch_size):\n",
    "            line = f.readline()\n",
    "            if not line:\n",
    "                break\n",
    "            data.append([float(x) for x in line.strip().split(',')])\n",
    "        \n",
    "        if not data:\n",
    "            break\n",
    "        \n",
    "        data = np.array(data)\n",
    "        ipca.partial_fit(data)  # Incrementally fit the model\n",
    "\n",
    "# Once fitted, transform the entire dataset\n",
    "transformed_data = []\n",
    "\n",
    "with open(input_file, 'r') as f:\n",
    "    while True:\n",
    "        data = []\n",
    "        for _ in range(batch_size):\n",
    "            line = f.readline()\n",
    "            if not line:\n",
    "                break\n",
    "            data.append([float(x) for x in line.strip().split(',')])\n",
    "        \n",
    "        if not data:\n",
    "            break\n",
    "        \n",
    "        data = np.array(data)\n",
    "        transformed_batch = ipca.transform(data)\n",
    "        transformed_data.append(transformed_batch)\n",
    "\n",
    "# Convert list of arrays to a single numpy array\n",
    "transformed_data = np.vstack(transformed_data)"
   ]
  },
  {
   "cell_type": "code",
   "execution_count": 4,
   "metadata": {},
   "outputs": [],
   "source": [
    "# Save transformed data\n",
    "np.savetxt(f'../data/v6/transformed_train_data_comp_{n_components}.csv', transformed_data, delimiter=',')"
   ]
  },
  {
   "cell_type": "code",
   "execution_count": 5,
   "metadata": {},
   "outputs": [],
   "source": [
    "# Parámetros\n",
    "test_file = '../data/v6/progress2.txt'  # Ruta a tu archivo de test\n",
    "batch_size = 1000                 # Tamaño de batch, el mismo que usaste antes\n",
    "\n",
    "# Transformar los datos del conjunto de test usando el PCA ajustado previamente\n",
    "transformed_test_data = []"
   ]
  },
  {
   "cell_type": "code",
   "execution_count": 6,
   "metadata": {},
   "outputs": [],
   "source": [
    "with open(test_file, 'r') as f:\n",
    "    while True:\n",
    "        data = []\n",
    "        # Leer batch_size líneas del archivo de test\n",
    "        for _ in range(batch_size):\n",
    "            line = f.readline()\n",
    "            if not line:\n",
    "                break\n",
    "            data.append([float(x) for x in line.strip().split(',')])\n",
    "        \n",
    "        if not data:\n",
    "            break\n",
    "        \n",
    "        data = np.array(data)\n",
    "        # Aplicar la transformación con el PCA ajustado previamente\n",
    "        transformed_batch = ipca.transform(data)\n",
    "        transformed_test_data.append(transformed_batch)\n",
    "\n",
    "# Convertir la lista de arrays a un solo numpy array\n",
    "transformed_test_data = np.vstack(transformed_test_data)\n",
    "\n",
    "# Guardar los datos transformados\n",
    "np.savetxt(f'../data/v6/transformed_test_data_comp_{n_components}.csv', transformed_test_data, delimiter=',')"
   ]
  }
 ],
 "metadata": {
  "kernelspec": {
   "display_name": "py311",
   "language": "python",
   "name": "python3"
  },
  "language_info": {
   "codemirror_mode": {
    "name": "ipython",
    "version": 3
   },
   "file_extension": ".py",
   "mimetype": "text/x-python",
   "name": "python",
   "nbconvert_exporter": "python",
   "pygments_lexer": "ipython3",
   "version": "3.11.9"
  }
 },
 "nbformat": 4,
 "nbformat_minor": 2
}
