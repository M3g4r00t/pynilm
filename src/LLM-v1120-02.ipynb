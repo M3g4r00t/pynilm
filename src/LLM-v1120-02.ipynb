{
 "cells": [
  {
   "cell_type": "code",
   "execution_count": 1,
   "metadata": {},
   "outputs": [],
   "source": [
    "import warnings\n",
    "warnings.filterwarnings(action=\"ignore\")\n",
    "\n",
    "import numpy as np\n",
    "import pandas as pd\n",
    "\n"
   ]
  },
  {
   "cell_type": "code",
   "execution_count": 2,
   "metadata": {},
   "outputs": [],
   "source": [
    "def chunkify(df: pd.DataFrame, chunk_size: int, stride: int = 1):\n",
    "    start = 0\n",
    "    length = df.shape[0]\n",
    "\n",
    "    # If DF is smaller than the chunk, return the DF\n",
    "    if length <= chunk_size:\n",
    "        return df[:]\n",
    "\n",
    "    # Producing individual chunks\n",
    "    dfs = []\n",
    "    # while start + chunk_size <= length:\n",
    "    #     dfs.append(df[start:chunk_size + start])\n",
    "    #     start = start + chunk_size\n",
    "    for i in range(0, length - chunk_size, stride):\n",
    "        dfs.append(df[i:i + chunk_size])\n",
    "    return dfs"
   ]
  },
  {
   "cell_type": "code",
   "execution_count": 3,
   "metadata": {},
   "outputs": [],
   "source": [
    "df_active_value = pd.read_csv('../data/redd_active_value_f1hz.csv')\n",
    "attributes = [c for c in df_active_value.columns.values if not c in ['timestamp']]\n",
    "labels = [c for c in df_active_value.columns.values if not c in ['timestamp', 'mains', 'amplitude_spectrum', 'phase_spectrum']]\n",
    "#labels = ['Fridge01','Dish washer01','Microwave01','Washer dryer01','Washer dryer02']\n",
    "predictors = ['mains']\n",
    "index_name = 'timestamp'\n",
    "training_start = '2011-04-16'\n",
    "training_end = '2011-05-16'\n",
    "test_start = '2011-05-17'\n",
    "test_end = '2011-05-31'\n",
    "\n",
    "# Ensure 'timestamp' column is in datetime format\n",
    "df_active_value[index_name] = pd.to_datetime(df_active_value[index_name])\n",
    "# Set the index as the timestamp\n",
    "df_active_value.set_index(index_name, inplace=True)"
   ]
  },
  {
   "cell_type": "code",
   "execution_count": 4,
   "metadata": {},
   "outputs": [],
   "source": [
    "windows_size_opt = 1120"
   ]
  },
  {
   "cell_type": "code",
   "execution_count": 5,
   "metadata": {},
   "outputs": [],
   "source": [
    "training_active_value_set = df_active_value.loc[training_start:training_end]\n",
    "\n",
    "data_value_train_min = {}\n",
    "for a in labels: # type: ignore\n",
    "    p = predictors.copy()\n",
    "    p.append(a)\n",
    "    data_value_train_min[a] = chunkify(\n",
    "        training_active_value_set[p], # type: ignore\n",
    "        windows_size_opt,\n",
    "        windows_size_opt\n",
    "    )\n",
    "\n",
    "test_active_value_set = df_active_value.loc[test_start:test_end]\n",
    "    \n",
    "data_value_test_min = {}\n",
    "for a in labels: # type: ignore\n",
    "    p = predictors.copy()\n",
    "    p.append(a)\n",
    "    data_value_test_min[a] = chunkify(\n",
    "        test_active_value_set[p], # type: ignore\n",
    "        windows_size_opt,\n",
    "        windows_size_opt\n",
    "    )"
   ]
  },
  {
   "cell_type": "code",
   "execution_count": 6,
   "metadata": {},
   "outputs": [],
   "source": [
    "df_appliance_threshold = pd.read_csv('../data/appliance_threshold.csv')\n",
    "appliance_threshold = df_appliance_threshold.set_index('appliance')['threshold'].to_dict()\n",
    "\n",
    "# Función para calcular la proporción de valores por encima del umbral\n",
    "def proportion_above_threshold(values, threshold):\n",
    "    return np.sum(values > threshold) / len(values)\n",
    "\n",
    "train_value_min_label_list = list()\n",
    "for i in range(len(data_value_train_min[labels[0]])):\n",
    "    row_label = dict()\n",
    "    row_label['row'] = i\n",
    "    for a in labels:\n",
    "        # Calcula la proporción de valores por encima del umbral\n",
    "        proportion = proportion_above_threshold(data_value_train_min[a][i][a], appliance_threshold[a])\n",
    "        # Si la mayoría de los valores (más del 50%) están por encima del umbral, asigna 1\n",
    "        if proportion > 0.5:\n",
    "            row_label[a] = 1\n",
    "        else:  \n",
    "            row_label[a] = 0\n",
    "    train_value_min_label_list.append(row_label)\n",
    "\n",
    "test_value_min_label_list = list()\n",
    "for i in range(len(data_value_test_min[labels[0]])):\n",
    "    row_label = dict()\n",
    "    row_label['row'] = i\n",
    "    for a in labels:\n",
    "        # Calcula la proporción de valores por encima del umbral\n",
    "        proportion = proportion_above_threshold(data_value_test_min[a][i][a], appliance_threshold[a])\n",
    "        # Si la mayoría de los valores (más del 50%) están por encima del umbral, asigna 1\n",
    "        if proportion > 0.5:\n",
    "            row_label[a] = 1\n",
    "        else:  \n",
    "            row_label[a] = 0\n",
    "    test_value_min_label_list.append(row_label)\n",
    "\n",
    "train_value_min_label_list = pd.DataFrame(train_value_min_label_list)\n",
    "test_value_min_label_list = pd.DataFrame(test_value_min_label_list)\n",
    "\n",
    "train_value_min_label_list.to_csv(f'../data/train_value_min_label_windows_{windows_size_opt}_llm.csv', index=False)\n",
    "test_value_min_label_list.to_csv(f'../data/test_value_min_label_windows_{windows_size_opt}_llm.csv', index=False)\n"
   ]
  }
 ],
 "metadata": {
  "kernelspec": {
   "display_name": "py311",
   "language": "python",
   "name": "python3"
  },
  "language_info": {
   "codemirror_mode": {
    "name": "ipython",
    "version": 3
   },
   "file_extension": ".py",
   "mimetype": "text/x-python",
   "name": "python",
   "nbconvert_exporter": "python",
   "pygments_lexer": "ipython3",
   "version": "3.11.10"
  }
 },
 "nbformat": 4,
 "nbformat_minor": 2
}
