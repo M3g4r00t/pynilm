{
 "cells": [
  {
   "cell_type": "code",
   "execution_count": 8,
   "metadata": {},
   "outputs": [],
   "source": [
    "import warnings\n",
    "warnings.filterwarnings(action=\"ignore\")\n",
    "import numpy as np\n",
    "import pandas as pd\n",
    "from tqdm import tqdm\n",
    "import chromadb\n",
    "from chromadb.config import DEFAULT_TENANT, DEFAULT_DATABASE, Settings"
   ]
  },
  {
   "cell_type": "code",
   "execution_count": 9,
   "metadata": {},
   "outputs": [],
   "source": [
    "client = chromadb.PersistentClient(\n",
    "    path=\"db-llm-02\",\n",
    "    settings=Settings(),\n",
    "    tenant=DEFAULT_TENANT,\n",
    "    database=DEFAULT_DATABASE,\n",
    ")"
   ]
  },
  {
   "cell_type": "code",
   "execution_count": 10,
   "metadata": {},
   "outputs": [],
   "source": [
    "try:\n",
    "    collection = client.get_collection(name=\"embeddings_collection_train\")\n",
    "except:\n",
    "    collection = False"
   ]
  },
  {
   "cell_type": "code",
   "execution_count": 11,
   "metadata": {},
   "outputs": [],
   "source": [
    "windows_size_opt = 112\n",
    "y_train_df = pd.read_csv(f'../data/train_value_min_label_windows_{windows_size_opt}_llm.csv')\n",
    "y_test_df = pd.read_csv(f'../data/test_value_min_label_windows_{windows_size_opt}_llm.csv')"
   ]
  },
  {
   "cell_type": "code",
   "execution_count": 12,
   "metadata": {},
   "outputs": [
    {
     "name": "stderr",
     "output_type": "stream",
     "text": [
      "0it [00:00, ?it/s]"
     ]
    },
    {
     "name": "stderr",
     "output_type": "stream",
     "text": [
      "10682it [38:17,  4.65it/s]\n"
     ]
    }
   ],
   "source": [
    "# Path to the file with embeddings\n",
    "progress_file = '../data/v6/progress2.txt'\n",
    "\n",
    "results_list = list()\n",
    "# Process the file line by line to minimize memory usage\n",
    "with open(progress_file, 'r') as f:\n",
    "    for i, line in tqdm(enumerate(f)):\n",
    "        # Convert the line to an embedding\n",
    "        embedding = np.fromstring(line.strip(), sep=',', dtype=np.float32)\n",
    "        doc_id = f'doc_{i}'\n",
    "        results = collection.query(query_embeddings=[embedding.tolist()], n_results=5)\n",
    "        results['query_id'] = doc_id\n",
    "        results_list.append(results)\n",
    "        # Clean up any temporary variables or cache\n",
    "        del results\n",
    "\n",
    "        # Force garbage collection to free up memory (especially important in long loops)\n",
    "        import gc\n",
    "        gc.collect()"
   ]
  },
  {
   "cell_type": "code",
   "execution_count": 13,
   "metadata": {},
   "outputs": [],
   "source": [
    "results_df = pd.DataFrame(results_list)"
   ]
  },
  {
   "cell_type": "code",
   "execution_count": 14,
   "metadata": {},
   "outputs": [
    {
     "data": {
      "text/plain": [
       "ids\n",
       "[[doc_23850, doc_23827, doc_23828, doc_23829, doc_23830]]    5562\n",
       "[[doc_23822, doc_23827, doc_23823, doc_23824, doc_23825]]    5106\n",
       "[[doc_12225, doc_12235, doc_12236, doc_12202, doc_12238]]      11\n",
       "[[doc_1480, doc_2081, doc_2187, doc_1781, doc_23822]]           1\n",
       "[[doc_1480, doc_1781, doc_1577, doc_23822, doc_23827]]          1\n",
       "[[doc_2187, doc_2202, doc_2180, doc_1480, doc_1781]]            1\n",
       "Name: count, dtype: int64"
      ]
     },
     "execution_count": 14,
     "metadata": {},
     "output_type": "execute_result"
    }
   ],
   "source": [
    "results_df['ids'].value_counts()"
   ]
  }
 ],
 "metadata": {
  "kernelspec": {
   "display_name": "py311",
   "language": "python",
   "name": "python3"
  },
  "language_info": {
   "codemirror_mode": {
    "name": "ipython",
    "version": 3
   },
   "file_extension": ".py",
   "mimetype": "text/x-python",
   "name": "python",
   "nbconvert_exporter": "python",
   "pygments_lexer": "ipython3",
   "version": "3.11.9"
  }
 },
 "nbformat": 4,
 "nbformat_minor": 2
}
