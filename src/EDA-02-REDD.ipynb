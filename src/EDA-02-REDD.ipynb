{
 "cells": [
  {
   "cell_type": "code",
   "execution_count": 1,
   "metadata": {},
   "outputs": [],
   "source": [
    "import numpy as np\n",
    "import pandas as pd\n",
    "import matplotlib.pyplot as plt\n",
    "from pyrqa.settings import Settings\n",
    "from pyrqa.time_series import TimeSeries\n",
    "from pyrqa.computation import RPComputation\n",
    "from pyrqa.computation import RQAComputation\n",
    "from pyrqa.metric import EuclideanMetric\n",
    "from pyrqa.analysis_type import Classic\n",
    "from pyrqa.neighbourhood import FixedRadius\n"
   ]
  },
  {
   "cell_type": "code",
   "execution_count": 3,
   "metadata": {},
   "outputs": [],
   "source": [
    "df = pd.read_csv('../data/redd_active_value_f1hz.csv')\n",
    "# Ensure 'timestamp' column is in datetime format\n",
    "df['timestamp'] = pd.to_datetime(df['timestamp'])\n",
    "# Set the index as the timestamp\n",
    "df.set_index('timestamp', inplace=True)"
   ]
  },
  {
   "cell_type": "code",
   "execution_count": 4,
   "metadata": {},
   "outputs": [],
   "source": [
    "# Crear un objeto TimeSeries\n",
    "time_series = TimeSeries(df['mains'].values[0:1000], # type: ignore\n",
    "                         embedding_dimension=1,\n",
    "                         time_delay=100) \n"
   ]
  },
  {
   "cell_type": "code",
   "execution_count": 5,
   "metadata": {},
   "outputs": [
    {
     "data": {
      "text/plain": [
       "(1000,)"
      ]
     },
     "execution_count": 5,
     "metadata": {},
     "output_type": "execute_result"
    }
   ],
   "source": [
    "time_series.data.shape"
   ]
  },
  {
   "cell_type": "code",
   "execution_count": 6,
   "metadata": {},
   "outputs": [],
   "source": [
    "# Configurar los parámetros para el cálculo de RQA\n",
    "settings = Settings(time_series,\n",
    "                    analysis_type=Classic,\n",
    "                    similarity_measure=EuclideanMetric,\n",
    "                    neighbourhood=FixedRadius(0.1),  # Ajustar según necesidad\n",
    "                    )"
   ]
  },
  {
   "cell_type": "code",
   "execution_count": 7,
   "metadata": {},
   "outputs": [
    {
     "name": "stderr",
     "output_type": "stream",
     "text": [
      "c:\\Users\\DennysMallqui\\anaconda3\\envs\\nilmtk-env\\lib\\site-packages\\pyopencl\\invoker.py:305: UserWarning: pytools.persistent_dict 'pyopencl-invoker-cache-v41': enabling safe_sync as default. This provides strong protection against data loss, but can be unnecessarily expensive for use cases such as caches.Pass 'safe_sync=False' if occasional data loss is tolerable. Pass 'safe_sync=True' to suppress this warning.\n",
      "  invoker_cache = WriteOncePersistentDict(\n"
     ]
    },
    {
     "data": {
      "image/png": "[encoded data removed]",
      "text/plain": [
       "<Figure size 640x480 with 2 Axes>"
      ]
     },
     "metadata": {},
     "output_type": "display_data"
    }
   ],
   "source": [
    "\n",
    "# Realizar el cálculo de RQA\n",
    "computation = RPComputation.create(settings)\n",
    "result = computation.run()\n",
    "\n",
    "# Generar y mostrar el gráfico recurrente\n",
    "plt.imshow(result.recurrence_matrix_reverse, cmap='binary', origin='lower')\n",
    "plt.colorbar()\n",
    "plt.title('Recurrence Plot')\n",
    "plt.show()"
   ]
  }
 ],
 "metadata": {
  "kernelspec": {
   "display_name": "nilmtk-env",
   "language": "python",
   "name": "python3"
  },
  "language_info": {
   "codemirror_mode": {
    "name": "ipython",
    "version": 3
   },
   "file_extension": ".py",
   "mimetype": "text/x-python",
   "name": "python",
   "nbconvert_exporter": "python",
   "pygments_lexer": "ipython3",
   "version": "3.8.19"
  }
 },
 "nbformat": 4,
 "nbformat_minor": 2
}
